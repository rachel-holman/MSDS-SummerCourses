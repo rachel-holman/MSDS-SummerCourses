{
 "cells": [
  {
   "cell_type": "markdown",
   "id": "e2a0fd22-cc22-498b-827a-e1844125c023",
   "metadata": {
    "tags": []
   },
   "source": [
    "# M07 - In Class Participation \n",
    "## Rachel Holman"
   ]
  },
  {
   "cell_type": "code",
   "execution_count": 1,
   "id": "a7b58647-4edb-47e6-ad71-74552aaee5b4",
   "metadata": {
    "tags": []
   },
   "outputs": [],
   "source": [
    "import numpy as np\n",
    "import pandas as pd"
   ]
  },
  {
   "cell_type": "markdown",
   "id": "b16483c2-8b64-4300-95a1-2e61905a02a7",
   "metadata": {
    "tags": []
   },
   "source": [
    "## Exercise 7.1"
   ]
  },
  {
   "cell_type": "code",
   "execution_count": 2,
   "id": "ce3604af-76d5-45fd-a6ea-b09b183a7169",
   "metadata": {
    "tags": []
   },
   "outputs": [],
   "source": [
    "class Example:\n",
    "    \"\"\"\n",
    "    Docstring goes here!\n",
    "    This class concatinates a static number with a user-defined string\n",
    "    \"\"\"\n",
    "    \n",
    "    attr = 3; #static attribute\n",
    "    \n",
    "    def __init__(self, arg):\n",
    "        self.arg=arg\n",
    "        \n",
    "    def method(self):\n",
    "        self.adtn = str(self.attr) + ' ' + self.arg\n",
    "        print(self.adtn)"
   ]
  },
  {
   "cell_type": "markdown",
   "id": "2ba8f1ed-52bd-4217-8ca0-fee9f366469a",
   "metadata": {
    "tags": []
   },
   "source": [
    "## Exercise 7.2\n",
    "\n"
   ]
  },
  {
   "cell_type": "code",
   "execution_count": 3,
   "id": "8b45a9c5-df13-448a-92e4-eed40bcfac8c",
   "metadata": {
    "tags": []
   },
   "outputs": [
    {
     "name": "stdout",
     "output_type": "stream",
     "text": [
      "3\n",
      "hi\n",
      "3 hi\n"
     ]
    }
   ],
   "source": [
    "usecase = Example(\"hi\")\n",
    "print(usecase.attr)\n",
    "print(usecase.arg)\n",
    "usecase.method()"
   ]
  },
  {
   "cell_type": "markdown",
   "id": "24c7c24f-3a8f-4107-a44d-9cedbd2c92af",
   "metadata": {
    "tags": []
   },
   "source": [
    "## Exercise 7.3"
   ]
  },
  {
   "cell_type": "code",
   "execution_count": 4,
   "id": "d7ff12f3-af48-4501-960e-ab5a1abbde4c",
   "metadata": {
    "tags": []
   },
   "outputs": [],
   "source": [
    "class Student:\n",
    "    \n",
    "    #grades = pd.Series(index=self.assignment)\n",
    "    \n",
    "    def __init__(self, name, userid):\n",
    "        self.name=name\n",
    "        self.userid=userid\n",
    "        self.grades=pd.Series(dtype=float)\n",
    "        \n",
    "    def add_grade(self, assignment, grade):\n",
    "        self.grades.loc[assignment] = grade\n",
    "        \n",
    "    def plotting(self):\n",
    "        self.grades.plot.bar(title=f\"Grades for {self.name} ({self.userid})\")"
   ]
  },
  {
   "cell_type": "code",
   "execution_count": 5,
   "id": "0fd0d81b-f8a4-4777-ba7d-43c8b7a053f5",
   "metadata": {
    "tags": []
   },
   "outputs": [],
   "source": [
    "stu = Student(\"Rachel\",\"dnw9qk\")\n",
    "stu.add_grade(\"homework1\",99)\n",
    "stu.add_grade(\"homework2\",100)\n",
    "stu.add_grade(\"homework3\",95)\n",
    "stu.add_grade(\"homework4\",92)"
   ]
  },
  {
   "cell_type": "code",
   "execution_count": 6,
   "id": "1f91db70-dc30-4ad3-99fe-4ecd3b107f7b",
   "metadata": {
    "tags": []
   },
   "outputs": [
    {
     "data": {
      "text/plain": [
       "homework1     99\n",
       "homework2    100\n",
       "homework3     95\n",
       "homework4     92\n",
       "dtype: int64"
      ]
     },
     "execution_count": 6,
     "metadata": {},
     "output_type": "execute_result"
    }
   ],
   "source": [
    "stu.grades"
   ]
  },
  {
   "cell_type": "code",
   "execution_count": 7,
   "id": "1c7e24e6-45ce-4e5f-a7f7-8a46b10ba704",
   "metadata": {
    "tags": []
   },
   "outputs": [
    {
     "data": {
      "image/png": "[encoded data removed]",
      "text/plain": [
       "<Figure size 640x480 with 1 Axes>"
      ]
     },
     "metadata": {},
     "output_type": "display_data"
    }
   ],
   "source": [
    "stu.plotting()"
   ]
  },
  {
   "cell_type": "code",
   "execution_count": 18,
   "id": "ca64ccf7-fba7-425a-b4cc-fd4925e370e8",
   "metadata": {
    "tags": []
   },
   "outputs": [],
   "source": [
    "num_args = 3\n",
    "assert num_args == 3, \"number of arguments must be 3!\""
   ]
  },
  {
   "cell_type": "code",
   "execution_count": 19,
   "id": "202b62e5-52b0-48fb-92f4-3f0a33d8ed20",
   "metadata": {
    "tags": []
   },
   "outputs": [
    {
     "ename": "ZeroDivisionError",
     "evalue": "division by zero",
     "output_type": "error",
     "traceback": [
      "\u001b[0;31m---------------------------------------------------------------------------\u001b[0m",
      "\u001b[0;31mZeroDivisionError\u001b[0m                         Traceback (most recent call last)",
      "Cell \u001b[0;32mIn[19], line 1\u001b[0m\n\u001b[0;32m----> 1\u001b[0m x \u001b[38;5;241m=\u001b[39m \u001b[38;5;241;43m10\u001b[39;49m\u001b[43m \u001b[49m\u001b[38;5;241;43m/\u001b[39;49m\u001b[43m \u001b[49m\u001b[38;5;241;43m0\u001b[39;49m\n\u001b[1;32m      2\u001b[0m \u001b[38;5;28;01mtry\u001b[39;00m:\n\u001b[1;32m      3\u001b[0m     \u001b[38;5;28mprint\u001b[39m(x)\n",
      "\u001b[0;31mZeroDivisionError\u001b[0m: division by zero"
     ]
    }
   ],
   "source": [
    "x = 10 / 0\n",
    "try:\n",
    "    print(x)\n",
    "except:\n",
    "    print(\"caught an exception\")"
   ]
  },
  {
   "cell_type": "code",
   "execution_count": 20,
   "id": "2be8c5a1-e014-4fa7-8eed-83c7a749b529",
   "metadata": {
    "tags": []
   },
   "outputs": [
    {
     "name": "stdout",
     "output_type": "stream",
     "text": [
      "caught an exception\n"
     ]
    }
   ],
   "source": [
    "x = 10\n",
    "try:\n",
    "    print(x/0)\n",
    "except:\n",
    "    print(\"caught an exception\")"
   ]
  },
  {
   "cell_type": "code",
   "execution_count": null,
   "id": "a1d16d83-5c8e-4116-900c-bfd59a5f91ab",
   "metadata": {},
   "outputs": [],
   "source": []
  }
 ],
 "metadata": {
  "kernelspec": {
   "display_name": "Python 3 (ipykernel)",
   "language": "python",
   "name": "python3"
  },
  "language_info": {
   "codemirror_mode": {
    "name": "ipython",
    "version": 3
   },
   "file_extension": ".py",
   "mimetype": "text/x-python",
   "name": "python",
   "nbconvert_exporter": "python",
   "pygments_lexer": "ipython3",
   "version": "3.10.11"
  }
 },
 "nbformat": 4,
 "nbformat_minor": 5
}

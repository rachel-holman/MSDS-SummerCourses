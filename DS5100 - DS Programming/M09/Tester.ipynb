{
 "cells": [
  {
   "cell_type": "code",
   "execution_count": 14,
   "id": "1d6eebac-b581-4085-9de9-2a9097d71e7c",
   "metadata": {
    "tags": []
   },
   "outputs": [],
   "source": [
    "import bookPackage as book"
   ]
  },
  {
   "cell_type": "code",
   "execution_count": 21,
   "id": "07ceaaad-2511-4bf1-9f0e-1d4a23ecb963",
   "metadata": {
    "tags": []
   },
   "outputs": [],
   "source": [
    "test = book.BookLover(\"Han Solo\", \"hsolo@millenniumfalcon.com\", \"scifi\")"
   ]
  },
  {
   "cell_type": "code",
   "execution_count": 22,
   "id": "f1274c68-7dcf-439f-b6da-8d229c616171",
   "metadata": {
    "tags": []
   },
   "outputs": [],
   "source": [
    "test.add_book(\"War of the Worlds\", 4)"
   ]
  },
  {
   "cell_type": "code",
   "execution_count": 23,
   "id": "b3bbe6c4-fa5e-4d4e-9b18-b468b82941e0",
   "metadata": {
    "tags": []
   },
   "outputs": [
    {
     "name": "stdout",
     "output_type": "stream",
     "text": [
      "           book_name  book_rating\n",
      "0  War of the Worlds          4.0\n"
     ]
    }
   ],
   "source": [
    "print(test.book_list)"
   ]
  },
  {
   "cell_type": "code",
   "execution_count": null,
   "id": "972dc56f-325d-447f-9415-77672e5da653",
   "metadata": {},
   "outputs": [],
   "source": []
  }
 ],
 "metadata": {
  "kernelspec": {
   "display_name": "Python 3 (ipykernel)",
   "language": "python",
   "name": "python3"
  },
  "language_info": {
   "codemirror_mode": {
    "name": "ipython",
    "version": 3
   },
   "file_extension": ".py",
   "mimetype": "text/x-python",
   "name": "python",
   "nbconvert_exporter": "python",
   "pygments_lexer": "ipython3",
   "version": "3.10.11"
  }
 },
 "nbformat": 4,
 "nbformat_minor": 5
}

{
 "cells": [
  {
   "cell_type": "markdown",
   "id": "bbea800c-241d-42b4-a744-ecaffe13959e",
   "metadata": {},
   "source": [
    "# Metadata\n",
    "\n",
    "```yaml\n",
    "Course:  DS 5100\n",
    "Module:  09 Python Packages\n",
    "Topic:   HW Package Booklover\n",
    "Author:  R.C. Alvarado (adapted)\n",
    "Date:    7 July 2023 (revised)\n",
    "```"
   ]
  },
  {
   "cell_type": "markdown",
   "id": "36f46fdd-2405-4dc8-9ea1-33f395e56cc0",
   "metadata": {},
   "source": [
    "# Student Info\n",
    "\n",
    "* Name: Rachel Holman\n",
    "* Net UD: dwn9qk\n",
    "* URL of new repo on GitHub: https://github.com/rachel-holman/DS5100-M9Project/blob/main/hw09.ipynb\n",
    "* URL of M09 directory on Github: https://github.com/rachel-holman/DS5100-dnw9qk/tree/main/lessons/M09"
   ]
  },
  {
   "cell_type": "markdown",
   "id": "375875a8-1503-46eb-8ea1-7e5bf39b5c41",
   "metadata": {},
   "source": [
    "# Instructions\n",
    "\n",
    "In your **private course repo on Rivanna**, use this Jupyter notebook and the data file described to write code that performs the tasks below. \n",
    "\n",
    "Save your notebook in the `M09` directory.\n",
    "\n",
    "Remember to add and commit these files to your repo. \n",
    "\n",
    "Then push your commits to your repo on GitHib.\n",
    "\n",
    "Be sure to fill out the **Student Info** block above.\n",
    "\n",
    "To submit your homework, save your results as a PDF and upload it to GradeScope. More information about how to create the PDF for this assignment are included at the end of this document.\n",
    "\n",
    "**TOTAL POINTS: 8**"
   ]
  },
  {
   "cell_type": "markdown",
   "id": "1baf08dc-35fe-44f1-bc26-7e1130ee993e",
   "metadata": {},
   "source": [
    "# Overview\n",
    "\n",
    "Follow the following recipe we used in class to package the code you wrote for `HW08` -- `booklover.py` and `booklover_test.py`.\n",
    "\n",
    "* Create a new git repo for your package.\n",
    "* Create and edit the required files and directories for your package and move the booklover modules there.\n",
    "* Stage, commit, and push all the files you've created.\n",
    "* Install your package with pip.\n",
    "* Outside of your package dir, write a script to test your method.\n",
    "\n",
    "Put this notebook in your repo. This will allow you to execute bash commands and capture the outpunt directly in the notebook.\n",
    "\n",
    "**TOTAL: 8 POINTS**"
   ]
  },
  {
   "cell_type": "markdown",
   "id": "6e39ba79-49ee-41e8-9e49-23d9d6bac2e0",
   "metadata": {
    "tags": []
   },
   "source": [
    "# Tasks"
   ]
  },
  {
   "cell_type": "markdown",
   "id": "fb11de14",
   "metadata": {},
   "source": [
    "## Task 1\n",
    "\n",
    "(5 points)\n",
    "\n",
    "Show the directory structure of your repo by running this command from the root of your repo:"
   ]
  },
  {
   "cell_type": "code",
   "execution_count": 1,
   "id": "7e6c6607",
   "metadata": {
    "tags": []
   },
   "outputs": [
    {
     "name": "stdout",
     "output_type": "stream",
     "text": [
      "total 40\n",
      "-rw-r--r--  1 rachelholman  staff    59 Jul 31 10:11 README.md\n",
      "drwxr-xr-x  8 rachelholman  staff   256 Jul 31 11:20 \u001b[34mbookPackage\u001b[m\u001b[m\n",
      "drwxr-xr-x@ 7 rachelholman  staff   224 Jul 31 11:50 \u001b[34mbookPackage.egg-info\u001b[m\u001b[m\n",
      "-rw-r--r--@ 1 rachelholman  staff  9563 Jul 31 12:07 hw09.ipynb\n",
      "-rw-r--r--@ 1 rachelholman  staff   393 Jul 31 10:53 setup.py\n",
      "\n",
      "./bookPackage:\n",
      "total 32\n",
      "-rw-r--r--@ 1 rachelholman  staff    25 Jul 31 11:20 __init__.py\n",
      "drwxr-xr-x@ 4 rachelholman  staff   128 Jul 31 11:20 \u001b[34m__pycache__\u001b[m\u001b[m\n",
      "-rw-r--r--  1 rachelholman  staff  2543 Jul 31 10:11 booklover.py\n",
      "-rw-r--r--  1 rachelholman  staff   423 Jul 31 10:11 booklover_results.txt\n",
      "-rw-r--r--  1 rachelholman  staff  3221 Jul 31 10:11 booklover_test.py\n",
      "\n",
      "./bookPackage/__pycache__:\n",
      "total 16\n",
      "-rw-r--r--@ 1 rachelholman  staff   242 Jul 31 11:20 __init__.cpython-310.pyc\n",
      "-rw-r--r--@ 1 rachelholman  staff  2643 Jul 31 11:20 booklover.cpython-310.pyc\n",
      "\n",
      "./bookPackage.egg-info:\n",
      "total 40\n",
      "-rw-r--r--@ 1 rachelholman  staff  239 Jul 31 11:50 PKG-INFO\n",
      "-rw-r--r--@ 1 rachelholman  staff  271 Jul 31 11:50 SOURCES.txt\n",
      "-rw-r--r--@ 1 rachelholman  staff    1 Jul 31 11:50 dependency_links.txt\n",
      "-rw-r--r--@ 1 rachelholman  staff   13 Jul 31 11:50 requires.txt\n",
      "-rw-r--r--@ 1 rachelholman  staff   12 Jul 31 11:50 top_level.txt\n"
     ]
    }
   ],
   "source": [
    "!ls -lR"
   ]
  },
  {
   "cell_type": "markdown",
   "id": "6b6f288b-05aa-441b-8c73-84b50b3b6844",
   "metadata": {},
   "source": [
    "## Task 2\n",
    "\n",
    "(1 point)\n",
    "\n",
    "Put the URL of your GitHub repo here. Just paste it into a Markdown cell."
   ]
  },
  {
   "cell_type": "markdown",
   "id": "4d09d889-6104-4f20-b31c-2d8a72b17693",
   "metadata": {},
   "source": [
    "URL: https://github.com/rachel-holman/DS5100-M9Project"
   ]
  },
  {
   "cell_type": "markdown",
   "id": "f989dcd1-b1d2-4eb9-8ef6-8ca2d8495260",
   "metadata": {
    "lines_to_next_cell": 0
   },
   "source": [
    "## Task 3\n",
    "\n",
    "(1 point)\n",
    "\n",
    "Show the results of installing your package.\n",
    "\n",
    "```bash\n",
    "!pip install -e .\n",
    "```"
   ]
  },
  {
   "cell_type": "code",
   "execution_count": 2,
   "id": "c6fb5df1-7706-4dbe-b9d6-7a4ebc298eea",
   "metadata": {
    "tags": []
   },
   "outputs": [
    {
     "name": "stdout",
     "output_type": "stream",
     "text": [
      "Obtaining file:///Users/rachelholman/Desktop/MSDS/DS5100%20-%20DS%20Programming/DS5100-dnw9qk/lessons/M09/DS5100-M9Project\n",
      "  Preparing metadata (setup.py) ... \u001b[?25ldone\n",
      "\u001b[?25hRequirement already satisfied: pandas in /Users/rachelholman/anaconda3/lib/python3.10/site-packages (from bookPackage==1.0) (1.5.3)\n",
      "Requirement already satisfied: numpy in /Users/rachelholman/anaconda3/lib/python3.10/site-packages (from bookPackage==1.0) (1.23.5)\n",
      "Requirement already satisfied: python-dateutil>=2.8.1 in /Users/rachelholman/anaconda3/lib/python3.10/site-packages (from pandas->bookPackage==1.0) (2.8.2)\n",
      "Requirement already satisfied: pytz>=2020.1 in /Users/rachelholman/anaconda3/lib/python3.10/site-packages (from pandas->bookPackage==1.0) (2023.3)\n",
      "Requirement already satisfied: six>=1.5 in /Users/rachelholman/anaconda3/lib/python3.10/site-packages (from python-dateutil>=2.8.1->pandas->bookPackage==1.0) (1.16.0)\n",
      "Installing collected packages: bookPackage\n",
      "  Attempting uninstall: bookPackage\n",
      "    Found existing installation: bookPackage 1.0\n",
      "    Uninstalling bookPackage-1.0:\n",
      "      Successfully uninstalled bookPackage-1.0\n",
      "  Running setup.py develop for bookPackage\n",
      "Successfully installed bookPackage-1.0\n"
     ]
    }
   ],
   "source": [
    "!pip install -e ."
   ]
  },
  {
   "cell_type": "markdown",
   "id": "5b1a642e-74f0-43ff-97a3-9ddc7553978e",
   "metadata": {},
   "source": [
    "## Task 4\n",
    "\n",
    "(1 point)\n",
    "\n",
    "Create a file outside your repo to test your package by running it.\n",
    "\n",
    "To do this, import the package into your file and create a BookLover object.\n",
    "\n",
    "Then add a book and then print number books read.\n",
    "\n",
    "Then run the file. \n",
    "\n",
    "Show the output of running the file below, using a command like the following:\n",
    "\n",
    "```bash\n",
    "!python ../book_lover_demo.py\n",
    "```"
   ]
  },
  {
   "cell_type": "markdown",
   "id": "cdce82cb-95e2-4104-918f-6a1bc7800b44",
   "metadata": {},
   "source": [
    "#### Code in Tester.py:\n",
    "\n",
    "```python\n",
    "import bookPackage as book\n",
    "\n",
    "test_object = book.BookLover(\"Han Solo\", \"hsolo@millenniumfalcon.com\", \"scifi\")\n",
    "test_object.add_book(\"War of the Worlds\", 4)\n",
    "print(test_object.num_books_read())\n",
    "```\n",
    "\n",
    "#### Output:"
   ]
  },
  {
   "cell_type": "code",
   "execution_count": 3,
   "id": "5924fca8-6483-4f2b-a33f-6550d1726d6e",
   "metadata": {
    "tags": []
   },
   "outputs": [
    {
     "name": "stdout",
     "output_type": "stream",
     "text": [
      "1\n"
     ]
    }
   ],
   "source": [
    "!python \"/Users/rachelholman/Desktop/MSDS/DS5100 - DS Programming/DS5100-dnw9qk/lessons/M09/Tester.py\""
   ]
  }
 ],
 "metadata": {
  "jupytext": {
   "cell_metadata_filter": "-all",
   "main_language": "bash",
   "notebook_metadata_filter": "-all"
  },
  "kernelspec": {
   "display_name": "Python 3 (ipykernel)",
   "language": "python",
   "name": "python3"
  },
  "language_info": {
   "codemirror_mode": {
    "name": "ipython",
    "version": 3
   },
   "file_extension": ".py",
   "mimetype": "text/x-python",
   "name": "python",
   "nbconvert_exporter": "python",
   "pygments_lexer": "ipython3",
   "version": "3.10.11"
  },
  "vscode": {
   "interpreter": {
    "hash": "c3b963de08c47c3b6758389c5e0978ad73698a111eb508d4e16b558edb8f4cbf"
   }
  },
  "widgets": {
   "application/vnd.jupyter.widget-state+json": {
    "state": {},
    "version_major": 2,
    "version_minor": 0
   }
  }
 },
 "nbformat": 4,
 "nbformat_minor": 5
}

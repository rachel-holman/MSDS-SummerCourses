{
 "cells": [
  {
   "cell_type": "markdown",
   "id": "63d1269e-6bda-4378-9da9-6977906f4876",
   "metadata": {
    "tags": []
   },
   "source": [
    "# M04 - In Class Participation \n",
    "## Rachel Holman"
   ]
  },
  {
   "cell_type": "markdown",
   "id": "d5df7af4-ff3b-4962-aebf-b99df2a3fb1a",
   "metadata": {},
   "source": [
    "## Exercise 4.1\n",
    "\n",
    "write function with:\n",
    "- sensible name\n",
    "- docstring\n",
    "- takes in a string and an int\n",
    "- returns true if the string length == the int, false otherwise"
   ]
  },
  {
   "cell_type": "code",
   "execution_count": 1,
   "id": "7281c97f-1ecb-4143-87f7-04843ef64e58",
   "metadata": {
    "tags": []
   },
   "outputs": [
    {
     "data": {
      "text/plain": [
       "True"
      ]
     },
     "execution_count": 1,
     "metadata": {},
     "output_type": "execute_result"
    }
   ],
   "source": [
    "sentence = \"if this text the right length?\"\n",
    "integer1 = 30\n",
    "\n",
    "def length_checker(line, num):\n",
    "    '''\n",
    "    PURPOSE: check if the length of a string is equal to a number \n",
    "    \n",
    "    INPUTS\n",
    "    line string \n",
    "    num integer \n",
    "    \n",
    "    OUTPUT\n",
    "    check boolean\n",
    "    '''\n",
    "    return len(line) == num\n",
    "\n",
    "length_checker(sentence, integer1)"
   ]
  },
  {
   "cell_type": "code",
   "execution_count": 2,
   "id": "69cf0de9-e7da-4bfe-bc90-b67f64910722",
   "metadata": {
    "tags": []
   },
   "outputs": [
    {
     "data": {
      "text/plain": [
       "False"
      ]
     },
     "execution_count": 2,
     "metadata": {},
     "output_type": "execute_result"
    }
   ],
   "source": [
    "length_checker(sentence, 12)"
   ]
  },
  {
   "cell_type": "markdown",
   "id": "bf7ed489-38b1-4ea3-91d6-198e31fe1487",
   "metadata": {},
   "source": [
    "## Exercise 4.2\n",
    "\n",
    "write function that \n",
    "- takes *args for the input argument\n",
    "- squares each argument, printing the value (use a for loop)\n",
    "- return none\n",
    "\n",
    "call function and pass at least 2 ints"
   ]
  },
  {
   "cell_type": "code",
   "execution_count": 3,
   "id": "c44b01b4-ddce-4e9e-9b9c-86ca30917152",
   "metadata": {
    "tags": []
   },
   "outputs": [
    {
     "name": "stdout",
     "output_type": "stream",
     "text": [
      "4\n",
      "49\n"
     ]
    }
   ],
   "source": [
    "def square_nums(*args):\n",
    "    for arg in args:\n",
    "        print(arg**2)\n",
    "\n",
    "square_nums(2,7)"
   ]
  },
  {
   "cell_type": "code",
   "execution_count": 4,
   "id": "ad073ae8-ef59-4a63-b8fb-66c77360ff3c",
   "metadata": {
    "tags": []
   },
   "outputs": [
    {
     "name": "stdout",
     "output_type": "stream",
     "text": [
      "100\n",
      "10000\n",
      "400\n",
      "9\n",
      "361\n"
     ]
    }
   ],
   "source": [
    "list_o_nums = [10,100,20,3,19]\n",
    "square_nums(*list_o_nums)"
   ]
  },
  {
   "cell_type": "markdown",
   "id": "77dff742-956f-431c-98fd-5f68fe61c5fa",
   "metadata": {},
   "source": [
    "## Exercise 4.3\n",
    "\n",
    "write function that shortens long word with same first and last letter capitalized, and replaces middle letters with the number of middle letters"
   ]
  },
  {
   "cell_type": "code",
   "execution_count": 5,
   "id": "eb03b02d-d649-423d-b436-5e42cc78a941",
   "metadata": {
    "tags": []
   },
   "outputs": [],
   "source": [
    "def word_shortener(long_word, min_length=3):\n",
    "    '''\n",
    "    PURPOSE: convert long word into wors with internal letters replaced by their count\n",
    "    \n",
    "    INPUT:\n",
    "    long_word str\n",
    "    min_length int\n",
    "    \n",
    "    OUTPUT:\n",
    "    short_word str\n",
    "    '''\n",
    "    \n",
    "    if len(long_word) >= min_length and isinstance(long_word, str):\n",
    "        return long_word[0].upper() + str((len(long_word)-2)) + long_word[len(long_word)-1].upper()\n",
    "    else:\n",
    "        print(\"the word entered is either too short, or not a string\")"
   ]
  },
  {
   "cell_type": "code",
   "execution_count": 6,
   "id": "ea389f12-5cae-4401-b3eb-82788164c903",
   "metadata": {
    "tags": []
   },
   "outputs": [
    {
     "data": {
      "text/plain": [
       "'I18N'"
      ]
     },
     "execution_count": 6,
     "metadata": {},
     "output_type": "execute_result"
    }
   ],
   "source": [
    "word = \"internationalization\"\n",
    "word_shortener(word)"
   ]
  },
  {
   "cell_type": "code",
   "execution_count": 7,
   "id": "de35b04f-9378-4b3e-bf1b-4508a8945f75",
   "metadata": {
    "tags": []
   },
   "outputs": [
    {
     "data": {
      "text/plain": [
       "'W2D'"
      ]
     },
     "execution_count": 7,
     "metadata": {},
     "output_type": "execute_result"
    }
   ],
   "source": [
    "word_shortener(\"word\")"
   ]
  },
  {
   "cell_type": "code",
   "execution_count": 8,
   "id": "8435bb8a-27eb-4cb5-aa6c-3a2289410eda",
   "metadata": {
    "tags": []
   },
   "outputs": [
    {
     "name": "stdout",
     "output_type": "stream",
     "text": [
      "the word entered is either too short, or not a string\n"
     ]
    }
   ],
   "source": [
    "word_shortener(\"hi\")"
   ]
  },
  {
   "cell_type": "code",
   "execution_count": 9,
   "id": "1bec951b-cae1-47d2-bedb-2c1212dbf725",
   "metadata": {
    "tags": []
   },
   "outputs": [
    {
     "name": "stdout",
     "output_type": "stream",
     "text": [
      "the word entered is either too short, or not a string\n"
     ]
    }
   ],
   "source": [
    "word_shortener(\"hello\", 7)"
   ]
  },
  {
   "cell_type": "markdown",
   "id": "bb9c0403-1b48-4634-b147-91516af32f9d",
   "metadata": {},
   "source": [
    "## Exercise 4.4\n",
    "\n",
    "define function with 1 numeric val input, subtract 5 from val, return 1 if difference is nonnegative (else 0)"
   ]
  },
  {
   "cell_type": "code",
   "execution_count": 10,
   "id": "1a52d268-749a-4d7c-8e28-09284e564486",
   "metadata": {
    "tags": []
   },
   "outputs": [],
   "source": [
    "new_number = lambda x : int(x - 5 >= 0)"
   ]
  },
  {
   "cell_type": "code",
   "execution_count": 11,
   "id": "202a2c11-ec3c-4356-ab7c-5f20b040be98",
   "metadata": {
    "tags": []
   },
   "outputs": [
    {
     "data": {
      "text/plain": [
       "0"
      ]
     },
     "execution_count": 11,
     "metadata": {},
     "output_type": "execute_result"
    }
   ],
   "source": [
    "new_number(4)"
   ]
  },
  {
   "cell_type": "code",
   "execution_count": 12,
   "id": "de1f4924-088f-4786-a428-2a7bc527229e",
   "metadata": {
    "tags": []
   },
   "outputs": [
    {
     "data": {
      "text/plain": [
       "1"
      ]
     },
     "execution_count": 12,
     "metadata": {},
     "output_type": "execute_result"
    }
   ],
   "source": [
    "new_number(5)"
   ]
  },
  {
   "cell_type": "code",
   "execution_count": 13,
   "id": "d884b8c6-21c7-4f31-89d5-2ca0f28132bd",
   "metadata": {
    "tags": []
   },
   "outputs": [
    {
     "data": {
      "text/plain": [
       "1"
      ]
     },
     "execution_count": 13,
     "metadata": {},
     "output_type": "execute_result"
    }
   ],
   "source": [
    "new_number(8)"
   ]
  },
  {
   "cell_type": "code",
   "execution_count": 14,
   "id": "702e314a-e337-41b9-ae68-4f08038d92ce",
   "metadata": {
    "tags": []
   },
   "outputs": [
    {
     "data": {
      "text/plain": [
       "0"
      ]
     },
     "execution_count": 14,
     "metadata": {},
     "output_type": "execute_result"
    }
   ],
   "source": [
    "new_number(0)"
   ]
  },
  {
   "cell_type": "markdown",
   "id": "add5bfda-bb2c-49cb-9f05-8e8c57e66fb3",
   "metadata": {},
   "source": [
    "## Exercise 4.5\n",
    "\n",
    "Define a function to define and print variable\n",
    "\n",
    "Show that calling this variable outside the function produces an error"
   ]
  },
  {
   "cell_type": "code",
   "execution_count": 32,
   "id": "46c468ff-c1d4-4e16-ae16-351c4c76aa84",
   "metadata": {
    "tags": []
   },
   "outputs": [
    {
     "name": "stdout",
     "output_type": "stream",
     "text": [
      "7\n"
     ]
    }
   ],
   "source": [
    "def tester():\n",
    "    x= 7\n",
    "    print(x)\n",
    "tester()"
   ]
  },
  {
   "cell_type": "code",
   "execution_count": 33,
   "id": "5547441a-4155-4c73-8744-e5a82e85dd60",
   "metadata": {
    "tags": []
   },
   "outputs": [
    {
     "ename": "NameError",
     "evalue": "name 'x' is not defined",
     "output_type": "error",
     "traceback": [
      "\u001b[0;31m---------------------------------------------------------------------------\u001b[0m",
      "\u001b[0;31mNameError\u001b[0m                                 Traceback (most recent call last)",
      "Cell \u001b[0;32mIn[33], line 1\u001b[0m\n\u001b[0;32m----> 1\u001b[0m \u001b[38;5;28mprint\u001b[39m(\u001b[43mx\u001b[49m)\n",
      "\u001b[0;31mNameError\u001b[0m: name 'x' is not defined"
     ]
    }
   ],
   "source": [
    "print(x)"
   ]
  },
  {
   "cell_type": "markdown",
   "id": "82f965b5-b94c-4bba-9862-a4092f202768",
   "metadata": {},
   "source": [
    "## Exercise 4.6\n",
    "\n",
    "use lambda function to see if val us in range x>=10 and x <=20"
   ]
  },
  {
   "cell_type": "code",
   "execution_count": 15,
   "id": "c1f079f8-3e9b-4c51-ad67-bf6788ff23d9",
   "metadata": {
    "tags": []
   },
   "outputs": [],
   "source": [
    "btwn10_20 = lambda x: x >= 10 and x <= 20"
   ]
  },
  {
   "cell_type": "code",
   "execution_count": 16,
   "id": "320b4dd8-d483-435b-a64d-9402d6612208",
   "metadata": {
    "tags": []
   },
   "outputs": [
    {
     "data": {
      "text/plain": [
       "True"
      ]
     },
     "execution_count": 16,
     "metadata": {},
     "output_type": "execute_result"
    }
   ],
   "source": [
    "btwn10_20(13)"
   ]
  },
  {
   "cell_type": "code",
   "execution_count": 17,
   "id": "3b3b0748-bedb-4efb-a044-a401ad0d0318",
   "metadata": {
    "tags": []
   },
   "outputs": [
    {
     "data": {
      "text/plain": [
       "False"
      ]
     },
     "execution_count": 17,
     "metadata": {},
     "output_type": "execute_result"
    }
   ],
   "source": [
    "btwn10_20(5)"
   ]
  },
  {
   "cell_type": "code",
   "execution_count": 18,
   "id": "1d6ecc94-ca9a-43bc-b0a7-9696940d0236",
   "metadata": {
    "tags": []
   },
   "outputs": [
    {
     "data": {
      "text/plain": [
       "True"
      ]
     },
     "execution_count": 18,
     "metadata": {},
     "output_type": "execute_result"
    }
   ],
   "source": [
    "btwn10_20(20)"
   ]
  },
  {
   "cell_type": "markdown",
   "id": "b6287b04-bcf4-4213-b19d-b3a7b94cc29e",
   "metadata": {},
   "source": [
    "## Exercise 4.7\n",
    "\n",
    "we skipped this in class..."
   ]
  },
  {
   "cell_type": "markdown",
   "id": "50573574-083d-45e6-a25b-45fef1c05243",
   "metadata": {
    "jp-MarkdownHeadingCollapsed": true,
    "tags": []
   },
   "source": [
    "## Exercise 4.8\n",
    "\n",
    "we skipped this in class..."
   ]
  },
  {
   "cell_type": "markdown",
   "id": "30f2dc9b-3b63-44a2-ba2c-3aa5f460a415",
   "metadata": {},
   "source": [
    "## Exercise 4.9\n"
   ]
  },
  {
   "cell_type": "code",
   "execution_count": 19,
   "id": "e68e9d3e-3dec-44b6-a430-eb5b620d4878",
   "metadata": {
    "tags": []
   },
   "outputs": [],
   "source": [
    "c2f = lambda c : 1.8*c + 32\n",
    "\n",
    "f2c = lambda f : (f-32)/1.8\n",
    "\n",
    "t2t = lambda temp, val: {'c': f2c(temp), 'f': c2f(temp)}[val]"
   ]
  },
  {
   "cell_type": "code",
   "execution_count": 20,
   "id": "d4ead764-e1d6-448c-b004-a6e8ac26596c",
   "metadata": {
    "tags": []
   },
   "outputs": [
    {
     "name": "stdout",
     "output_type": "stream",
     "text": [
      "113.0\n"
     ]
    }
   ],
   "source": [
    "f = t2t(45, 'f')\n",
    "print(f)"
   ]
  },
  {
   "cell_type": "code",
   "execution_count": 21,
   "id": "22d6097c-9d28-4e0c-a282-43eeb9b13de9",
   "metadata": {
    "tags": []
   },
   "outputs": [
    {
     "name": "stdout",
     "output_type": "stream",
     "text": [
      "7.222222222222222\n"
     ]
    }
   ],
   "source": [
    "c = t2t(45, 'c')\n",
    "print(c)"
   ]
  },
  {
   "cell_type": "code",
   "execution_count": 22,
   "id": "125d5139-26bd-4883-a1ae-b98384cd4c00",
   "metadata": {
    "tags": []
   },
   "outputs": [
    {
     "name": "stdout",
     "output_type": "stream",
     "text": [
      "32.0\n"
     ]
    }
   ],
   "source": [
    "f = t2t(0, 'f')\n",
    "print(f)"
   ]
  },
  {
   "cell_type": "code",
   "execution_count": 23,
   "id": "4f24ceda-2789-4f31-b271-e9cfca9ce815",
   "metadata": {
    "tags": []
   },
   "outputs": [
    {
     "name": "stdout",
     "output_type": "stream",
     "text": [
      "100.0\n"
     ]
    }
   ],
   "source": [
    "c = t2t(212, 'c')\n",
    "print(c)"
   ]
  },
  {
   "cell_type": "markdown",
   "id": "19057f12-32d4-4415-918c-30731809449d",
   "metadata": {
    "tags": []
   },
   "source": [
    "## Exercise 4.10\n",
    "\n",
    "Fibonacci sequence"
   ]
  },
  {
   "cell_type": "code",
   "execution_count": 36,
   "id": "57db3157-24a5-42a8-b3c7-6132921dc93c",
   "metadata": {
    "tags": []
   },
   "outputs": [],
   "source": [
    "def Fibonacci(n):\n",
    "    # If n is negative\n",
    "    if n < 0:\n",
    "        print(\"Incorrect input. Value must be 0 or greater.\")\n",
    "\n",
    "    # If n is 0\n",
    "    elif n == 0:\n",
    "        return 0\n",
    "\n",
    "    # If n is 1 or 2\n",
    "    elif n == 1 or n == 2:\n",
    "        return 1\n",
    "\n",
    "    else:\n",
    "        return Fibonacci(n - 1) + Fibonacci(n - 2)"
   ]
  },
  {
   "cell_type": "code",
   "execution_count": 39,
   "id": "efe0995c-f314-449c-aa9e-7dedc87ef76b",
   "metadata": {
    "tags": []
   },
   "outputs": [
    {
     "data": {
      "text/plain": [
       "[0, 1, 1, 2, 3, 5, 8, 13, 21, 34, 55]"
      ]
     },
     "execution_count": 39,
     "metadata": {},
     "output_type": "execute_result"
    }
   ],
   "source": [
    "[Fibonacci(n) for n in range(0,11)]"
   ]
  },
  {
   "cell_type": "markdown",
   "id": "06b2ecef-e728-4dc9-8c2c-f62b50a1856b",
   "metadata": {
    "tags": []
   },
   "source": [
    "## Exercise 4.11\n",
    "\n",
    "Make a MadLib!"
   ]
  },
  {
   "cell_type": "code",
   "execution_count": 46,
   "id": "51928bbb-2c4d-4fe3-9364-620175aa0ba6",
   "metadata": {
    "tags": []
   },
   "outputs": [
    {
     "name": "stdin",
     "output_type": "stream",
     "text": [
      "Enter an adjective: gorgeous\n",
      "Enter a plural noun: bugs\n",
      "Enter a noun: woman\n",
      "Enter an adverb: sneakily\n",
      "Enter a number: 93\n",
      "Enter a past-tense verb: ate\n",
      "Enter an -est adjective: wildest\n",
      "Enter a past-tense verb: drove\n",
      "Enter an adverb: easily\n",
      "Enter an adjective: goofy\n"
     ]
    },
    {
     "name": "stdout",
     "output_type": "stream",
     "text": [
      "Today, my fabulous camp group went to a (an) gorgeous amusement park. It was a fun park with lots of cool bugs and enjoyable play structures. When we got there, my kind counselor shouted loudly, \"Everybody off the woman.\" We all pushed out in a terrible hurry. My counselor handed out yellow tickets, and we scurried in. I was so excited! I couldn't figure out what exciting thing to do first. I saw a scary rollercoaster I really liked so, I sneakily ran over to get in the long line that had about 93 people in it. When I finally got on the roller coaster I was ate. In fact I was so nervous my two knees were knocking together. This was the wildest ride I had ever been on! In about two minutes I heard the crank and grinding of the gears. That’s when the ride began! When I got to the bottom,I was a little drove but I was proud of myself. The rest of the day went easily. It was a(n) goofy day at the fun park.\n"
     ]
    }
   ],
   "source": [
    "adj = input(\"Enter an adjective:\")\n",
    "pnoun = input(\"Enter a plural noun:\")\n",
    "noun = input(\"Enter a noun:\")\n",
    "col = input(\"Enter a color:\")\n",
    "adv = input(\"Enter an adverb:\")\n",
    "num = input(\"Enter a number:\")\n",
    "adj2 = input(\"Enter an adjective:\")\n",
    "estadj = input(\"Enter an -est adjective:\")\n",
    "adj3 = input(\"Enter an adjective:\")\n",
    "adv2 = input(\"Enter an adverb:\")\n",
    "adj4 = input(\"Enter an adjective:\")\n",
    "\n",
    "\n",
    "madlib = f\"Today, my fabulous camp group went to a (an) \\\n",
    "{adj} amusement park. It was a fun park with lots of cool \\\n",
    "{pnoun} and enjoyable play structures. When we got there, \\\n",
    "my kind counselor shouted loudly, \\\"Everybody off the {noun}.\\\" \\\n",
    "We all pushed out in a terrible hurry. My counselor handed out \\\n",
    "{col} tickets, and we scurried in. I was so excited! I couldn't \\\n",
    "figure out what exciting thing to do first. I saw a scary rollercoaster \\\n",
    "I really liked so, I {adv} ran over to get in the long line that had about \\\n",
    "{num} people in it. When I finally got on the roller coaster I was {adj2}. \\\n",
    "In fact I was so nervous my two knees were knocking together. \\\n",
    "This was the {estadj} ride I had ever been on! In about two minutes \\\n",
    "I heard the crank and grinding of the gears. That’s when the ride began! \\\n",
    "When I got to the bottom,I was a little {adj3} but I was proud of myself. \\\n",
    "The rest of the day went {adv2}. It was a(n) {adj4} day at the fun park.\"\n",
    "\n",
    "print(madlib)"
   ]
  },
  {
   "cell_type": "code",
   "execution_count": null,
   "id": "7cd9c4fc-ee13-41c1-a4a1-0d248979e11f",
   "metadata": {},
   "outputs": [],
   "source": []
  }
 ],
 "metadata": {
  "kernelspec": {
   "display_name": "Python 3 (ipykernel)",
   "language": "python",
   "name": "python3"
  },
  "language_info": {
   "codemirror_mode": {
    "name": "ipython",
    "version": 3
   },
   "file_extension": ".py",
   "mimetype": "text/x-python",
   "name": "python",
   "nbconvert_exporter": "python",
   "pygments_lexer": "ipython3",
   "version": "3.10.11"
  }
 },
 "nbformat": 4,
 "nbformat_minor": 5
}

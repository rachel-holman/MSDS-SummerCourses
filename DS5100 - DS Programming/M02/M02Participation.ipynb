{
 "cells": [
  {
   "cell_type": "markdown",
   "id": "6dbf5522-8c4d-4d85-93c5-286d68a8c3ee",
   "metadata": {},
   "source": [
    "# M02 - In Class Participation \n",
    "## Rachel Holman\n"
   ]
  },
  {
   "cell_type": "markdown",
   "id": "5c7a7868-82f1-4115-a4bf-16bebc86b080",
   "metadata": {},
   "source": [
    "## Exercise 2.1\n",
    "Define a string with length >= 6 and print:\n",
    "\n",
    "- the first 3 characters of the string\n",
    "- the last 3 characters of the string"
   ]
  },
  {
   "cell_type": "code",
   "execution_count": 1,
   "id": "40ba1691-39c6-4d26-98cc-61f6183b0582",
   "metadata": {
    "tags": []
   },
   "outputs": [
    {
     "data": {
      "text/plain": [
       "True"
      ]
     },
     "execution_count": 1,
     "metadata": {},
     "output_type": "execute_result"
    }
   ],
   "source": [
    "word = \"onomatopoeia\"\n",
    "len(word) >= 6"
   ]
  },
  {
   "cell_type": "code",
   "execution_count": 2,
   "id": "27a7f011-9bcf-49df-a1e0-a68bdde2151c",
   "metadata": {
    "tags": []
   },
   "outputs": [
    {
     "data": {
      "text/plain": [
       "'ono'"
      ]
     },
     "execution_count": 2,
     "metadata": {},
     "output_type": "execute_result"
    }
   ],
   "source": [
    "word[0:3]"
   ]
  },
  {
   "cell_type": "code",
   "execution_count": 3,
   "id": "215de6ea-9605-41eb-a64d-f0961d65bbf9",
   "metadata": {
    "tags": []
   },
   "outputs": [
    {
     "data": {
      "text/plain": [
       "'eia'"
      ]
     },
     "execution_count": 3,
     "metadata": {},
     "output_type": "execute_result"
    }
   ],
   "source": [
    "word[len(word)-3:len(word)]"
   ]
  },
  {
   "cell_type": "code",
   "execution_count": 4,
   "id": "e86ca782-a6b3-4d99-a024-c952b5ff8eb2",
   "metadata": {},
   "outputs": [
    {
     "name": "stdout",
     "output_type": "stream",
     "text": [
      "ono\n",
      "eia\n"
     ]
    }
   ],
   "source": [
    "# alternative method\n",
    "print(word[:3])\n",
    "print(word[-3:])"
   ]
  },
  {
   "cell_type": "markdown",
   "id": "d87bf1e0-e133-4e71-8d94-0cbb97fd8431",
   "metadata": {},
   "source": [
    "## Excercise 2.2\n",
    "Create a new list and assign 3 values to it.\n",
    "\n",
    "Then print he second element from the list."
   ]
  },
  {
   "cell_type": "code",
   "execution_count": 5,
   "id": "f6082958-cf16-47b7-9835-78491108c93a",
   "metadata": {
    "tags": []
   },
   "outputs": [
    {
     "name": "stdout",
     "output_type": "stream",
     "text": [
      "item2\n"
     ]
    }
   ],
   "source": [
    "newlist = [\"item1\", \"item2\", \"item3\"]\n",
    "print(newlist[1])"
   ]
  },
  {
   "cell_type": "code",
   "execution_count": 6,
   "id": "38ebc8d8-6468-4ff7-83a1-9f07a87faef8",
   "metadata": {
    "tags": []
   },
   "outputs": [
    {
     "name": "stdout",
     "output_type": "stream",
     "text": [
      "item2\n"
     ]
    }
   ],
   "source": [
    "# alternative method\n",
    "newlist1 = []\n",
    "newlist1.append('item1')\n",
    "newlist1.append('item2')\n",
    "newlist1.append('item3')\n",
    "print(newlist1[1])"
   ]
  },
  {
   "cell_type": "code",
   "execution_count": 7,
   "id": "2d57f61a-72ac-43f2-83d0-a1138bed75e4",
   "metadata": {
    "tags": []
   },
   "outputs": [
    {
     "name": "stdout",
     "output_type": "stream",
     "text": [
      "item2\n"
     ]
    }
   ],
   "source": [
    "# alternative method\n",
    "newlist2 = []\n",
    "newlist2 += ['item1']\n",
    "newlist2 += ['item2', 'item3']\n",
    "print(newlist2[1])"
   ]
  },
  {
   "cell_type": "markdown",
   "id": "bb17cf3b-ef77-4d72-b4bb-740ebaf09546",
   "metadata": {},
   "source": [
    "## Exercise 2.3\n",
    "Create a tuple with 3 values.\n",
    "\n",
    "Then, try to append a fourth value."
   ]
  },
  {
   "cell_type": "code",
   "execution_count": 8,
   "id": "358f5a26-2ba2-4472-b24b-b79226d6e620",
   "metadata": {
    "tags": []
   },
   "outputs": [],
   "source": [
    "tuple1 = (1,2,3)\n",
    "\n",
    "#alternative methods to define tuples\n",
    "tuple2 = 1,2,3\n",
    "tuple3 = tuple([1,2,3])"
   ]
  },
  {
   "cell_type": "code",
   "execution_count": 9,
   "id": "e3da0391-6108-4ffe-a929-0c69960eccd6",
   "metadata": {
    "tags": []
   },
   "outputs": [
    {
     "ename": "AttributeError",
     "evalue": "'tuple' object has no attribute 'append'",
     "output_type": "error",
     "traceback": [
      "\u001b[0;31m---------------------------------------------------------------------------\u001b[0m",
      "\u001b[0;31mAttributeError\u001b[0m                            Traceback (most recent call last)",
      "Cell \u001b[0;32mIn[9], line 1\u001b[0m\n\u001b[0;32m----> 1\u001b[0m \u001b[43mtuple1\u001b[49m\u001b[38;5;241;43m.\u001b[39;49m\u001b[43mappend\u001b[49m(\u001b[38;5;241m4\u001b[39m) \u001b[38;5;66;03m#error\u001b[39;00m\n",
      "\u001b[0;31mAttributeError\u001b[0m: 'tuple' object has no attribute 'append'"
     ]
    }
   ],
   "source": [
    "tuple1.append(4) #error"
   ]
  },
  {
   "cell_type": "markdown",
   "id": "479d97eb-baad-45be-887f-2cc7ed3ae0ee",
   "metadata": {},
   "source": [
    "## Exercise 2.4\n",
    "Assign a value to a string.\n",
    "\n",
    "Define set of strings.\n",
    "\n",
    "Determine if value is in the set."
   ]
  },
  {
   "cell_type": "code",
   "execution_count": 10,
   "id": "fcc8c47b-7f5b-4a0c-819c-db81b06aaa6b",
   "metadata": {
    "tags": []
   },
   "outputs": [],
   "source": [
    "val = \"ERROR\"\n",
    "levels = {'WARN','ERROR','CRITICAL'}"
   ]
  },
  {
   "cell_type": "code",
   "execution_count": 11,
   "id": "c4ee879b-5fe3-454b-872c-0f9d5ea2dd01",
   "metadata": {
    "tags": []
   },
   "outputs": [
    {
     "data": {
      "text/plain": [
       "True"
      ]
     },
     "execution_count": 11,
     "metadata": {},
     "output_type": "execute_result"
    }
   ],
   "source": [
    "val in levels"
   ]
  },
  {
   "cell_type": "markdown",
   "id": "0e61a7ce-9b85-491f-855b-d42b6ce13794",
   "metadata": {},
   "source": [
    "## Exercise 2.5\n",
    "Create a dictionary containing at least 3 key-value pairs.\n",
    "\n",
    "Use get() to index into the dictionary with one of the keys to extract the corresponding value.\n",
    "\n",
    "Then, store the keys in a list and print the list."
   ]
  },
  {
   "cell_type": "code",
   "execution_count": 12,
   "id": "074eac0b-dbd7-4982-8538-933f27e6df49",
   "metadata": {
    "tags": []
   },
   "outputs": [],
   "source": [
    "dict1 = {\n",
    "    'silly': 'goose',\n",
    "    'happy': 'cow',\n",
    "    'big': 'bear'\n",
    "}"
   ]
  },
  {
   "cell_type": "code",
   "execution_count": 13,
   "id": "fcd6017e-05c5-4f50-acfb-b34f24ca64b2",
   "metadata": {
    "tags": []
   },
   "outputs": [
    {
     "name": "stdout",
     "output_type": "stream",
     "text": [
      "dict1[silly] = \" goose \"\n"
     ]
    }
   ],
   "source": [
    "print('dict1[silly] = \\\"', dict1.get('silly'), '\\\"')"
   ]
  },
  {
   "cell_type": "code",
   "execution_count": 14,
   "id": "189f26a6-6206-41c2-bfea-ff5b10405919",
   "metadata": {
    "tags": []
   },
   "outputs": [
    {
     "name": "stdout",
     "output_type": "stream",
     "text": [
      "keys: ['silly', 'happy', 'big']\n"
     ]
    }
   ],
   "source": [
    "keylist = list(dict1.keys())\n",
    "print('keys:', keylist)"
   ]
  },
  {
   "cell_type": "code",
   "execution_count": 15,
   "id": "5a80f62f-504b-4aeb-948e-f925bef87ed5",
   "metadata": {
    "tags": []
   },
   "outputs": [
    {
     "data": {
      "text/plain": [
       "(dict_keys, list)"
      ]
     },
     "execution_count": 15,
     "metadata": {},
     "output_type": "execute_result"
    }
   ],
   "source": [
    "type(dict1.keys()), type(keylist)"
   ]
  },
  {
   "cell_type": "markdown",
   "id": "fc1d447e-6f1b-4fb6-8d11-16de8e105bb7",
   "metadata": {},
   "source": [
    "## Exercise 2.6\n",
    "Convert the following sentence into a set of lowercase words sorted alphabetically.\n",
    "\n",
    "Do not include the punctuation mark in the resulting set.\n",
    "\n",
    "\"The quick brown fox jumped over the lazy dogs.\""
   ]
  },
  {
   "cell_type": "code",
   "execution_count": 16,
   "id": "f160652f-56c7-44cd-a9c0-e1c32f7e6e0c",
   "metadata": {
    "tags": []
   },
   "outputs": [],
   "source": [
    "sentence = \"The quick brown fox jumped over the lazy dogs.\""
   ]
  },
  {
   "cell_type": "code",
   "execution_count": 17,
   "id": "88b25de4-222d-421d-bf82-4d0319a36e9a",
   "metadata": {
    "tags": []
   },
   "outputs": [
    {
     "name": "stdout",
     "output_type": "stream",
     "text": [
      "['brown', 'dogs', 'fox', 'jumped', 'lazy', 'over', 'quick', 'the']\n"
     ]
    }
   ],
   "source": [
    "sentence = sentence.lower().replace('.','')\n",
    "words = sentence.split(' ')\n",
    "wordset = set(words)\n",
    "wordssort = sorted(wordset) #this casts it back into a list\n",
    "print(wordssort)"
   ]
  },
  {
   "cell_type": "code",
   "execution_count": 18,
   "id": "7b817f35-ced9-43b3-af47-0d5a3a32d9c1",
   "metadata": {
    "tags": []
   },
   "outputs": [
    {
     "data": {
      "text/plain": [
       "['brown', 'dogs', 'fox', 'jumped', 'lazy', 'over', 'quick', 'the']"
      ]
     },
     "execution_count": 18,
     "metadata": {},
     "output_type": "execute_result"
    }
   ],
   "source": [
    "# alternative method (one line!)\n",
    "sorted(set(sentence.lower().replace('.','').split(' ')))"
   ]
  },
  {
   "cell_type": "code",
   "execution_count": null,
   "id": "4343be4f-daa4-4e83-bc36-5f8ac68911e8",
   "metadata": {},
   "outputs": [],
   "source": []
  }
 ],
 "metadata": {
  "kernelspec": {
   "display_name": "Python 3 (ipykernel)",
   "language": "python",
   "name": "python3"
  },
  "language_info": {
   "codemirror_mode": {
    "name": "ipython",
    "version": 3
   },
   "file_extension": ".py",
   "mimetype": "text/x-python",
   "name": "python",
   "nbconvert_exporter": "python",
   "pygments_lexer": "ipython3",
   "version": "3.10.11"
  }
 },
 "nbformat": 4,
 "nbformat_minor": 5
}

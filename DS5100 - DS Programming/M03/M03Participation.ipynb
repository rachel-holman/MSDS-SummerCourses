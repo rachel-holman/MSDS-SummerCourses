{
 "cells": [
  {
   "cell_type": "markdown",
   "id": "2c0c3f69-c74c-423a-b558-d26895aa0636",
   "metadata": {
    "tags": []
   },
   "source": [
    "# M03 - In Class Participation \n",
    "## Rachel Holman"
   ]
  },
  {
   "cell_type": "markdown",
   "id": "a6871a22-d3d6-4d76-b1cc-006f8fee1a72",
   "metadata": {},
   "source": [
    "## Exercise 3.1\n",
    "\n",
    "What prints when val=5? How would you fix the problem?\n",
    "\n",
    "5 does not fit any of the if/elif conditions. We can fix it by adding an \"else\" condition."
   ]
  },
  {
   "cell_type": "markdown",
   "id": "596a0e84-a45d-4625-9d93-7d001fca8ad2",
   "metadata": {},
   "source": [
    "## Exercise 3.2\n",
    "\n",
    "- Define list o fintegers xx=[-2,8,0,5,6]\n",
    "- compute the maximum, storing max_val\n",
    "- loops over each value in the list\n",
    "- if the value is less than the max, print the value\n",
    "- otherwise print the string \"max_val\""
   ]
  },
  {
   "cell_type": "code",
   "execution_count": 9,
   "id": "00107b23-f94e-4f9e-bc49-e6837ce29ff7",
   "metadata": {
    "tags": []
   },
   "outputs": [
    {
     "name": "stdout",
     "output_type": "stream",
     "text": [
      "-2\n",
      "max_val\n",
      "0\n",
      "5\n",
      "6\n"
     ]
    }
   ],
   "source": [
    "xx = [-2,8,0,5,6]\n",
    "max_val = max(xx)\n",
    "\n",
    "for i in xx:\n",
    "    if i < max_val:\n",
    "        print(i)\n",
    "    else:\n",
    "        print(\"max_val\")"
   ]
  },
  {
   "cell_type": "code",
   "execution_count": 11,
   "id": "4c5fec14-ff77-4961-99f4-69f32799c0c3",
   "metadata": {
    "tags": []
   },
   "outputs": [
    {
     "name": "stdout",
     "output_type": "stream",
     "text": [
      "-2\n",
      "max_val\n",
      "0\n",
      "5\n",
      "6\n"
     ]
    }
   ],
   "source": [
    "# alternative method\n",
    "for i in xx:\n",
    "    print(i) if i<max_val else print(\"max_val\")"
   ]
  },
  {
   "cell_type": "markdown",
   "id": "13768b90-c991-4e8d-a6bb-ccb164cdaf6c",
   "metadata": {},
   "source": [
    "## Exercise 3.3\n",
    "\n",
    "- set a variable it to 0\n",
    "- set a variable max_iter to 100\n",
    "- while it < max_iter:\n",
    "    - if it = 0 or is divisible by 10, print it.\n",
    "- increase it by 1\n",
    "- quit when it >= max_iter"
   ]
  },
  {
   "cell_type": "code",
   "execution_count": 13,
   "id": "9a665152-86e3-41fc-87c8-ac4c2f5f6d66",
   "metadata": {
    "tags": []
   },
   "outputs": [
    {
     "name": "stdout",
     "output_type": "stream",
     "text": [
      "0\n",
      "10\n",
      "20\n",
      "30\n",
      "40\n",
      "50\n",
      "60\n",
      "70\n",
      "80\n",
      "90\n"
     ]
    }
   ],
   "source": [
    "it = 0\n",
    "max_iter = 100\n",
    "\n",
    "while it < max_iter:\n",
    "    if (it == 0) or (it % 10 == 0):\n",
    "        print(it)\n",
    "    it += 1"
   ]
  },
  {
   "cell_type": "markdown",
   "id": "a6a00464-3565-4ab9-a219-f6430549d2e1",
   "metadata": {},
   "source": [
    "## Exercise 3.4\n",
    "\n",
    "create list of 4 strings that are capitalized proper nouns\n",
    "\n",
    "interate over the strings, lowercase and print them."
   ]
  },
  {
   "cell_type": "code",
   "execution_count": 20,
   "id": "9ae2d120-7494-4d52-89c4-ad5196ddb567",
   "metadata": {
    "tags": []
   },
   "outputs": [
    {
     "name": "stdout",
     "output_type": "stream",
     "text": [
      "rachel\n",
      "taryn\n",
      "reanna\n",
      "ben\n"
     ]
    }
   ],
   "source": [
    "names = [\"Rachel\", \"Taryn\",\"Reanna\",\"Ben\"]\n",
    "\n",
    "for name in names:\n",
    "    print(name.lower())"
   ]
  },
  {
   "cell_type": "code",
   "execution_count": 26,
   "id": "956c8487-6f84-40c4-b6b9-008368b7addb",
   "metadata": {
    "tags": []
   },
   "outputs": [
    {
     "name": "stdout",
     "output_type": "stream",
     "text": [
      "rachel\n",
      "taryn\n",
      "reanna\n",
      "ben\n"
     ]
    }
   ],
   "source": [
    "# alternative method\n",
    "_ = [print(n.lower()) for n in names]"
   ]
  },
  {
   "cell_type": "markdown",
   "id": "300f3373-0792-46e0-8732-cef5532a9181",
   "metadata": {},
   "source": [
    "## Exercise 3.5\n",
    "\n",
    "use the list from before, use iter() and next() to interate and print each string (not lowercased)"
   ]
  },
  {
   "cell_type": "code",
   "execution_count": 65,
   "id": "9fcf26b4-9edc-48f3-8885-4b56f85846ff",
   "metadata": {
    "tags": []
   },
   "outputs": [
    {
     "name": "stdout",
     "output_type": "stream",
     "text": [
      "Rachel\n",
      "Taryn\n",
      "Reanna\n",
      "Ben\n"
     ]
    }
   ],
   "source": [
    "nameit = iter(names)\n",
    "print(next(nameit))\n",
    "print(next(nameit))\n",
    "print(next(nameit))\n",
    "print(next(nameit))"
   ]
  },
  {
   "cell_type": "code",
   "execution_count": 34,
   "id": "138f279a-4076-4114-8abc-8bd33d232c13",
   "metadata": {
    "tags": []
   },
   "outputs": [
    {
     "name": "stdout",
     "output_type": "stream",
     "text": [
      "Rachel\n",
      "Taryn\n",
      "Reanna\n",
      "Ben\n"
     ]
    }
   ],
   "source": [
    "# alternative method\n",
    "for n in iter(names):\n",
    "    print(n)"
   ]
  },
  {
   "cell_type": "markdown",
   "id": "d882a02a-8294-4e55-88bf-413bcf42f295",
   "metadata": {},
   "source": [
    "## Exercise 3.6\n",
    "\n",
    "create dictionary with 2 city names as keys and zip codes as values\n",
    "\n",
    "use a for loop with items() to print each key-value pair"
   ]
  },
  {
   "cell_type": "code",
   "execution_count": 42,
   "id": "ebcf7c6f-838c-4dfb-b2d8-41ee62d35a4b",
   "metadata": {
    "tags": []
   },
   "outputs": [
    {
     "name": "stdout",
     "output_type": "stream",
     "text": [
      "Memphis 38117\n",
      "Charlottesville 22903\n"
     ]
    }
   ],
   "source": [
    "citydict = {\n",
    "    'Memphis': 38117,\n",
    "    'Charlottesville': 22903\n",
    "}\n",
    "\n",
    "for cit, zi in citydict.items():\n",
    "    print(cit, zi)"
   ]
  },
  {
   "cell_type": "code",
   "execution_count": 43,
   "id": "13e91735-6543-4294-8ce0-f4da038b7c81",
   "metadata": {
    "tags": []
   },
   "outputs": [
    {
     "name": "stdout",
     "output_type": "stream",
     "text": [
      "Memphis 38117\n",
      "Charlottesville 22903\n"
     ]
    }
   ],
   "source": [
    "# alternative method\n",
    "_ = [print(cit, zi) for cit, zi in citydict.items()]"
   ]
  },
  {
   "cell_type": "code",
   "execution_count": 45,
   "id": "e56d979c-9cfc-4d95-bf69-a90600069122",
   "metadata": {
    "tags": []
   },
   "outputs": [
    {
     "name": "stdout",
     "output_type": "stream",
     "text": [
      "Memphis 38117\n",
      "Charlottesville 22903\n"
     ]
    }
   ],
   "source": [
    "# alternative method\n",
    "print('\\n'.join([f\"{cit} {zi}\" for cit, zi in citydict.items()]))"
   ]
  },
  {
   "cell_type": "markdown",
   "id": "69a211c7-77b2-4458-b4d2-9dffd6cbab28",
   "metadata": {},
   "source": [
    "## Exercise 3.7\n",
    "\n",
    "use dictionary from previous part. Use a for loop with keys() to print each key value pair"
   ]
  },
  {
   "cell_type": "code",
   "execution_count": 55,
   "id": "22612080-636a-42c7-858d-50a99c251be1",
   "metadata": {
    "tags": []
   },
   "outputs": [
    {
     "name": "stdout",
     "output_type": "stream",
     "text": [
      "Memphis 38117\n",
      "Charlottesville 22903\n"
     ]
    }
   ],
   "source": [
    "for cit in citydict.keys():\n",
    "    print(cit, citydict[cit])"
   ]
  },
  {
   "cell_type": "markdown",
   "id": "2a9ce193-b8e8-4ae0-92f5-8b3eb871dcba",
   "metadata": {},
   "source": [
    "## Exercise 3.8\n",
    "\n",
    "Write a list comprehesion that takes a lost of numeric values and returns a list of their cubes"
   ]
  },
  {
   "cell_type": "code",
   "execution_count": 58,
   "id": "17fbbb48-5bfb-42e3-a927-9c0017186e8a",
   "metadata": {
    "tags": []
   },
   "outputs": [
    {
     "name": "stdout",
     "output_type": "stream",
     "text": [
      "27\n",
      "216\n",
      "8\n",
      "1\n",
      "729\n",
      "-8\n"
     ]
    }
   ],
   "source": [
    "vals = [3,6,2,1,9,-2]\n",
    "\n",
    "_ = [print(val**3) for val in vals]"
   ]
  },
  {
   "cell_type": "markdown",
   "id": "f1267d30-b5fd-4f3d-a2a0-de2d867e29f7",
   "metadata": {},
   "source": [
    "## Exercise 3.9\n",
    "\n",
    "create list of 7 strings with some numbers and some not numbers\n",
    "\n",
    "write a list comprehension that takes the list and returns a list of strings that are numbers"
   ]
  },
  {
   "cell_type": "code",
   "execution_count": 63,
   "id": "552c0100-89fc-4163-8caf-05cfb6a15001",
   "metadata": {
    "tags": []
   },
   "outputs": [
    {
     "data": {
      "text/plain": [
       "['4', '9', '27', '0']"
      ]
     },
     "execution_count": 63,
     "metadata": {},
     "output_type": "execute_result"
    }
   ],
   "source": [
    "lst = ['4', 'apple', 'silly', '9', '27', 'hey', '0']\n",
    "\n",
    "numlst = [l for l in lst if l.isdigit()]\n",
    "numlst"
   ]
  }
 ],
 "metadata": {
  "kernelspec": {
   "display_name": "Python 3 (ipykernel)",
   "language": "python",
   "name": "python3"
  },
  "language_info": {
   "codemirror_mode": {
    "name": "ipython",
    "version": 3
   },
   "file_extension": ".py",
   "mimetype": "text/x-python",
   "name": "python",
   "nbconvert_exporter": "python",
   "pygments_lexer": "ipython3",
   "version": "3.10.11"
  }
 },
 "nbformat": 4,
 "nbformat_minor": 5
}

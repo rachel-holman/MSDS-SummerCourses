{
 "cells": [
  {
   "cell_type": "markdown",
   "id": "83f0e4f7-5f30-44ae-ae13-5ef473c6fb44",
   "metadata": {
    "tags": []
   },
   "source": [
    "# M05 - In Class Participation \n",
    "## Rachel Holman"
   ]
  },
  {
   "cell_type": "code",
   "execution_count": 1,
   "id": "477a90e9-b63b-4d70-855d-6e3f7e907e34",
   "metadata": {
    "tags": []
   },
   "outputs": [],
   "source": [
    "import numpy as np"
   ]
  },
  {
   "cell_type": "markdown",
   "id": "8827bb4f-790f-4e48-a81f-e11d68707d33",
   "metadata": {},
   "source": [
    "## Exercise 5.1\n",
    "\n"
   ]
  },
  {
   "cell_type": "code",
   "execution_count": 2,
   "id": "43bf414e-86c1-4f34-a386-efc155f4806e",
   "metadata": {},
   "outputs": [],
   "source": [
    "#skipped in class"
   ]
  },
  {
   "cell_type": "markdown",
   "id": "56f6a892-a937-460f-adaa-d47d4683de4b",
   "metadata": {},
   "source": [
    "## Exercise 5.2\n",
    "\n"
   ]
  },
  {
   "cell_type": "code",
   "execution_count": 3,
   "id": "81fbe24c-d2ca-48cd-a73e-2db8dba9b998",
   "metadata": {},
   "outputs": [],
   "source": [
    "#skipped in class"
   ]
  },
  {
   "cell_type": "markdown",
   "id": "20d9548a-2998-4bcf-b0a0-5d444064f1a3",
   "metadata": {},
   "source": [
    "## Exercise 5.3\n",
    "\n"
   ]
  },
  {
   "cell_type": "code",
   "execution_count": 4,
   "id": "c3fd7293-924f-4629-9f77-461a51cc7ef1",
   "metadata": {
    "tags": []
   },
   "outputs": [
    {
     "name": "stdout",
     "output_type": "stream",
     "text": [
      "3, 5, 6, 4, 5, 1, 5, 4, 2, 4\n"
     ]
    }
   ],
   "source": [
    "lst = np.random.randint(1, 7, size=10)\n",
    "print(', '.join(lst.astype(str)))"
   ]
  },
  {
   "cell_type": "code",
   "execution_count": 5,
   "id": "20f46e76-729a-4e8b-bbbf-9ef95f973a28",
   "metadata": {
    "tags": []
   },
   "outputs": [
    {
     "name": "stdout",
     "output_type": "stream",
     "text": [
      "5, 3, 1, 4, 1, 1, 3, 1, 4, 5\n"
     ]
    }
   ],
   "source": [
    "lst2 = np.array(np.random.randint(1, 7, size=10), dtype=str)\n",
    "print(', '.join(lst2))"
   ]
  },
  {
   "cell_type": "markdown",
   "id": "46f81a05-235d-4830-bdec-98658409618f",
   "metadata": {},
   "source": [
    "## Exercise 5.4\n",
    "\n"
   ]
  },
  {
   "cell_type": "code",
   "execution_count": 6,
   "id": "407e8f94-1533-48c1-927c-82e25bb082a2",
   "metadata": {
    "tags": []
   },
   "outputs": [
    {
     "data": {
      "text/plain": [
       "int"
      ]
     },
     "execution_count": 6,
     "metadata": {},
     "output_type": "execute_result"
    }
   ],
   "source": [
    "num = np.random.randint(100)\n",
    "type(num)"
   ]
  },
  {
   "cell_type": "code",
   "execution_count": 7,
   "id": "19a25905-8cad-43e1-9f7f-4e149e8d3851",
   "metadata": {
    "tags": []
   },
   "outputs": [
    {
     "data": {
      "text/plain": [
       "numpy.ndarray"
      ]
     },
     "execution_count": 7,
     "metadata": {},
     "output_type": "execute_result"
    }
   ],
   "source": [
    "nums = np.random.randint(1,21,5)\n",
    "type(nums)"
   ]
  },
  {
   "cell_type": "markdown",
   "id": "bb6acc3f-d51a-4e13-949a-3b6ced49b06e",
   "metadata": {},
   "source": [
    "## Exercise 5.5\n",
    "\n"
   ]
  },
  {
   "cell_type": "code",
   "execution_count": 8,
   "id": "f0b3cdeb-0f24-40c1-b07a-88fc62604eaa",
   "metadata": {
    "tags": []
   },
   "outputs": [
    {
     "data": {
      "text/plain": [
       "(array([1., 1., 0., 0., 1., 0., 0., 0., 0., 2.]),\n",
       " array([ 3. ,  4.7,  6.4,  8.1,  9.8, 11.5, 13.2, 14.9, 16.6, 18.3, 20. ]),\n",
       " <BarContainer object of 10 artists>)"
      ]
     },
     "execution_count": 8,
     "metadata": {},
     "output_type": "execute_result"
    },
    {
     "data": {
      "image/png": "[encoded data removed]",
      "text/plain": [
       "<Figure size 640x480 with 1 Axes>"
      ]
     },
     "metadata": {},
     "output_type": "display_data"
    }
   ],
   "source": [
    "from matplotlib.pyplot import hist\n",
    "hist(nums)"
   ]
  },
  {
   "cell_type": "code",
   "execution_count": 9,
   "id": "e6bcfb31-9867-4a4e-96e8-964af21e6761",
   "metadata": {
    "tags": []
   },
   "outputs": [
    {
     "data": {
      "image/png": "[encoded data removed]",
      "text/plain": [
       "<Figure size 640x480 with 1 Axes>"
      ]
     },
     "metadata": {},
     "output_type": "display_data"
    }
   ],
   "source": [
    "hist(nums);"
   ]
  },
  {
   "cell_type": "markdown",
   "id": "6a666412-5cc5-4456-b642-98656a7ade60",
   "metadata": {},
   "source": [
    "## Exercise 5.6\n",
    "\n"
   ]
  },
  {
   "cell_type": "code",
   "execution_count": 10,
   "id": "170b3297-b110-4c39-bfd3-edc4bedb2595",
   "metadata": {
    "tags": []
   },
   "outputs": [
    {
     "data": {
      "text/plain": [
       "array([[ 0.29455531, -2.28440753, -1.25621525],\n",
       "       [-1.32588153,  1.09896157, -0.0373034 ]])"
      ]
     },
     "execution_count": 10,
     "metadata": {},
     "output_type": "execute_result"
    }
   ],
   "source": [
    "arr2d = np.random.randn(2,3)\n",
    "arr2d"
   ]
  },
  {
   "cell_type": "markdown",
   "id": "469ed6eb-1b52-46c5-9f68-58fb9cc39f32",
   "metadata": {},
   "source": [
    "## Exercise 5.7\n",
    "\n"
   ]
  },
  {
   "cell_type": "code",
   "execution_count": 11,
   "id": "0d8c86c9-0e2a-4a40-933a-1b3e73a1ebf3",
   "metadata": {
    "tags": []
   },
   "outputs": [
    {
     "data": {
      "text/plain": [
       "array([[ 0.58911062, -4.56881505, -2.51243051],\n",
       "       [-2.65176305,  2.19792313, -0.07460681]])"
      ]
     },
     "execution_count": 11,
     "metadata": {},
     "output_type": "execute_result"
    }
   ],
   "source": [
    "arr2d*2"
   ]
  },
  {
   "cell_type": "markdown",
   "id": "74a6e190-42c1-40b6-a697-96ea66f1d9a3",
   "metadata": {},
   "source": [
    "## Exercise 5.8\n",
    "\n"
   ]
  },
  {
   "cell_type": "code",
   "execution_count": 12,
   "id": "8d622b85-d611-4175-9601-2ddc6e011d3d",
   "metadata": {
    "tags": []
   },
   "outputs": [
    {
     "data": {
      "text/plain": [
       "array([[ 0.58911062, -4.56881505, -2.51243051],\n",
       "       [-2.65176305,  2.19792313, -0.07460681]])"
      ]
     },
     "execution_count": 12,
     "metadata": {},
     "output_type": "execute_result"
    }
   ],
   "source": [
    "arr2d+arr2d"
   ]
  },
  {
   "cell_type": "markdown",
   "id": "42881c3b-0fd8-4489-b9a1-a3474dfe339d",
   "metadata": {},
   "source": [
    "## Exercise 5.9\n",
    "\n"
   ]
  },
  {
   "cell_type": "code",
   "execution_count": 13,
   "id": "31781b01-1cfa-4cd7-b520-fba9b0a48ffd",
   "metadata": {
    "tags": []
   },
   "outputs": [
    {
     "data": {
      "text/plain": [
       "array([[  3.39494813,  -0.43775027,  -0.79604192],\n",
       "       [ -0.7542152 ,   0.90994993, -26.80720498]])"
      ]
     },
     "execution_count": 13,
     "metadata": {},
     "output_type": "execute_result"
    }
   ],
   "source": [
    "1/arr2d"
   ]
  },
  {
   "cell_type": "markdown",
   "id": "99911128-26c2-4c9e-b168-a3aab5cddcee",
   "metadata": {},
   "source": [
    "## Exercise 5.10\n",
    "\n"
   ]
  },
  {
   "cell_type": "code",
   "execution_count": 14,
   "id": "a1cf21d5-b0f3-4022-8205-f6c29001b4d4",
   "metadata": {
    "tags": []
   },
   "outputs": [
    {
     "data": {
      "text/plain": [
       "array([[0., 0., 0., 0.],\n",
       "       [0., 0., 0., 0.]])"
      ]
     },
     "execution_count": 14,
     "metadata": {},
     "output_type": "execute_result"
    }
   ],
   "source": [
    "a = np.zeros((2,4))\n",
    "a"
   ]
  },
  {
   "cell_type": "code",
   "execution_count": 15,
   "id": "c9c61162-747f-4f85-a2a2-4e100b5440b1",
   "metadata": {
    "tags": []
   },
   "outputs": [
    {
     "data": {
      "text/plain": [
       "array([[1., 1., 1., 1.],\n",
       "       [1., 1., 1., 1.]])"
      ]
     },
     "execution_count": 15,
     "metadata": {},
     "output_type": "execute_result"
    }
   ],
   "source": [
    "b = np.ones((2,4))\n",
    "b"
   ]
  },
  {
   "cell_type": "markdown",
   "id": "c1fc71c4-6129-4996-8e63-a1e4df9a4f57",
   "metadata": {},
   "source": [
    "## Exercise 5.11\n",
    "\n"
   ]
  },
  {
   "cell_type": "code",
   "execution_count": 16,
   "id": "8e6abedf-6cdc-4c2d-b32a-6495e6e26d02",
   "metadata": {
    "tags": []
   },
   "outputs": [
    {
     "data": {
      "text/plain": [
       "array([[1., 0., 0., 0.],\n",
       "       [0., 1., 0., 0.],\n",
       "       [0., 0., 1., 0.],\n",
       "       [0., 0., 0., 1.]])"
      ]
     },
     "execution_count": 16,
     "metadata": {},
     "output_type": "execute_result"
    }
   ],
   "source": [
    "i = np.identity(4)\n",
    "i"
   ]
  },
  {
   "cell_type": "markdown",
   "id": "d2d48084-1cef-4a0a-a019-eab7616d4f28",
   "metadata": {},
   "source": [
    "## Exercise 5.12\n",
    "\n"
   ]
  },
  {
   "cell_type": "code",
   "execution_count": 17,
   "id": "1c690e3b-6f81-41dc-9805-1cd52618dd36",
   "metadata": {
    "tags": []
   },
   "outputs": [
    {
     "data": {
      "text/plain": [
       "array([ 1, -1,  5])"
      ]
     },
     "execution_count": 17,
     "metadata": {},
     "output_type": "execute_result"
    }
   ],
   "source": [
    "nums = np.random.randint(-10,10,5)\n",
    "nums[1:4]"
   ]
  },
  {
   "cell_type": "code",
   "execution_count": 18,
   "id": "cd979d5f-4ef1-4555-b285-46f14ff7fc55",
   "metadata": {
    "tags": []
   },
   "outputs": [
    {
     "data": {
      "text/plain": [
       "array([ 1, -1,  5])"
      ]
     },
     "execution_count": 18,
     "metadata": {},
     "output_type": "execute_result"
    }
   ],
   "source": [
    "nums[1:-1]"
   ]
  },
  {
   "cell_type": "markdown",
   "id": "812f4d7e-0f73-4dca-9c5b-73832e913f2f",
   "metadata": {},
   "source": [
    "## Exercise 5.13\n",
    "\n"
   ]
  },
  {
   "cell_type": "code",
   "execution_count": 19,
   "id": "466905a0-8a01-43c9-9d4a-4d0902bde7e3",
   "metadata": {
    "tags": []
   },
   "outputs": [
    {
     "data": {
      "text/plain": [
       "array([4, 1, 5])"
      ]
     },
     "execution_count": 19,
     "metadata": {},
     "output_type": "execute_result"
    }
   ],
   "source": [
    "#boolean indexing\n",
    "nums[nums > 0.15]"
   ]
  },
  {
   "cell_type": "markdown",
   "id": "e5f057b3-e59d-4b2c-b667-b461015547c0",
   "metadata": {},
   "source": [
    "## Exercise 5.14\n",
    "\n"
   ]
  },
  {
   "cell_type": "code",
   "execution_count": 20,
   "id": "9fd0e0e3-6f00-4fb7-ba9f-4f434a597f67",
   "metadata": {},
   "outputs": [],
   "source": [
    "#skipped in class"
   ]
  },
  {
   "cell_type": "markdown",
   "id": "cc27f9ce-f64d-458f-bc6b-85b9b791b0c3",
   "metadata": {},
   "source": [
    "## Exercise 5.15\n",
    "\n"
   ]
  },
  {
   "cell_type": "code",
   "execution_count": 21,
   "id": "a555b09b-b06b-4e5e-a3c5-0497d9747121",
   "metadata": {
    "tags": []
   },
   "outputs": [
    {
     "name": "stdout",
     "output_type": "stream",
     "text": [
      "[ 4  1 -1  5 -3]\n",
      "[4 1 0 5 0]\n"
     ]
    }
   ],
   "source": [
    "nums3 = np.where(nums < 0, 0, nums)\n",
    "print(nums)\n",
    "print(nums3)"
   ]
  },
  {
   "cell_type": "code",
   "execution_count": 22,
   "id": "25b19219-fb8a-4ef3-9635-1a0233c60212",
   "metadata": {
    "tags": []
   },
   "outputs": [
    {
     "data": {
      "text/plain": [
       "array([4, 1, 0, 5, 0])"
      ]
     },
     "execution_count": 22,
     "metadata": {},
     "output_type": "execute_result"
    }
   ],
   "source": [
    "nums2 = nums.copy()\n",
    "nums2[nums2<0]=0\n",
    "nums2"
   ]
  },
  {
   "cell_type": "markdown",
   "id": "fdf6fd80-2112-4705-ab89-0ab75aaaa863",
   "metadata": {},
   "source": [
    "## Exercise 5.16\n",
    "\n"
   ]
  },
  {
   "cell_type": "code",
   "execution_count": 23,
   "id": "c98b2d44-6f0e-4488-aa44-b1cad72b2103",
   "metadata": {
    "tags": []
   },
   "outputs": [
    {
     "data": {
      "text/plain": [
       "[5, 5, 4, 3, 3, 2, 2, 1, 1, 1]"
      ]
     },
     "execution_count": 23,
     "metadata": {},
     "output_type": "execute_result"
    }
   ],
   "source": [
    "def roll_dice(n, m=6, sort=False, rev=False):\n",
    "    if sort:\n",
    "        return sorted(np.random.randint(1, m+1, size=n), reverse=rev)\n",
    "    return list(np.random.randint(1, m+1, size=n))\n",
    "\n",
    "#n=num of rolls, m= number of sides\n",
    "roll_dice(10, 6, sort=True, rev=True)"
   ]
  },
  {
   "cell_type": "code",
   "execution_count": 24,
   "id": "a8db8b31-a6ca-4f4c-bddf-b1889b532c47",
   "metadata": {
    "tags": []
   },
   "outputs": [
    {
     "data": {
      "text/plain": [
       "[3, 8, 6, 8, 3, 3, 8, 6, 6, 8]"
      ]
     },
     "execution_count": 24,
     "metadata": {},
     "output_type": "execute_result"
    }
   ],
   "source": [
    "roll_dice(10, 12)"
   ]
  },
  {
   "cell_type": "markdown",
   "id": "f8d786ad-8521-4f8d-b424-a5f9348acd43",
   "metadata": {},
   "source": [
    "## Exercise 5.17\n",
    "\n"
   ]
  },
  {
   "cell_type": "code",
   "execution_count": 25,
   "id": "a7855156-68ef-4cf5-9921-b57b70318c60",
   "metadata": {
    "tags": []
   },
   "outputs": [
    {
     "data": {
      "text/plain": [
       "[<matplotlib.lines.Line2D at 0x10b38cca0>]"
      ]
     },
     "execution_count": 25,
     "metadata": {},
     "output_type": "execute_result"
    },
    {
     "data": {
      "image/png": "[encoded data removed]",
      "text/plain": [
       "<Figure size 640x480 with 1 Axes>"
      ]
     },
     "metadata": {},
     "output_type": "display_data"
    }
   ],
   "source": [
    "from matplotlib.pyplot import plot\n",
    "plot(roll_dice(8, 50))"
   ]
  },
  {
   "cell_type": "code",
   "execution_count": 27,
   "id": "1e0c103d-5eda-4e46-af2b-0dc5c8d1ab8a",
   "metadata": {
    "tags": []
   },
   "outputs": [
    {
     "data": {
      "text/plain": [
       "(2, 3)"
      ]
     },
     "execution_count": 27,
     "metadata": {},
     "output_type": "execute_result"
    }
   ],
   "source": [
    "a = np.array([[1., 2., 3.], [4., 5., 6.]])\n",
    "a.shape"
   ]
  },
  {
   "cell_type": "code",
   "execution_count": 30,
   "id": "987ed3c0-d5df-4256-beeb-ae27620eb121",
   "metadata": {
    "tags": []
   },
   "outputs": [
    {
     "data": {
      "text/plain": [
       "array([[ 1.69803836,  0.91723196,  0.92047189,  0.61126565,  0.57579194,\n",
       "         0.28135621],\n",
       "       [ 2.72236867,  0.64237206, -0.45034145,  0.6562354 ,  0.06595739,\n",
       "        -0.15816096],\n",
       "       [-1.46813937,  0.90164697,  1.79525422,  0.47551034,  0.21466639,\n",
       "        -0.86270426],\n",
       "       [ 0.44587204, -0.33373041, -0.61200005,  1.47754897, -2.16443878,\n",
       "         1.26739865]])"
      ]
     },
     "execution_count": 30,
     "metadata": {},
     "output_type": "execute_result"
    }
   ],
   "source": [
    "foo = np.random.randn(4,6)\n",
    "foo"
   ]
  },
  {
   "cell_type": "code",
   "execution_count": 32,
   "id": "11447b69-3505-4c93-bb28-76fb4cd00476",
   "metadata": {
    "tags": []
   },
   "outputs": [
    {
     "data": {
      "text/plain": [
       "(2, 1)"
      ]
     },
     "execution_count": 32,
     "metadata": {},
     "output_type": "execute_result"
    }
   ],
   "source": [
    "f=foo[2:, :1]\n",
    "f.shape"
   ]
  },
  {
   "cell_type": "code",
   "execution_count": 48,
   "id": "133d5a18-052a-48ee-983e-e0eded4f6046",
   "metadata": {
    "tags": []
   },
   "outputs": [
    {
     "name": "stdout",
     "output_type": "stream",
     "text": [
      "False\n",
      "True\n",
      "False\n",
      "True\n"
     ]
    }
   ],
   "source": [
    "bar = [1, 2, 3, 4]\n",
    "for b in bar:\n",
    "    print(b%2==0)"
   ]
  },
  {
   "cell_type": "code",
   "execution_count": 36,
   "id": "0d321ade-a5fe-4e94-b094-90190c8f84e8",
   "metadata": {
    "tags": []
   },
   "outputs": [
    {
     "data": {
      "text/plain": [
       "0"
      ]
     },
     "execution_count": 36,
     "metadata": {},
     "output_type": "execute_result"
    }
   ],
   "source": [
    "2%2\n"
   ]
  },
  {
   "cell_type": "code",
   "execution_count": 37,
   "id": "e3f7c57c-a791-4df4-8d57-fbb7ddfea969",
   "metadata": {
    "tags": []
   },
   "outputs": [
    {
     "data": {
      "text/plain": [
       "0"
      ]
     },
     "execution_count": 37,
     "metadata": {},
     "output_type": "execute_result"
    }
   ],
   "source": [
    "4%2"
   ]
  },
  {
   "cell_type": "code",
   "execution_count": 38,
   "id": "5e9da0d8-be77-4488-8aba-0055250c994c",
   "metadata": {
    "tags": []
   },
   "outputs": [
    {
     "data": {
      "text/plain": [
       "1"
      ]
     },
     "execution_count": 38,
     "metadata": {},
     "output_type": "execute_result"
    }
   ],
   "source": [
    "1%2"
   ]
  },
  {
   "cell_type": "code",
   "execution_count": 39,
   "id": "38dec061-13d9-4d36-8d4e-050e433fecd1",
   "metadata": {
    "tags": []
   },
   "outputs": [
    {
     "data": {
      "text/plain": [
       "1"
      ]
     },
     "execution_count": 39,
     "metadata": {},
     "output_type": "execute_result"
    }
   ],
   "source": [
    "3%2\n"
   ]
  },
  {
   "cell_type": "code",
   "execution_count": 52,
   "id": "ce191f93-94e6-415e-84da-5c1760875b25",
   "metadata": {
    "tags": []
   },
   "outputs": [
    {
     "data": {
      "text/plain": [
       "(4,)"
      ]
     },
     "execution_count": 52,
     "metadata": {},
     "output_type": "execute_result"
    }
   ],
   "source": [
    "foo = np.random.randn(3,4)\n",
    "foo[0,:].shape"
   ]
  },
  {
   "cell_type": "code",
   "execution_count": 53,
   "id": "c7ae512e-b3e0-4f87-9b59-d321e41e3464",
   "metadata": {
    "tags": []
   },
   "outputs": [
    {
     "data": {
      "text/plain": [
       "(3,)"
      ]
     },
     "execution_count": 53,
     "metadata": {},
     "output_type": "execute_result"
    }
   ],
   "source": [
    "foo[:, 0].shape"
   ]
  },
  {
   "cell_type": "code",
   "execution_count": 54,
   "id": "4da8d777-a0eb-4ffe-b36e-be08f558ca93",
   "metadata": {
    "tags": []
   },
   "outputs": [
    {
     "data": {
      "text/plain": [
       "array([[ 0.60049542,  0.69329023, -2.11390751, -1.74552748],\n",
       "       [ 0.72239252,  0.85496075, -0.36243678, -1.54413457],\n",
       "       [-1.91256404,  0.43598973,  0.5138515 , -1.68074552]])"
      ]
     },
     "execution_count": 54,
     "metadata": {},
     "output_type": "execute_result"
    }
   ],
   "source": [
    "foo"
   ]
  },
  {
   "cell_type": "code",
   "execution_count": 55,
   "id": "5623b6c7-26a7-4c77-a9b2-4585c5ee5974",
   "metadata": {
    "tags": []
   },
   "outputs": [
    {
     "data": {
      "text/plain": [
       "array([ 0.60049542,  0.69329023, -2.11390751, -1.74552748])"
      ]
     },
     "execution_count": 55,
     "metadata": {},
     "output_type": "execute_result"
    }
   ],
   "source": [
    "foo[0,:]"
   ]
  },
  {
   "cell_type": "code",
   "execution_count": 56,
   "id": "0495c2b0-f3de-41ab-ae1f-23b823412168",
   "metadata": {
    "tags": []
   },
   "outputs": [
    {
     "data": {
      "text/plain": [
       "array([ 0.60049542,  0.72239252, -1.91256404])"
      ]
     },
     "execution_count": 56,
     "metadata": {},
     "output_type": "execute_result"
    }
   ],
   "source": [
    "foo[:, 0]"
   ]
  },
  {
   "cell_type": "code",
   "execution_count": null,
   "id": "cfc87f78-f4f7-4a6a-ab24-1c9a3016acdb",
   "metadata": {},
   "outputs": [],
   "source": []
  }
 ],
 "metadata": {
  "kernelspec": {
   "display_name": "Python 3 (ipykernel)",
   "language": "python",
   "name": "python3"
  },
  "language_info": {
   "codemirror_mode": {
    "name": "ipython",
    "version": 3
   },
   "file_extension": ".py",
   "mimetype": "text/x-python",
   "name": "python",
   "nbconvert_exporter": "python",
   "pygments_lexer": "ipython3",
   "version": "3.10.11"
  }
 },
 "nbformat": 4,
 "nbformat_minor": 5
}

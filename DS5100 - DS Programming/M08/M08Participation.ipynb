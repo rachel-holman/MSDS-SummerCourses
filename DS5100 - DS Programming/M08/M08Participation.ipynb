{
 "cells": [
  {
   "cell_type": "markdown",
   "id": "6140a0ee-6c70-42d8-a2a1-a234490c2f9e",
   "metadata": {
    "tags": []
   },
   "source": [
    "# M08 - In Class Participation \n",
    "## Rachel Holman"
   ]
  },
  {
   "cell_type": "code",
   "execution_count": 1,
   "id": "e1d7db8f-1bc5-47a0-bca9-702808b5ba1f",
   "metadata": {
    "tags": []
   },
   "outputs": [],
   "source": [
    "import numpy as np\n",
    "import pandas as pd"
   ]
  },
  {
   "cell_type": "markdown",
   "id": "f64e28ac-c102-43a4-9b1a-8a5ada1aa7cf",
   "metadata": {
    "tags": []
   },
   "source": [
    "## Exercise 8.1"
   ]
  },
  {
   "cell_type": "code",
   "execution_count": 5,
   "id": "b9c5d779-7ecf-4434-b841-c13e63511d46",
   "metadata": {
    "tags": []
   },
   "outputs": [
    {
     "name": "stdout",
     "output_type": "stream",
     "text": [
      "Error: division by zero\n"
     ]
    }
   ],
   "source": [
    "try:\n",
    "    3/0\n",
    "except ZeroDivisionError as e:\n",
    "    print(\"Error:\", e)"
   ]
  },
  {
   "cell_type": "markdown",
   "id": "31cf2504-6e1f-4cdb-bc66-027041e365a0",
   "metadata": {
    "tags": []
   },
   "source": [
    "## Exercise 8.2"
   ]
  },
  {
   "cell_type": "code",
   "execution_count": 23,
   "id": "bf1f0dd1-90d7-4845-be11-e175953c0f3f",
   "metadata": {
    "tags": []
   },
   "outputs": [
    {
     "ename": "AssertionError",
     "evalue": "Got an error",
     "output_type": "error",
     "traceback": [
      "\u001b[0;31m---------------------------------------------------------------------------\u001b[0m",
      "\u001b[0;31mAssertionError\u001b[0m                            Traceback (most recent call last)",
      "Cell \u001b[0;32mIn[23], line 5\u001b[0m\n\u001b[1;32m      2\u001b[0m b \u001b[38;5;241m=\u001b[39m \u001b[38;5;124m\"\u001b[39m\u001b[38;5;124msad penguin\u001b[39m\u001b[38;5;124m\"\u001b[39m\n\u001b[1;32m      3\u001b[0m c \u001b[38;5;241m=\u001b[39m \u001b[38;5;124m\"\u001b[39m\u001b[38;5;124mhappy penguin\u001b[39m\u001b[38;5;124m\"\u001b[39m\n\u001b[0;32m----> 5\u001b[0m \u001b[38;5;28;01massert\u001b[39;00m a \u001b[38;5;241m==\u001b[39m b, \u001b[38;5;124m\"\u001b[39m\u001b[38;5;124mGot an error\u001b[39m\u001b[38;5;124m\"\u001b[39m\n",
      "\u001b[0;31mAssertionError\u001b[0m: Got an error"
     ]
    }
   ],
   "source": [
    "a = \"happy penguin\"\n",
    "b = \"sad penguin\"\n",
    "c = \"happy penguin\"\n",
    "\n",
    "assert a == b, \"Got an error\""
   ]
  },
  {
   "cell_type": "code",
   "execution_count": 22,
   "id": "883b5509-2cbd-4ade-adcb-1f39651ce5f6",
   "metadata": {
    "tags": []
   },
   "outputs": [],
   "source": [
    "assert a == c, \"Got an error\""
   ]
  },
  {
   "cell_type": "markdown",
   "id": "3b2af85f-d645-443b-b4fd-ca30973ff905",
   "metadata": {
    "tags": []
   },
   "source": [
    "## Exercise 8.3"
   ]
  },
  {
   "cell_type": "code",
   "execution_count": 21,
   "id": "70041490-ca79-41c0-ab86-5d6b5a33d88b",
   "metadata": {
    "tags": []
   },
   "outputs": [],
   "source": [
    "import math\n",
    "\n",
    "def area(rad):\n",
    "    return math.pi * (rad**2)\n",
    "\n",
    "assert isinstance(area(1), float), \"error\"\n",
    "assert area(0) == 0, \"error\"\n",
    "assert math.isclose(area(5), 78.5, abs_tol=0.1), \"error\""
   ]
  },
  {
   "cell_type": "markdown",
   "id": "207fa7f1-0073-4a19-b21a-83745c959cc7",
   "metadata": {
    "tags": []
   },
   "source": [
    "## Exercise 8.4"
   ]
  },
  {
   "cell_type": "markdown",
   "id": "b1a20294-4be5-47db-983c-58b860b08fbc",
   "metadata": {},
   "source": [
    "Changed student.py file:\n",
    "```python\n",
    "class Student:\n",
    "    \n",
    "    # constructor\n",
    "    def __init__(self, name, courses=None):\n",
    "        self.name = name # string type\n",
    "        self.courses = [] if courses is None else courses # list of strings\n",
    "        self.num_courses = len(self.courses)\n",
    "        \n",
    "    # enroll in a course\n",
    "    def enroll_in_course(self, course_name): \n",
    "        self.courses.append(course_name)\n",
    "        self.num_courses += 1 # increment the number of courses\n",
    "    \n",
    "    def unenroll_in_course(self, course_name):\n",
    "        self.courses.remove(course_name)\n",
    "        self.num_courses -= 1\n",
    "```"
   ]
  },
  {
   "cell_type": "markdown",
   "id": "7a12f573-ba04-43a6-8ea6-34cafd8c8f86",
   "metadata": {},
   "source": [
    "Method added to the student_test.py file:\n",
    "\n",
    "```python\n",
    "def test_unenroll_in_course(self):\n",
    "        student1 = Student('Katherine', ['DS 5100', 'CS 5050','CS 5777'])\n",
    "        student1.unenroll_in_course(\"CS 5050\")\n",
    "        print(student1.courses)\n",
    "        print(student1.num_courses)\n",
    "        \n",
    "        # Test\n",
    "        expected = 2\n",
    "        # Note that unittest.TestCase brings in the assertEqual() method\n",
    "        self.assertEqual(student1.num_courses, expected)\n",
    "```"
   ]
  },
  {
   "cell_type": "markdown",
   "id": "f2dd2baa-7f60-408c-b37e-a99eaded847f",
   "metadata": {
    "tags": []
   },
   "source": [
    "## Exercise 8.5"
   ]
  },
  {
   "cell_type": "code",
   "execution_count": null,
   "id": "b07f1397-c153-4ec0-a3a6-b8ebc3206acf",
   "metadata": {},
   "outputs": [],
   "source": []
  }
 ],
 "metadata": {
  "kernelspec": {
   "display_name": "Python 3 (ipykernel)",
   "language": "python",
   "name": "python3"
  },
  "language_info": {
   "codemirror_mode": {
    "name": "ipython",
    "version": 3
   },
   "file_extension": ".py",
   "mimetype": "text/x-python",
   "name": "python",
   "nbconvert_exporter": "python",
   "pygments_lexer": "ipython3",
   "version": "3.10.11"
  }
 },
 "nbformat": 4,
 "nbformat_minor": 5
}

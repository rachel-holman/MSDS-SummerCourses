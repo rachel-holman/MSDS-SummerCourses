{
 "cells": [
  {
   "cell_type": "code",
   "execution_count": 2,
   "id": "99f487cb-2378-49a1-a068-a9601ed32a9d",
   "metadata": {},
   "outputs": [
    {
     "data": {
      "text/plain": [
       "2"
      ]
     },
     "execution_count": 2,
     "metadata": {},
     "output_type": "execute_result"
    }
   ],
   "source": [
    "1+1"
   ]
  },
  {
   "cell_type": "markdown",
   "id": "a5f12131-cf2f-4bf0-975b-700c02390450",
   "metadata": {},
   "source": [
    "I will now take the square root of 9"
   ]
  },
  {
   "cell_type": "code",
   "execution_count": 3,
   "id": "f9fd1afa-44b3-4d5d-bddb-5848a9d0521d",
   "metadata": {},
   "outputs": [
    {
     "data": {
      "text/plain": [
       "3.0"
      ]
     },
     "execution_count": 3,
     "metadata": {},
     "output_type": "execute_result"
    }
   ],
   "source": [
    "import math\n",
    "math.sqrt(9)"
   ]
  },
  {
   "cell_type": "code",
   "execution_count": 4,
   "id": "31f97da9-ee01-4140-925c-0875ea77dc93",
   "metadata": {},
   "outputs": [],
   "source": [
    "speedoflight = 299792458"
   ]
  },
  {
   "cell_type": "code",
   "execution_count": 5,
   "id": "33c4980b-351f-47a4-a203-105c1e0a06e8",
   "metadata": {},
   "outputs": [
    {
     "data": {
      "text/plain": [
       "16094799105.225481"
      ]
     },
     "execution_count": 5,
     "metadata": {},
     "output_type": "execute_result"
    }
   ],
   "source": [
    "#Convert speed of light from meters per second to miles per hour\n",
    "speedoflight * (60) * (60) * (24) * (1 / 1609.344)"
   ]
  },
  {
   "cell_type": "code",
   "execution_count": 6,
   "id": "de88f839-9f28-4e47-88be-ed051b7b755e",
   "metadata": {},
   "outputs": [],
   "source": [
    "virginia_gdp = 508662000000"
   ]
  },
  {
   "cell_type": "code",
   "execution_count": 7,
   "id": "084bddc7-4650-443d-bfc9-508dcf04ce4f",
   "metadata": {},
   "outputs": [
    {
     "data": {
      "text/plain": [
       "63574.61244960645"
      ]
     },
     "execution_count": 7,
     "metadata": {},
     "output_type": "execute_result"
    }
   ],
   "source": [
    "#Now I will divide the Viginia GDP by the population of Virginia to get the per-capita GDP\n",
    "virginia_gdp / 8001024"
   ]
  },
  {
   "cell_type": "code",
   "execution_count": 12,
   "id": "8a3ad983-bb8a-465f-8bee-659725c9b320",
   "metadata": {},
   "outputs": [
    {
     "ename": "ModuleNotFoundError",
     "evalue": "No module named 'seaborn'",
     "output_type": "error",
     "traceback": [
      "\u001b[0;31m---------------------------------------------------------------------------\u001b[0m",
      "\u001b[0;31mModuleNotFoundError\u001b[0m                       Traceback (most recent call last)",
      "Cell \u001b[0;32mIn[12], line 4\u001b[0m\n\u001b[1;32m      2\u001b[0m \u001b[38;5;28;01mimport\u001b[39;00m \u001b[38;5;21;01mpandas\u001b[39;00m \u001b[38;5;28;01mas\u001b[39;00m \u001b[38;5;21;01mpd\u001b[39;00m\n\u001b[1;32m      3\u001b[0m \u001b[38;5;28;01mimport\u001b[39;00m \u001b[38;5;21;01mmatplotlib\u001b[39;00m \u001b[38;5;28;01mas\u001b[39;00m \u001b[38;5;21;01mplt\u001b[39;00m\n\u001b[0;32m----> 4\u001b[0m \u001b[38;5;28;01mimport\u001b[39;00m \u001b[38;5;21;01mseaborn\u001b[39;00m \u001b[38;5;28;01mas\u001b[39;00m \u001b[38;5;21;01msns\u001b[39;00m\n\u001b[1;32m      5\u001b[0m \u001b[38;5;28;01mimport\u001b[39;00m \u001b[38;5;21;01mrequests\u001b[39;00m\n\u001b[1;32m      6\u001b[0m \u001b[38;5;28;01mimport\u001b[39;00m \u001b[38;5;21;01mplotly\u001b[39;00m\n",
      "\u001b[0;31mModuleNotFoundError\u001b[0m: No module named 'seaborn'"
     ]
    }
   ],
   "source": [
    "import numpy as np\n",
    "import pandas as pd\n",
    "import matplotlib as plt\n",
    "import seaborn as sns\n",
    "import requests\n",
    "import plotly\n",
    "from bson import dumps, loads\n",
    "from bs4 import BeautifulSoup"
   ]
  },
  {
   "cell_type": "markdown",
   "id": "cd728259-bd5a-4c5b-b7b4-ced0e9877c03",
   "metadata": {},
   "source": [
    "*this will be italicized*\n",
    "\n",
    "**this will be bold**\n",
    "\n",
    "~~this will be struck out~~"
   ]
  },
  {
   "cell_type": "markdown",
   "id": "0d41f9f0-5478-4a33-8a8b-b58f674e59f6",
   "metadata": {},
   "source": [
    "The movie Space Jam from 1996 still has its [original website online](https://www.spacejam.com/1996/)"
   ]
  },
  {
   "cell_type": "markdown",
   "id": "125ed86f-901c-4d39-a452-5266bce6a87c",
   "metadata": {},
   "source": [
    "Here's a profound quote:\n",
    "> I'd rather have this bottle in front of me than a frontal lobotomy"
   ]
  },
  {
   "cell_type": "markdown",
   "id": "e1bc044a-4742-4427-a77b-7fb59c81c482",
   "metadata": {},
   "source": [
    "# Title\n",
    "## Section title\n",
    "### Subsection title\n",
    "#### Sub-subsection \n",
    "etc..."
   ]
  },
  {
   "cell_type": "markdown",
   "id": "7dcd2413-d863-4c9e-8abd-23b407fc62bc",
   "metadata": {},
   "source": [
    "Two ways to add an image:\n",
    "1. refer to an amage in the same folder as your notebook:\n",
    "\n",
    "![](RachelHolman.jpeg)\n",
    "\n",
    "2. refer to the image with the fill URL (this will also give you control over image size)\n",
    "\n",
    "<img src=\"https://files.secure.website/wscfus/10567870/25715020/happy-golden-w1200-o.jpg\" width=\"200\">"
   ]
  },
  {
   "cell_type": "markdown",
   "id": "be869d41-a9ff-4f82-8616-322b4e028a43",
   "metadata": {},
   "source": [
    "# Title: The University of Virginia\n",
    "\n",
    "## Section: Introduction\n",
    "\n",
    "The **University of Virginia** (U.Va. or UVA) is a public research university in [Charlottesville, Virginia](https://en.wikipedia.org/wiki/Charlottesville,_Virginia). It was founded in 1819 by United States *Declaration of Independence* author Thomas Jefferson.\n",
    "<img src=\"https://news.virginia.edu/sites/default/files/article_image/Rotunda_Copper_Dome_UTDA%5B1%5D_0.jpg\">\n",
    "\n",
    "It is the flagship university of Virginia and home to Jefferson's Academical Village, a UNESCO World Heritage Site. UCA is known for its historic foundations, student-run honor code and ~~secret societies~~ championship basketball.\n",
    "\n",
    "### Subsection: Founders\n",
    "\n",
    "The original governing Board of Visitors included Jefferson, James Madison, and James Monroe who once said\n",
    "\n",
    "> The best form of government is that which is most likely to prevent the greatest sum of evil.\n",
    "\n",
    "Monroe was the sitting President of the United States at the time of its foundation and earlier Presidents Jefferson and Madison were UVA's first two rectors.\n",
    "\n",
    "### Subsection: History\n",
    "\n",
    "Jefferson concieved and designed the original courses of study and original architecture. UVA was the first university of the Anerical South elected to the research-driven Association of American Universities in 1904. More than a century later, the journal Science credited UVA faculty with two of the top ten global scientific breakthroughs of 2015. The University of Virginia, along with the University at Buffalo, are the only two colleges founded by United States Presidents."
   ]
  },
  {
   "cell_type": "markdown",
   "id": "63367cee-e94c-4986-b058-aa0f02d271c7",
   "metadata": {},
   "source": [
    "# To include a bulleted list:\n",
    "\n",
    "* item 1\n",
    "* item 2\n",
    "    * item 2a\n",
    "    * item 2b\n",
    "        * item 2b, part 1\n",
    "        * item 2b, part 2\n",
    "* item 3"
   ]
  },
  {
   "cell_type": "markdown",
   "id": "b9d785a8-7c6d-49b4-bbba-f7dac61fb8e0",
   "metadata": {},
   "source": [
    "Next I will discuss the `pd.read_cv()` function"
   ]
  },
  {
   "cell_type": "markdown",
   "id": "d005775e-9078-4be8-b157-c772ec31e20f",
   "metadata": {},
   "source": [
    "```\n",
    "print \"example code\"\n",
    "```"
   ]
  },
  {
   "cell_type": "markdown",
   "id": "6f88de68-2d14-40db-99bc-500992ac9086",
   "metadata": {},
   "source": [
    "# Latex code:\n",
    "\n",
    "Reference a list of latex code for various mathematical symbols [here](https://en.wikibooks.org/wiki/LaTeX/Mathematics)\n",
    "\n",
    "$$ x=\\frac{-b \\pm \\sqrt{b^2 -4ac}}{2a}$$"
   ]
  },
  {
   "cell_type": "markdown",
   "id": "a8af6ef5-126b-499c-a99d-6963ff9d8e35",
   "metadata": {},
   "source": [
    "# Making tables\n",
    "\n",
    "For generating tables in python it is easiest to create a table on [this website](https://www.tablesgenerator.com/markdown_tables) then copy and paste the output into a markdown cell.\n",
    "\n",
    "But it can also be done with code of this sort:\n",
    "| Day       | High Temp | Low Temp |\n",
    "|-----------|-----------|----------|\n",
    "| Monday    | 93        | 79       |\n",
    "| Tuesday   | 88        | 73       |\n",
    "| Wednesday | 76        | 67       |\n",
    "| Thursday  | 89        | 84       |\n",
    "| Friday    | 101       | 82       |\n",
    "| Saturday  | 96        | 80       |\n",
    "| Sunday    | 85        | 72       |"
   ]
  },
  {
   "cell_type": "markdown",
   "id": "51becd28-9708-4c7f-853c-9c733b2decc7",
   "metadata": {},
   "source": [
    "# My favorite math functions in Python\n",
    "\n",
    "* The natural logarithm $ln(x)$ is `math.log(x)`\n",
    "    * The log base 10, $log_{10}(x)$, is `math.log10(x)`\n",
    "    * The log base $a$, $log_a(x)$, is `math.log(x,a)`\n",
    "    \n",
    "* Trigonometric functions:\n",
    "| Function | Mathematical notation | Python code       |\n",
    "|----------|-----------------------|-------------------|\n",
    "| Sine     | $sin(\\theta)$         | `math.sin(theta)` |\n",
    "| Cosine   | $cos(\\theta)$         | `math.cos(theta)` |\n",
    "| Tangent  | $tan(\\theta)$         | `math.tan(theta)` |\n",
    "\n",
    "* $\\pi$ rounded to ten decimal places:\n",
    "```\n",
    "round(math.pi, 10)\n",
    "```\n",
    "    "
   ]
  },
  {
   "cell_type": "markdown",
   "id": "8ab12183-8b24-4d35-b8db-a733c8cc18fd",
   "metadata": {},
   "source": [
    "# Getting started with Python code:"
   ]
  },
  {
   "cell_type": "code",
   "execution_count": 8,
   "id": "d197107e-b5e4-40e7-94b0-4b04d3bd9115",
   "metadata": {},
   "outputs": [],
   "source": [
    "my_integer = 5\n",
    "my_float = 5.0\n",
    "my_string = 'five'"
   ]
  },
  {
   "cell_type": "code",
   "execution_count": 9,
   "id": "5cb49bdd-238e-4c8f-8039-506a4807cb79",
   "metadata": {},
   "outputs": [
    {
     "data": {
      "text/plain": [
       "int"
      ]
     },
     "execution_count": 9,
     "metadata": {},
     "output_type": "execute_result"
    }
   ],
   "source": [
    "type(my_integer)"
   ]
  },
  {
   "cell_type": "code",
   "execution_count": 10,
   "id": "daef8162-ecb5-49cf-a092-a26048e3fcc4",
   "metadata": {},
   "outputs": [
    {
     "data": {
      "text/plain": [
       "float"
      ]
     },
     "execution_count": 10,
     "metadata": {},
     "output_type": "execute_result"
    }
   ],
   "source": [
    "type(my_float)"
   ]
  },
  {
   "cell_type": "code",
   "execution_count": 11,
   "id": "33c971dd-daa8-4b69-ad9c-5a3e520f12cf",
   "metadata": {},
   "outputs": [
    {
     "data": {
      "text/plain": [
       "str"
      ]
     },
     "execution_count": 11,
     "metadata": {},
     "output_type": "execute_result"
    }
   ],
   "source": [
    "type(my_string)"
   ]
  },
  {
   "cell_type": "code",
   "execution_count": 12,
   "id": "280b3c03-893b-40ce-866a-ce663d7e20fa",
   "metadata": {},
   "outputs": [
    {
     "data": {
      "text/plain": [
       "25"
      ]
     },
     "execution_count": 12,
     "metadata": {},
     "output_type": "execute_result"
    }
   ],
   "source": [
    "my_integer ** 2"
   ]
  },
  {
   "cell_type": "code",
   "execution_count": 13,
   "id": "9dd3f1a7-d55f-4d3c-99aa-62af1945018f",
   "metadata": {},
   "outputs": [],
   "source": [
    "quote = 'We hold these truths to be self-evident, that all men are created equal, that they are endowed by their Creator with certain unalienable Rights, that among these are Life, Liberty and the pursuit of Happiness.'"
   ]
  },
  {
   "cell_type": "code",
   "execution_count": 14,
   "id": "931b52bd-5119-4773-ba26-005a76cde843",
   "metadata": {},
   "outputs": [
    {
     "data": {
      "text/plain": [
       "209"
      ]
     },
     "execution_count": 14,
     "metadata": {},
     "output_type": "execute_result"
    }
   ],
   "source": [
    "len(quote)"
   ]
  },
  {
   "cell_type": "code",
   "execution_count": 15,
   "id": "efc66ce0-369b-4713-a624-d2a1a6b6566e",
   "metadata": {},
   "outputs": [
    {
     "data": {
      "text/plain": [
       "list"
      ]
     },
     "execution_count": 15,
     "metadata": {},
     "output_type": "execute_result"
    }
   ],
   "source": [
    "my_list = [5, 5.0, \"five\"]\n",
    "type(my_list)"
   ]
  },
  {
   "cell_type": "code",
   "execution_count": 16,
   "id": "0e1c9bfe-fea8-48b4-84f7-9e10f7a8943d",
   "metadata": {},
   "outputs": [
    {
     "data": {
      "text/plain": [
       "5"
      ]
     },
     "execution_count": 16,
     "metadata": {},
     "output_type": "execute_result"
    }
   ],
   "source": [
    "my_list[0]"
   ]
  },
  {
   "cell_type": "code",
   "execution_count": 17,
   "id": "d3400dd6-63dc-4bd7-8765-af6cf1c0fed5",
   "metadata": {},
   "outputs": [
    {
     "data": {
      "text/plain": [
       "5.0"
      ]
     },
     "execution_count": 17,
     "metadata": {},
     "output_type": "execute_result"
    }
   ],
   "source": [
    "my_list[1]"
   ]
  },
  {
   "cell_type": "code",
   "execution_count": 18,
   "id": "e1bd1ad3-9502-46a6-a124-77b6ed937d06",
   "metadata": {},
   "outputs": [
    {
     "data": {
      "text/plain": [
       "'five'"
      ]
     },
     "execution_count": 18,
     "metadata": {},
     "output_type": "execute_result"
    }
   ],
   "source": [
    "my_list[2]"
   ]
  },
  {
   "cell_type": "code",
   "execution_count": 19,
   "id": "26071d80-82b0-4aa0-862d-bdb52af8e8cd",
   "metadata": {},
   "outputs": [
    {
     "data": {
      "text/plain": [
       "[5, 5.0]"
      ]
     },
     "execution_count": 19,
     "metadata": {},
     "output_type": "execute_result"
    }
   ],
   "source": [
    "my_list[0:2]"
   ]
  },
  {
   "cell_type": "code",
   "execution_count": 20,
   "id": "9b1e40c7-7a1a-41df-abf8-60edde1e4792",
   "metadata": {},
   "outputs": [
    {
     "data": {
      "text/plain": [
       "tuple"
      ]
     },
     "execution_count": 20,
     "metadata": {},
     "output_type": "execute_result"
    }
   ],
   "source": [
    "my_tuple = (5, 5.0, \"five\")\n",
    "type(my_tuple)"
   ]
  },
  {
   "cell_type": "code",
   "execution_count": 21,
   "id": "59843c75-35ac-474d-8a84-2f1a679498a9",
   "metadata": {},
   "outputs": [
    {
     "data": {
      "text/plain": [
       "dict"
      ]
     },
     "execution_count": 21,
     "metadata": {},
     "output_type": "execute_result"
    }
   ],
   "source": [
    "my_dictionary = {'university': 'University of Virginia',\n",
    "                 'enrollment': 24639,\n",
    "                 'location': 'Charlottesville, Virginia'}\n",
    "type(my_dictionary)"
   ]
  },
  {
   "cell_type": "code",
   "execution_count": 22,
   "id": "516befc1-04f5-4b56-b6ec-f9329214ccb7",
   "metadata": {},
   "outputs": [
    {
     "data": {
      "text/plain": [
       "'Charlottesville, Virginia'"
      ]
     },
     "execution_count": 22,
     "metadata": {},
     "output_type": "execute_result"
    }
   ],
   "source": [
    "my_dictionary['location']"
   ]
  },
  {
   "cell_type": "code",
   "execution_count": 23,
   "id": "439f193c-87c0-42dc-b2f8-4d9ddcde8cc7",
   "metadata": {},
   "outputs": [
    {
     "data": {
      "text/html": [
       "<div>\n",
       "<style scoped>\n",
       "    .dataframe tbody tr th:only-of-type {\n",
       "        vertical-align: middle;\n",
       "    }\n",
       "\n",
       "    .dataframe tbody tr th {\n",
       "        vertical-align: top;\n",
       "    }\n",
       "\n",
       "    .dataframe thead th {\n",
       "        text-align: right;\n",
       "    }\n",
       "</style>\n",
       "<table border=\"1\" class=\"dataframe\">\n",
       "  <thead>\n",
       "    <tr style=\"text-align: right;\">\n",
       "      <th></th>\n",
       "      <th>day</th>\n",
       "      <th>high_temp</th>\n",
       "      <th>low_temp</th>\n",
       "    </tr>\n",
       "  </thead>\n",
       "  <tbody>\n",
       "    <tr>\n",
       "      <th>0</th>\n",
       "      <td>Sunday</td>\n",
       "      <td>87</td>\n",
       "      <td>74</td>\n",
       "    </tr>\n",
       "    <tr>\n",
       "      <th>1</th>\n",
       "      <td>Monday</td>\n",
       "      <td>80</td>\n",
       "      <td>68</td>\n",
       "    </tr>\n",
       "    <tr>\n",
       "      <th>2</th>\n",
       "      <td>Tuesday</td>\n",
       "      <td>91</td>\n",
       "      <td>78</td>\n",
       "    </tr>\n",
       "    <tr>\n",
       "      <th>3</th>\n",
       "      <td>Wednesday</td>\n",
       "      <td>102</td>\n",
       "      <td>85</td>\n",
       "    </tr>\n",
       "    <tr>\n",
       "      <th>4</th>\n",
       "      <td>Thursday</td>\n",
       "      <td>92</td>\n",
       "      <td>81</td>\n",
       "    </tr>\n",
       "    <tr>\n",
       "      <th>5</th>\n",
       "      <td>Friday</td>\n",
       "      <td>86</td>\n",
       "      <td>72</td>\n",
       "    </tr>\n",
       "    <tr>\n",
       "      <th>6</th>\n",
       "      <td>Saturday</td>\n",
       "      <td>78</td>\n",
       "      <td>61</td>\n",
       "    </tr>\n",
       "  </tbody>\n",
       "</table>\n",
       "</div>"
      ],
      "text/plain": [
       "         day  high_temp  low_temp\n",
       "0     Sunday         87        74\n",
       "1     Monday         80        68\n",
       "2    Tuesday         91        78\n",
       "3  Wednesday        102        85\n",
       "4   Thursday         92        81\n",
       "5     Friday         86        72\n",
       "6   Saturday         78        61"
      ]
     },
     "execution_count": 23,
     "metadata": {},
     "output_type": "execute_result"
    }
   ],
   "source": [
    "#dataframe\n",
    "import pandas as pd\n",
    "my_dict = {'day': ['Sunday', 'Monday', 'Tuesday', 'Wednesday', 'Thursday', 'Friday', 'Saturday'],\n",
    "           'high_temp': [87,80,91,102,92,86,78],\n",
    "           'low_temp': [74,68,78,85,81,72,61]}\n",
    "my_dataframe = pd.DataFrame(my_dict)\n",
    "my_dataframe"
   ]
  },
  {
   "cell_type": "code",
   "execution_count": 24,
   "id": "6e7258f8-28fb-4233-9c37-8853d9afe8e7",
   "metadata": {},
   "outputs": [],
   "source": [
    "episode_numbers = [\"IV\", \"V\", \"VI\", \"I\", \"II\", \"III\", \"VII\", \"S1\", \"VIII\", \"S2\", \"IX\"]"
   ]
  },
  {
   "cell_type": "code",
   "execution_count": 25,
   "id": "2d33b987-8580-45a0-a5da-273a315b6a98",
   "metadata": {},
   "outputs": [],
   "source": [
    "tuple_list = [(episode_numbers[0], \"A New Hope\"), (episode_numbers[1], \"The Empire Strikes Back\"),\n",
    "             (episode_numbers[2], \"Return of the Jedi\"), (episode_numbers[3], \"The Phantom Menace\"),\n",
    "             (episode_numbers[4], \"Attack of the Clones\"), (episode_numbers[5], \"Revenge of the Sith\"), \n",
    "             (episode_numbers[6], \"The Force Awakens\"), (episode_numbers[7], \"Rogue One: A Star Wars Story\"), \n",
    "             (episode_numbers[8], \"The Last Jedi\"), (episode_numbers[9], \"Solo: A Star Wars Story\"), \n",
    "             (episode_numbers[10], \"The Rise of Skywalker\")]"
   ]
  },
  {
   "cell_type": "code",
   "execution_count": 26,
   "id": "9d424865-916f-44ce-a683-0d081f4db0be",
   "metadata": {},
   "outputs": [
    {
     "data": {
      "text/html": [
       "<div>\n",
       "<style scoped>\n",
       "    .dataframe tbody tr th:only-of-type {\n",
       "        vertical-align: middle;\n",
       "    }\n",
       "\n",
       "    .dataframe tbody tr th {\n",
       "        vertical-align: top;\n",
       "    }\n",
       "\n",
       "    .dataframe thead th {\n",
       "        text-align: right;\n",
       "    }\n",
       "</style>\n",
       "<table border=\"1\" class=\"dataframe\">\n",
       "  <thead>\n",
       "    <tr style=\"text-align: right;\">\n",
       "      <th></th>\n",
       "      <th>episode_number</th>\n",
       "      <th>title</th>\n",
       "      <th>release_year</th>\n",
       "    </tr>\n",
       "  </thead>\n",
       "  <tbody>\n",
       "    <tr>\n",
       "      <th>0</th>\n",
       "      <td>IV</td>\n",
       "      <td>A New Hope</td>\n",
       "      <td>1977</td>\n",
       "    </tr>\n",
       "    <tr>\n",
       "      <th>1</th>\n",
       "      <td>V</td>\n",
       "      <td>The Empire Strikes Back</td>\n",
       "      <td>1980</td>\n",
       "    </tr>\n",
       "    <tr>\n",
       "      <th>2</th>\n",
       "      <td>VI</td>\n",
       "      <td>Return of the Jedi</td>\n",
       "      <td>1983</td>\n",
       "    </tr>\n",
       "    <tr>\n",
       "      <th>3</th>\n",
       "      <td>I</td>\n",
       "      <td>The Phantom Menace</td>\n",
       "      <td>1999</td>\n",
       "    </tr>\n",
       "    <tr>\n",
       "      <th>4</th>\n",
       "      <td>II</td>\n",
       "      <td>Attack of the Clones</td>\n",
       "      <td>2002</td>\n",
       "    </tr>\n",
       "    <tr>\n",
       "      <th>5</th>\n",
       "      <td>III</td>\n",
       "      <td>Revenge of the Sith</td>\n",
       "      <td>2005</td>\n",
       "    </tr>\n",
       "    <tr>\n",
       "      <th>6</th>\n",
       "      <td>VII</td>\n",
       "      <td>The Force Awakens</td>\n",
       "      <td>2015</td>\n",
       "    </tr>\n",
       "    <tr>\n",
       "      <th>7</th>\n",
       "      <td>S1</td>\n",
       "      <td>Rogue One: A Star Wars Story</td>\n",
       "      <td>2016</td>\n",
       "    </tr>\n",
       "    <tr>\n",
       "      <th>8</th>\n",
       "      <td>VIII</td>\n",
       "      <td>The Last Jedi</td>\n",
       "      <td>2017</td>\n",
       "    </tr>\n",
       "    <tr>\n",
       "      <th>9</th>\n",
       "      <td>S2</td>\n",
       "      <td>Solo: A Star Wars Story</td>\n",
       "      <td>2018</td>\n",
       "    </tr>\n",
       "    <tr>\n",
       "      <th>10</th>\n",
       "      <td>IX</td>\n",
       "      <td>The Rise of Skywalker</td>\n",
       "      <td>2019</td>\n",
       "    </tr>\n",
       "  </tbody>\n",
       "</table>\n",
       "</div>"
      ],
      "text/plain": [
       "   episode_number                         title  release_year\n",
       "0              IV                    A New Hope          1977\n",
       "1               V       The Empire Strikes Back          1980\n",
       "2              VI            Return of the Jedi          1983\n",
       "3               I            The Phantom Menace          1999\n",
       "4              II          Attack of the Clones          2002\n",
       "5             III           Revenge of the Sith          2005\n",
       "6             VII             The Force Awakens          2015\n",
       "7              S1  Rogue One: A Star Wars Story          2016\n",
       "8            VIII                 The Last Jedi          2017\n",
       "9              S2       Solo: A Star Wars Story          2018\n",
       "10             IX         The Rise of Skywalker          2019"
      ]
     },
     "execution_count": 26,
     "metadata": {},
     "output_type": "execute_result"
    }
   ],
   "source": [
    "starwars_dict = {'episode_number': episode_numbers[0:11],\n",
    "             'title': [tuple_list[0][1], tuple_list[1][1], tuple_list[2][1],\n",
    "                       tuple_list[3][1], tuple_list[4][1], tuple_list[5][1],\n",
    "                       tuple_list[6][1], tuple_list[7][1], tuple_list[8][1],\n",
    "                       tuple_list[9][1], tuple_list[10][1]],\n",
    "             'release_year': [1977,1980,1983,1999,2002,2005,2015,2016,2017,2018,2019]}\n",
    "import pandas as pd\n",
    "starwars_dataframe = pd.DataFrame(starwars_dict)\n",
    "starwars_dataframe"
   ]
  },
  {
   "cell_type": "code",
   "execution_count": 27,
   "id": "2324eb64-23b7-46a9-8aed-f66c484f6133",
   "metadata": {},
   "outputs": [
    {
     "data": {
      "text/html": [
       "<div>\n",
       "<style scoped>\n",
       "    .dataframe tbody tr th:only-of-type {\n",
       "        vertical-align: middle;\n",
       "    }\n",
       "\n",
       "    .dataframe tbody tr th {\n",
       "        vertical-align: top;\n",
       "    }\n",
       "\n",
       "    .dataframe thead th {\n",
       "        text-align: right;\n",
       "    }\n",
       "</style>\n",
       "<table border=\"1\" class=\"dataframe\">\n",
       "  <thead>\n",
       "    <tr style=\"text-align: right;\">\n",
       "      <th></th>\n",
       "      <th>day</th>\n",
       "      <th>high_temp</th>\n",
       "      <th>low_temp</th>\n",
       "    </tr>\n",
       "  </thead>\n",
       "  <tbody>\n",
       "    <tr>\n",
       "      <th>count</th>\n",
       "      <td>7</td>\n",
       "      <td>7.000000</td>\n",
       "      <td>7.000000</td>\n",
       "    </tr>\n",
       "    <tr>\n",
       "      <th>unique</th>\n",
       "      <td>7</td>\n",
       "      <td>NaN</td>\n",
       "      <td>NaN</td>\n",
       "    </tr>\n",
       "    <tr>\n",
       "      <th>top</th>\n",
       "      <td>Sunday</td>\n",
       "      <td>NaN</td>\n",
       "      <td>NaN</td>\n",
       "    </tr>\n",
       "    <tr>\n",
       "      <th>freq</th>\n",
       "      <td>1</td>\n",
       "      <td>NaN</td>\n",
       "      <td>NaN</td>\n",
       "    </tr>\n",
       "    <tr>\n",
       "      <th>mean</th>\n",
       "      <td>NaN</td>\n",
       "      <td>88.000000</td>\n",
       "      <td>74.142857</td>\n",
       "    </tr>\n",
       "    <tr>\n",
       "      <th>std</th>\n",
       "      <td>NaN</td>\n",
       "      <td>8.062258</td>\n",
       "      <td>8.112307</td>\n",
       "    </tr>\n",
       "    <tr>\n",
       "      <th>min</th>\n",
       "      <td>NaN</td>\n",
       "      <td>78.000000</td>\n",
       "      <td>61.000000</td>\n",
       "    </tr>\n",
       "    <tr>\n",
       "      <th>25%</th>\n",
       "      <td>NaN</td>\n",
       "      <td>83.000000</td>\n",
       "      <td>70.000000</td>\n",
       "    </tr>\n",
       "    <tr>\n",
       "      <th>50%</th>\n",
       "      <td>NaN</td>\n",
       "      <td>87.000000</td>\n",
       "      <td>74.000000</td>\n",
       "    </tr>\n",
       "    <tr>\n",
       "      <th>75%</th>\n",
       "      <td>NaN</td>\n",
       "      <td>91.500000</td>\n",
       "      <td>79.500000</td>\n",
       "    </tr>\n",
       "    <tr>\n",
       "      <th>max</th>\n",
       "      <td>NaN</td>\n",
       "      <td>102.000000</td>\n",
       "      <td>85.000000</td>\n",
       "    </tr>\n",
       "  </tbody>\n",
       "</table>\n",
       "</div>"
      ],
      "text/plain": [
       "           day   high_temp   low_temp\n",
       "count        7    7.000000   7.000000\n",
       "unique       7         NaN        NaN\n",
       "top     Sunday         NaN        NaN\n",
       "freq         1         NaN        NaN\n",
       "mean       NaN   88.000000  74.142857\n",
       "std        NaN    8.062258   8.112307\n",
       "min        NaN   78.000000  61.000000\n",
       "25%        NaN   83.000000  70.000000\n",
       "50%        NaN   87.000000  74.000000\n",
       "75%        NaN   91.500000  79.500000\n",
       "max        NaN  102.000000  85.000000"
      ]
     },
     "execution_count": 27,
     "metadata": {},
     "output_type": "execute_result"
    }
   ],
   "source": [
    "# Describe method used on the week days dataframe\n",
    "my_dataframe.describe(include='all')"
   ]
  },
  {
   "cell_type": "code",
   "execution_count": 28,
   "id": "4d5b6815-4069-4947-a1ab-c378f3190909",
   "metadata": {},
   "outputs": [
    {
     "data": {
      "text/plain": [
       "day          object\n",
       "high_temp     int64\n",
       "low_temp      int64\n",
       "dtype: object"
      ]
     },
     "execution_count": 28,
     "metadata": {},
     "output_type": "execute_result"
    }
   ],
   "source": [
    "# show data type attributes in week days dataframe\n",
    "my_dataframe.dtypes"
   ]
  },
  {
   "cell_type": "code",
   "execution_count": 29,
   "id": "2bfe6842-5cc4-4e63-ab2a-21b77cade8c7",
   "metadata": {},
   "outputs": [
    {
     "data": {
      "text/html": [
       "<div>\n",
       "<style scoped>\n",
       "    .dataframe tbody tr th:only-of-type {\n",
       "        vertical-align: middle;\n",
       "    }\n",
       "\n",
       "    .dataframe tbody tr th {\n",
       "        vertical-align: top;\n",
       "    }\n",
       "\n",
       "    .dataframe thead th {\n",
       "        text-align: right;\n",
       "    }\n",
       "</style>\n",
       "<table border=\"1\" class=\"dataframe\">\n",
       "  <thead>\n",
       "    <tr style=\"text-align: right;\">\n",
       "      <th></th>\n",
       "      <th>episode_number</th>\n",
       "      <th>title</th>\n",
       "      <th>release_year</th>\n",
       "    </tr>\n",
       "  </thead>\n",
       "  <tbody>\n",
       "    <tr>\n",
       "      <th>0</th>\n",
       "      <td>IV</td>\n",
       "      <td>A New Hope</td>\n",
       "      <td>1977</td>\n",
       "    </tr>\n",
       "    <tr>\n",
       "      <th>1</th>\n",
       "      <td>V</td>\n",
       "      <td>The Empire Strikes Back</td>\n",
       "      <td>1980</td>\n",
       "    </tr>\n",
       "    <tr>\n",
       "      <th>2</th>\n",
       "      <td>VI</td>\n",
       "      <td>Return of the Jedi</td>\n",
       "      <td>1983</td>\n",
       "    </tr>\n",
       "  </tbody>\n",
       "</table>\n",
       "</div>"
      ],
      "text/plain": [
       "  episode_number                    title  release_year\n",
       "0             IV               A New Hope          1977\n",
       "1              V  The Empire Strikes Back          1980\n",
       "2             VI       Return of the Jedi          1983"
      ]
     },
     "execution_count": 29,
     "metadata": {},
     "output_type": "execute_result"
    }
   ],
   "source": [
    "# show first 3 rows of starward dataframe\n",
    "starwars_dataframe.head(3)"
   ]
  },
  {
   "cell_type": "code",
   "execution_count": 1,
   "id": "1d5a67d5-df7d-464d-ad7c-2bd55719cd63",
   "metadata": {},
   "outputs": [
    {
     "ename": "NameError",
     "evalue": "name 'starwars_dataframe' is not defined",
     "output_type": "error",
     "traceback": [
      "\u001b[0;31m---------------------------------------------------------------------------\u001b[0m",
      "\u001b[0;31mNameError\u001b[0m                                 Traceback (most recent call last)",
      "Cell \u001b[0;32mIn[1], line 2\u001b[0m\n\u001b[1;32m      1\u001b[0m \u001b[38;5;66;03m# report number of rows and colums in the dataframe\u001b[39;00m\n\u001b[0;32m----> 2\u001b[0m \u001b[43mstarwars_dataframe\u001b[49m\u001b[38;5;241m.\u001b[39mshape\n",
      "\u001b[0;31mNameError\u001b[0m: name 'starwars_dataframe' is not defined"
     ]
    }
   ],
   "source": [
    "# report number of rows and colums in the dataframe\n",
    "starwars_dataframe.shape"
   ]
  },
  {
   "cell_type": "code",
   "execution_count": null,
   "id": "9c5f0096-6b09-46ec-a2c4-b14945035e80",
   "metadata": {},
   "outputs": [],
   "source": []
  }
 ],
 "metadata": {
  "kernelspec": {
   "display_name": "Python 3 (ipykernel)",
   "language": "python",
   "name": "python3"
  },
  "language_info": {
   "codemirror_mode": {
    "name": "ipython",
    "version": 3
   },
   "file_extension": ".py",
   "mimetype": "text/x-python",
   "name": "python",
   "nbconvert_exporter": "python",
   "pygments_lexer": "ipython3",
   "version": "3.10.9"
  }
 },
 "nbformat": 4,
 "nbformat_minor": 5
}

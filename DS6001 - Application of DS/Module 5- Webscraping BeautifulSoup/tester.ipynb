{
 "cells": [
  {
   "cell_type": "code",
   "execution_count": 2,
   "id": "dc6ac51a-59a1-469b-bb70-61402763fcaf",
   "metadata": {
    "tags": []
   },
   "outputs": [],
   "source": [
    "import numpy as np\n",
    "import pandas as pd\n",
    "import requests\n",
    "import json\n",
    "import os\n",
    "import dotenv\n",
    "import sys"
   ]
  },
  {
   "cell_type": "code",
   "execution_count": 3,
   "id": "dac1f709-4401-4b20-88b6-56850b9d155d",
   "metadata": {
    "tags": []
   },
   "outputs": [
    {
     "name": "stderr",
     "output_type": "stream",
     "text": [
      "/var/folders/bn/jw4b363n6cz8jy9jwmhp7q0c0000gn/T/ipykernel_57805/3438300699.py:3: MarkupResemblesLocatorWarning: The input looks more like a URL than markup. You may want to use an HTTP client like requests to get the document behind the URL, and feed that document to Beautiful Soup.\n",
      "  BeautifulSoup(\"http://www.google.com\")\n"
     ]
    },
    {
     "data": {
      "text/plain": [
       "<html><body><p>http://www.google.com</p></body></html>"
      ]
     },
     "execution_count": 3,
     "metadata": {},
     "output_type": "execute_result"
    }
   ],
   "source": [
    "from bs4 import BeautifulSoup\n",
    "\n",
    "BeautifulSoup(\"http://www.google.com\")"
   ]
  },
  {
   "cell_type": "code",
   "execution_count": 4,
   "id": "8a7c6399-6f96-4f6b-8146-28e2517a23c1",
   "metadata": {
    "tags": []
   },
   "outputs": [],
   "source": [
    "url = \"https://towardsdatascience.com/ethics-in-web-scraping-b96b18136f01\""
   ]
  },
  {
   "cell_type": "code",
   "execution_count": 8,
   "id": "4775d108-4952-4fc7-9d23-d82d2bdc5b07",
   "metadata": {
    "tags": []
   },
   "outputs": [],
   "source": [
    "r = requests.get(url)\n",
    "soup = BeautifulSoup(r.text, \"html.parser\")"
   ]
  },
  {
   "cell_type": "code",
   "execution_count": 9,
   "id": "a5d46621-66ef-474d-a74e-a66fd7e3c3ec",
   "metadata": {
    "tags": []
   },
   "outputs": [
    {
     "data": {
      "text/plain": [
       "'Ethics in Web Scraping. We all scrape web data. Well, those of… | by James Densmore | Towards Data ScienceOpen in appSign upSign InWriteSign upSign InEthics in Web ScrapingJames Densmore·FollowPublished inTowards Data Science·3 min read·Jul 23, 2017--5ListenShareWe all scrape web data. Well, those of us who work with data do. Data scientists, marketers, data journalists, and the data curious alike. Lately, I’ve been thinking more about the ethics of the practice and have been dissatisfied by the lack of consensus on the topic.Let me be clear that I’m talking ethics not the law. The law in regards to scraping web data is complex, fuzzy and ripe for reform, but that’s another matter. It’s not that no one is thinking, or writing, about the ethics in scraping but rather that both those scraping and those being scraped can’t agree on basic principles.I’ve been on both sides. I scape data mostly for personal projects, but I’ve employed it as a form of data collection on the job as well. On the other side, I’ve wrestled over how to filter out “bots” from my own or my employer’s web logs and analytics in order to focus on real customers. It’s been a reality of life for years now, and rather than fighting it let’s just set some ground rules.Though I have no illusion that these rules are complete and absolute, they cover the key points of contention I’ve come across over the years.The Ethical ScraperI, the web scraper will live by the following principles:If you have a public API that provides the data I’m looking for, I’ll use it and avoid scraping all together.I will always provide a User Agent string that makes my intentions clear and provides a way for you to contact me with questions or concerns.I will request data at a reasonable rate. I will strive to never be confused for a DDoS attack.I will only save the data I absolutely need from your page. If all I need it OpenGraph meta-data, that’s all I’ll keep.I will respect any content I do keep. I’ll never pass it off as my own.I will look for ways to return value to you. Maybe I can drive some (real) traffic to your site or credit you in an article or post.I will respond in a timely fashion to your outreach and work with you towards a resolution.I will scrape for the purpose of creating new value from the data, not to duplicate it.The Ethical Site OwnerI, the site owner will live by the following principles:I will allow ethical scrapers to access my site as long as they are not a burden on my site’s performance.I will respect transparent User Agent strings rather than blocking them and encouraging use of scrapers masked as human visitors.I will reach out to the owner of the scraper (thanks to their ethical User Agent string) before blocking permanently. A temporary block is acceptable in the case of site performance or ethical concerns.I understand that scrapers are a reality of the open web.I will consider public APIs to provide data as an alternative to scrapers.Where Does This Leave Us?The ease of scraping in PythonThe fact is, scraping data is easy. With a few lines of Python and the help of some awesome libraries such as urllib2 (or Requests if you prefer) and BeautifulSoup you can grab and parse the HTML of a page. It’s so easy in fact, that responsible use is more important than ever.Of course, scraping a few thousand blog posts for a weekend project isn’t the problem. Heck, even scraping for use in business can be done quite ethically in my opinion. It’s high volume web scraping for questionable commercial use that gets the most attention and poses the highest risk for those of us who rely on the vast data of the web to innovate, learn and create new value.With a little respect we can keep a good thing going.Thanks for reading! You can connect with me or read my other blog posts on my website.Web ScrapingEthicsData Science----5FollowWritten by James Densmore244 Followers·Writer for Towards Data ScienceData Science and Data Engineering Consultant at Data Liftoff https://www.dataliftoff.comFollowMore from James Densmore and Towards Data ScienceJames DensmoreWhat I learned from scraping over 15,000 web pagesIn the grand scheme of the web, 15,000 web pages is a drop in the bucket. However, you can learn a lot by sourcing and scraping that many…5 min read·Jan 1, 2019--1Khuyen TraninTowards Data ScienceStop Hard Coding in a Data Science Project\\u200a—\\u200aUse Config Files InsteadAnd How to Efficiently Interact with Config Files in Python·6 min read·May 26--22Miriam SantosinTowards Data SciencePandas 2.0: A Game-Changer for Data Scientists?The Top 5 Features for Efficient Data Manipulation7 min read·Jun 27--12James DensmoreYou Probably Don’t Need Personally Identifiable Info (PII) in Your Data WarehouseIt’s no secret that regulations such as GDPR are impacting how companies are handing personal data. It’s not just impacting marketers and…4 min read·Mar 20, 2019--See all from James DensmoreSee all from Towards Data ScienceRecommended from MediumThe PyCoachinArtificial CornerYou’re Using ChatGPT Wrong! Here’s How to Be Ahead of 99% of ChatGPT UsersMaster ChatGPT by learning prompt engineering.·7 min read·Mar 17--466Kristen WaltersinAdventures In AI5 Ways I’m Using AI to Make Money in 2023These doubled my income last year·9 min read·Jun 27--221ListsPredictive Modeling w/ Python18 stories·75 savesNew_Reading_List173 stories·9 savesPractical Guides to Machine Learning10 stories·84 savesCoding & Development11 stories·28 savesZach QuinninPipeline: Your Data Engineering ResourceCreating The Dashboard That Got Me A Data Analyst Job OfferA walkthrough of the Udemy dashboard that got me a job offer from one of the biggest names in academic publishing.·9 min read·Dec 5, 2022--18JP BrownWhat Really Happens to a Human Body at Titanic DepthsA Millisecond-by-Millisecond Explanation·4 min read·Jun 22--339Unbecoming10 Seconds That Ended My 20 Year MarriageIt’s August in Northern Virginia, hot and humid. I still haven’t showered from my morning trail run. I’m wearing my stay-at-home mom…·4 min read·Feb 16, 2022--823Zach QuinninPipeline: Your Data Engineering Resource3 Data Science Projects That Got Me 12 Interviews. And 1 That Got Me in Trouble.3 work samples that got my foot in the door, and 1 that almost got me tossed out.·7 min read·Aug 29, 2022--46See more recommendationsHelpStatusWritersBlogCareersPrivacyTermsAboutText to speechTeams\\n\\n\\n\\n\\n\\n\\n\\n\\n\\n\\n\\n\\n\\n\\n\\n\\n\\n\\n\\n\\n\\n\\n\\n\\n\\n\\n\\n\\n\\n\\n\\n\\n'"
      ]
     },
     "execution_count": 9,
     "metadata": {},
     "output_type": "execute_result"
    }
   ],
   "source": [
    "\n",
    "soup.get_text()"
   ]
  },
  {
   "cell_type": "code",
   "execution_count": 13,
   "id": "dda29965-96d8-4cec-b87e-0a1d97add830",
   "metadata": {
    "tags": []
   },
   "outputs": [
    {
     "data": {
      "text/plain": [
       "<p class=\"pw-post-body-paragraph ms mt gq mu b mv mw mx my mz na nb nc nd ne nf ng nh ni nj nk nl nm nn no np gj bj\" id=\"f9b0\">We all scrape web data. Well, those of us who work with data do. Data scientists, marketers, data journalists, and the data curious alike. Lately, I’ve been thinking more about the ethics of the practice and have been dissatisfied by the lack of consensus on the topic.</p>"
      ]
     },
     "execution_count": 13,
     "metadata": {},
     "output_type": "execute_result"
    }
   ],
   "source": [
    "article = soup.find_all(\"p\", \"pw-post-body-paragraph\")\n",
    "article[0]"
   ]
  },
  {
   "cell_type": "code",
   "execution_count": 18,
   "id": "4cb7afcb-ac36-4833-a3a1-1e5b07c28b80",
   "metadata": {
    "tags": []
   },
   "outputs": [
    {
     "data": {
      "text/plain": [
       "<p class=\"pw-post-body-paragraph ms mt gq mu b mv mw mx my mz na nb nc nd ne nf ng nh ni nj nk nl nm nn no np gj bj\" id=\"7541\">Let me be clear that I’m talking <strong class=\"mu gr\">ethics</strong> not the law. The law in regards to scraping web data is complex, fuzzy and ripe for reform, but that’s another matter. It’s not that no one is thinking, or writing, about the ethics in scraping but rather that both those scraping and those being scraped can’t agree on basic principles.</p>"
      ]
     },
     "execution_count": 18,
     "metadata": {},
     "output_type": "execute_result"
    }
   ],
   "source": [
    "article[0].find_next_sibling() "
   ]
  },
  {
   "cell_type": "code",
   "execution_count": null,
   "id": "9684381c-a37f-47b7-8bb0-0c4b5b54cda0",
   "metadata": {},
   "outputs": [],
   "source": []
  }
 ],
 "metadata": {
  "kernelspec": {
   "display_name": "Python 3 (ipykernel)",
   "language": "python",
   "name": "python3"
  },
  "language_info": {
   "codemirror_mode": {
    "name": "ipython",
    "version": 3
   },
   "file_extension": ".py",
   "mimetype": "text/x-python",
   "name": "python",
   "nbconvert_exporter": "python",
   "pygments_lexer": "ipython3",
   "version": "3.10.11"
  }
 },
 "nbformat": 4,
 "nbformat_minor": 5
}

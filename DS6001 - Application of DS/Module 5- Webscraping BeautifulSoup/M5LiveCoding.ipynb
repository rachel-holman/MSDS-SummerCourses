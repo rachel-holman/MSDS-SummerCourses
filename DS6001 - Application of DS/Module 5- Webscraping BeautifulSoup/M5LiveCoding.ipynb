{
 "cells": [
  {
   "cell_type": "markdown",
   "id": "130b73db-bb4a-4517-bfde-a3c6072ffdc5",
   "metadata": {
    "tags": []
   },
   "source": [
    "# Live Coding - Module 5\n",
    "## Rachel Holman"
   ]
  },
  {
   "cell_type": "code",
   "execution_count": 1,
   "id": "03752236-2d3a-494f-ad66-e200f3bdb2f9",
   "metadata": {
    "tags": []
   },
   "outputs": [],
   "source": [
    "import numpy as np\n",
    "import pandas as pd\n",
    "import requests\n",
    "from bs4 import BeautifulSoup\n",
    "import json"
   ]
  },
  {
   "cell_type": "markdown",
   "id": "a84f5e32-b427-4762-b8d8-4dfb99739a60",
   "metadata": {},
   "source": [
    "## headers"
   ]
  },
  {
   "cell_type": "code",
   "execution_count": 2,
   "id": "163ee189-7cf2-4d7a-bda6-5207b73ba906",
   "metadata": {
    "tags": []
   },
   "outputs": [
    {
     "data": {
      "text/plain": [
       "'python-requests/2.29.0'"
      ]
     },
     "execution_count": 2,
     "metadata": {},
     "output_type": "execute_result"
    }
   ],
   "source": [
    "r = requests.get(\"https://httpbin.org/user-agent\")\n",
    "useragent= json.loads(r.text)['user-agent']\n",
    "useragent"
   ]
  },
  {
   "cell_type": "code",
   "execution_count": 3,
   "id": "f5c22188-d340-493a-b7bb-e13d63d34bb3",
   "metadata": {
    "tags": []
   },
   "outputs": [],
   "source": [
    "headers = {'User-Agent': useragent,\n",
    "           'From': 'dnw9qk@virginia.edu'}"
   ]
  },
  {
   "cell_type": "markdown",
   "id": "8b293fe9-ff41-4b60-97c4-33964b88d3e6",
   "metadata": {},
   "source": [
    "## Get raw HTML from the website we are scrping"
   ]
  },
  {
   "cell_type": "code",
   "execution_count": 4,
   "id": "9c778ffb-d437-4ca4-8337-250304f4fe35",
   "metadata": {
    "tags": []
   },
   "outputs": [
    {
     "data": {
      "text/plain": [
       "<Response [200]>"
      ]
     },
     "execution_count": 4,
     "metadata": {},
     "output_type": "execute_result"
    }
   ],
   "source": [
    "url = \"https://www.rottentomatoes.com/browse/movies_in_theaters/sort:a_z?page=5\"\n",
    "\n",
    "r= requests.get(url, headers=headers)\n",
    "r"
   ]
  },
  {
   "cell_type": "code",
   "execution_count": 5,
   "id": "7af5f113-b88c-461b-9f5b-2d98e49ad337",
   "metadata": {
    "tags": []
   },
   "outputs": [],
   "source": [
    "mysoup = BeautifulSoup(r.text)\n",
    "#mysoup"
   ]
  },
  {
   "cell_type": "markdown",
   "id": "4af18d0f-6c2b-4896-9c20-9445b396198c",
   "metadata": {},
   "source": [
    "## Movies are either in an a tag or a div tag\n",
    "### a tag movies"
   ]
  },
  {
   "cell_type": "code",
   "execution_count": 6,
   "id": "6883829c-72c6-4bf0-bf25-ddf0ce016714",
   "metadata": {
    "tags": []
   },
   "outputs": [],
   "source": [
    "movielist = mysoup.find_all('a', 'js-tile-link')\n",
    "#movielist[0].find('span', 'p--small').text.strip()"
   ]
  },
  {
   "cell_type": "code",
   "execution_count": 7,
   "id": "ec752423-ed1f-41eb-86cd-5e14154dd95d",
   "metadata": {
    "tags": []
   },
   "outputs": [
    {
     "data": {
      "text/plain": [
       "['20 Days in Mariupol',\n",
       " '7:11 PM',\n",
       " 'Bad Girl Boogey',\n",
       " 'Belle',\n",
       " 'Bhaag Saale',\n",
       " 'Blue Jean',\n",
       " 'Contempt',\n",
       " 'Have You Got It Yet? The Story of Syd Barrett and Pink Floyd',\n",
       " \"L'immensità\",\n",
       " 'Lost in the Stars',\n",
       " 'Lynch/Oz',\n",
       " 'Millie Lies Low',\n",
       " 'Neeyat',\n",
       " 'ODESZA: The Last Goodbye Cinematic Experience',\n",
       " 'Odd Hours, No Pay, Cool Hat',\n",
       " 'Once Upon a Time in Uganda',\n",
       " 'One More Chance',\n",
       " 'Padmini',\n",
       " 'Rangabali',\n",
       " 'Rudrangi',\n",
       " 'Squaring the Circle (The Story of Hipgnosis)',\n",
       " 'The 50th Anniversary of Lynyrd Skynyrd',\n",
       " 'The Crusades',\n",
       " 'The League',\n",
       " 'The Miracle Club',\n",
       " 'The Mother and the Whore',\n",
       " 'The Wicker Man',\n",
       " 'UFC 290: Volkanovski vs. Rodríguez',\n",
       " 'Werckmeister Harmonies',\n",
       " 'Wham!']"
      ]
     },
     "execution_count": 7,
     "metadata": {},
     "output_type": "execute_result"
    }
   ],
   "source": [
    "titles1 = [m.find('span', 'p--small').text.strip() for m in movielist]\n",
    "titles1"
   ]
  },
  {
   "cell_type": "code",
   "execution_count": 8,
   "id": "c0b274d6-3a20-4685-bfea-2292250c29d6",
   "metadata": {
    "tags": []
   },
   "outputs": [
    {
     "data": {
      "text/plain": [
       "['Opens Jul 14, 2023',\n",
       " 'Opened Jul 07, 2023',\n",
       " 'Opened Jul 07, 2023',\n",
       " 'Opens Jul 14, 2023',\n",
       " 'Opened Jul 07, 2023',\n",
       " 'Opened Jun 09, 2023',\n",
       " 'Opened Dec 18, 1963',\n",
       " 'Opens Jul 14, 2023',\n",
       " 'Opened May 12, 2023',\n",
       " 'Opened Jul 07, 2023',\n",
       " 'Opened Jun 02, 2023',\n",
       " 'Opened Jun 30, 2023',\n",
       " 'Opened Jul 07, 2023',\n",
       " 'Opened Jul 07, 2023',\n",
       " 'Opened Jul 07, 2023',\n",
       " 'Opened Jul 04, 2023',\n",
       " 'Opened Jul 07, 2023',\n",
       " 'Opened Jul 07, 2023',\n",
       " 'Opened Jul 07, 2023',\n",
       " 'Opened Jul 07, 2023',\n",
       " 'Opened Jun 07, 2023',\n",
       " 'Opened Jul 08, 2023',\n",
       " 'Opened Jul 07, 2023',\n",
       " 'Opened Jul 07, 2023',\n",
       " 'Opens Jul 14, 2023',\n",
       " 'Opened Mar 25, 1974',\n",
       " 'Opened Aug 07, 1974',\n",
       " 'Opened Jul 08, 2023',\n",
       " '',\n",
       " 'Opened Jul 05, 2023']"
      ]
     },
     "execution_count": 8,
     "metadata": {},
     "output_type": "execute_result"
    }
   ],
   "source": [
    "#movielist[0].find('span', 'smaller').string.strip()\n",
    "# if not open date, put empty string\n",
    "def getopendate(m):\n",
    "    openlist = m.find_all('span', 'smaller')\n",
    "    if len(openlist) >0:\n",
    "        opendate = openlist[0].string.strip()\n",
    "    else:\n",
    "        opendate = ''\n",
    "    return opendate\n",
    "\n",
    "opendates1 = [getopendate(m) for m in movielist]\n",
    "opendates1"
   ]
  },
  {
   "cell_type": "code",
   "execution_count": 9,
   "id": "bfb2695a-f441-411a-8def-18a360c55f35",
   "metadata": {},
   "outputs": [],
   "source": [
    "audiencescore1 =[m.find('score-pairs')['audiencescore'] for m in movielist]\n",
    "audiencesentiment1 =[m.find('score-pairs')['audiencesentiment'] for m in movielist]\n",
    "criticsscore1 =[m.find('score-pairs')['criticsscore'] for m in movielist]\n",
    "criticssentiment1 =[m.find('score-pairs')['criticssentiment'] for m in movielist]"
   ]
  },
  {
   "cell_type": "code",
   "execution_count": 10,
   "id": "cf547acd-b50c-4ae5-85f2-feb1d29a8bdf",
   "metadata": {
    "tags": []
   },
   "outputs": [
    {
     "data": {
      "text/plain": [
       "['https://rottentomatoes.com/m/20_days_in_mariupol',\n",
       " 'https://rottentomatoes.com/m/7_11_pm',\n",
       " 'https://rottentomatoes.com/m/bad_girl_boogey',\n",
       " 'https://rottentomatoes.com/m/belle_2023',\n",
       " 'https://rottentomatoes.com/m/bhaag_saale',\n",
       " 'https://rottentomatoes.com/m/blue_jean',\n",
       " 'https://rottentomatoes.com/m/contempt',\n",
       " 'https://rottentomatoes.com/m/have_you_got_it_yet_the_story_of_syd_barrett_and_pink_floyd',\n",
       " 'https://rottentomatoes.com/m/limmensita_2022',\n",
       " 'https://rottentomatoes.com/m/lost_in_the_stars_2022',\n",
       " 'https://rottentomatoes.com/m/lynch_oz',\n",
       " 'https://rottentomatoes.com/m/millie_lies_low',\n",
       " 'https://rottentomatoes.com/m/neeyat',\n",
       " 'https://rottentomatoes.com/m/odesza_the_last_goodbye_cinematic_experience',\n",
       " 'https://rottentomatoes.com/m/odd_hours_no_pay_cool_hat',\n",
       " 'https://rottentomatoes.com/m/once_upon_a_time_in_uganda',\n",
       " 'https://rottentomatoes.com/m/one_more_chance_2023',\n",
       " 'https://rottentomatoes.com/m/padmini',\n",
       " 'https://rottentomatoes.com/m/rangabali',\n",
       " 'https://rottentomatoes.com/m/rudrangi',\n",
       " 'https://rottentomatoes.com/m/squaring_the_circle_the_story_of_hipgnosis',\n",
       " 'https://rottentomatoes.com/m/the_50th_anniversary_of_lynyrd_skynyrd',\n",
       " 'https://rottentomatoes.com/m/the_crusades_2023',\n",
       " 'https://rottentomatoes.com/m/the_league',\n",
       " 'https://rottentomatoes.com/m/the_miracle_club',\n",
       " 'https://rottentomatoes.com/m/the_mother_and_the_whore',\n",
       " 'https://rottentomatoes.com/m/the_wicker_man_1973',\n",
       " 'https://rottentomatoes.com/m/ufc_290_volkanovski_vs_rodriguez',\n",
       " 'https://rottentomatoes.com/m/werckmeister_harmonies',\n",
       " 'https://rottentomatoes.com/m/wham']"
      ]
     },
     "execution_count": 10,
     "metadata": {},
     "output_type": "execute_result"
    }
   ],
   "source": [
    "endpoints1 = ['https://rottentomatoes.com'+ m['href'] for m in movielist]\n",
    "endpoints1"
   ]
  },
  {
   "cell_type": "markdown",
   "id": "764440cc-fbec-4627-9d8c-d939c4460a65",
   "metadata": {},
   "source": [
    "### div tags"
   ]
  },
  {
   "cell_type": "code",
   "execution_count": 11,
   "id": "d9b421b8-6acb-4852-9d8e-50b3ceeb3a9e",
   "metadata": {
    "tags": []
   },
   "outputs": [
    {
     "data": {
      "text/plain": [
       "['About My Father',\n",
       " 'Afire',\n",
       " 'Amanda',\n",
       " 'Asteroid City',\n",
       " 'Biosphere',\n",
       " 'Black Ice',\n",
       " \"Chile '76\",\n",
       " 'Close to Vermeer',\n",
       " 'Dalíland',\n",
       " \"Dead Man's Hand\",\n",
       " 'Desperate Souls, Dark City and the Legend of Midnight Cowboy',\n",
       " 'Earth Mama',\n",
       " 'Elemental',\n",
       " 'Every Body',\n",
       " 'Fast X',\n",
       " 'Final Cut',\n",
       " 'Fourth Grade',\n",
       " 'Full Time',\n",
       " 'Guardians of the Galaxy Vol. 3',\n",
       " 'Indiana Jones and the Dial of Destiny',\n",
       " 'Insidious: The Red Door',\n",
       " \"It Ain't Over\",\n",
       " 'Joy Ride',\n",
       " 'Lakota Nation vs. United States',\n",
       " 'Master Gardener',\n",
       " 'Mission: Impossible - Dead Reckoning, Part One',\n",
       " 'No Hard Feelings',\n",
       " \"Other People's Children\",\n",
       " 'Our Deadly Vows',\n",
       " 'PSYCHO-PASS: Providence',\n",
       " 'Past Lives',\n",
       " 'Revoir Paris',\n",
       " 'Ruby Gillman, Teenage Kraken',\n",
       " 'Scarlet',\n",
       " 'Somewhere in Queens',\n",
       " 'Sound of Freedom',\n",
       " 'Spider-Man: Across the Spider-Verse',\n",
       " 'The Angry Black Girl and Her Monster',\n",
       " 'The Blackening',\n",
       " 'The Boogeyman',\n",
       " 'The Channel',\n",
       " 'The Childe',\n",
       " 'The Cow Who Sang a Song Into the Future',\n",
       " 'The Deepest Breath',\n",
       " 'The Flash',\n",
       " 'The Flood',\n",
       " 'The Last Rider',\n",
       " 'The Lesson',\n",
       " 'The Little Mermaid',\n",
       " 'The Modelizer',\n",
       " 'The Night of the 12th',\n",
       " 'The Roundup: No Way Out',\n",
       " 'The Super Mario Bros. Movie',\n",
       " 'The YouTube Effect',\n",
       " 'Theater Camp',\n",
       " 'Transformers: Rise of the Beasts',\n",
       " 'Two Tickets to Greece']"
      ]
     },
     "execution_count": 11,
     "metadata": {},
     "output_type": "execute_result"
    }
   ],
   "source": [
    "movielist = mysoup.find_all('div', 'js-tile-link')\n",
    "titles2 = [m.find('span', 'p--small').text.strip() for m in movielist]\n",
    "titles2"
   ]
  },
  {
   "cell_type": "code",
   "execution_count": 12,
   "id": "d35c1b9a-f682-4cd7-8a5a-09423c8d95c2",
   "metadata": {
    "tags": []
   },
   "outputs": [
    {
     "data": {
      "text/plain": [
       "['Opened May 26, 2023',\n",
       " 'Opens Jul 14, 2023',\n",
       " 'Opened Jul 07, 2023',\n",
       " 'Opened Jun 23, 2023',\n",
       " 'Opened Jul 07, 2023',\n",
       " 'Opens Jul 14, 2023',\n",
       " 'Opened May 05, 2023',\n",
       " 'Opened May 26, 2023',\n",
       " 'Opened Jun 09, 2023',\n",
       " 'Opened Jul 07, 2023',\n",
       " 'Opened Jun 23, 2023',\n",
       " 'Opened Jul 07, 2023',\n",
       " 'Opened Jun 16, 2023',\n",
       " 'Opened Jun 30, 2023',\n",
       " 'Opened May 19, 2023',\n",
       " 'Opens Jul 14, 2023',\n",
       " 'Opens Jul 14, 2023',\n",
       " 'Opened Feb 03, 2023',\n",
       " 'Opened May 05, 2023',\n",
       " 'Opened Jun 30, 2023',\n",
       " 'Opened Jul 07, 2023',\n",
       " 'Opened May 12, 2023',\n",
       " 'Opened Jul 07, 2023',\n",
       " 'Opens Jul 14, 2023',\n",
       " 'Opened May 19, 2023',\n",
       " 'Opens Jul 12, 2023',\n",
       " 'Opened Jun 23, 2023',\n",
       " 'Opened Apr 21, 2023',\n",
       " 'Opened Jul 07, 2023',\n",
       " 'Opens Jul 14, 2023',\n",
       " 'Opened Jun 30, 2023',\n",
       " 'Opened Jun 23, 2023',\n",
       " 'Opened Jun 30, 2023',\n",
       " 'Opened Jun 09, 2023',\n",
       " 'Opened Apr 21, 2023',\n",
       " 'Opened Jul 04, 2023',\n",
       " 'Opened Jun 02, 2023',\n",
       " 'Opened Jun 09, 2023',\n",
       " 'Opened Jun 16, 2023',\n",
       " 'Opened Jun 02, 2023',\n",
       " 'Opens Jul 14, 2023',\n",
       " 'Opened Jun 30, 2023',\n",
       " 'Opened May 19, 2023',\n",
       " 'Opens Jul 14, 2023',\n",
       " 'Opened Jun 16, 2023',\n",
       " 'Opens Jul 14, 2023',\n",
       " 'Opened Jun 23, 2023',\n",
       " 'Opened Jul 07, 2023',\n",
       " 'Opened May 26, 2023',\n",
       " 'Opens Jul 14, 2023',\n",
       " 'Opened May 19, 2023',\n",
       " 'Opened Jun 02, 2023',\n",
       " 'Opened Apr 05, 2023',\n",
       " 'Opened Jul 07, 2023',\n",
       " 'Opens Jul 14, 2023',\n",
       " 'Opened Jun 09, 2023',\n",
       " 'Opens Jul 14, 2023']"
      ]
     },
     "execution_count": 12,
     "metadata": {},
     "output_type": "execute_result"
    }
   ],
   "source": [
    "opendates2 = [m.find('span', 'smaller').string.strip() for m in movielist]\n",
    "opendates2"
   ]
  },
  {
   "cell_type": "code",
   "execution_count": 13,
   "id": "46847978-cca5-45d4-b81f-76dd7f854557",
   "metadata": {
    "tags": []
   },
   "outputs": [],
   "source": [
    "audiencescore2 =[m.find('score-pairs')['audiencescore'] for m in movielist]\n",
    "audiencesentiment2 =[m.find('score-pairs')['audiencesentiment'] for m in movielist]\n",
    "criticsscore2 =[m.find('score-pairs')['criticsscore'] for m in movielist]\n",
    "criticssentiment2 =[m.find('score-pairs')['criticssentiment'] for m in movielist]"
   ]
  },
  {
   "cell_type": "code",
   "execution_count": 14,
   "id": "36b5a103-2737-48f5-b376-522ff9215dbf",
   "metadata": {
    "tags": []
   },
   "outputs": [
    {
     "data": {
      "text/plain": [
       "['https://rottentomatoes.com/m/about_my_father_2023',\n",
       " 'https://rottentomatoes.com/m/afire',\n",
       " 'https://rottentomatoes.com/m/amanda_2022',\n",
       " 'https://rottentomatoes.com/m/asteroid_city',\n",
       " 'https://rottentomatoes.com/m/biosphere',\n",
       " 'https://rottentomatoes.com/m/black_ice_2022',\n",
       " 'https://rottentomatoes.com/m/chile_76',\n",
       " 'https://rottentomatoes.com/m/close_to_vermeer',\n",
       " 'https://rottentomatoes.com/m/daliland',\n",
       " 'https://rottentomatoes.com/m/dead_mans_hand_2023',\n",
       " 'https://rottentomatoes.com/m/desperate_souls_dark_city_and_the_legend_of_midnight_cowboy',\n",
       " 'https://rottentomatoes.com/m/earth_mama',\n",
       " 'https://rottentomatoes.com/m/elemental_2023',\n",
       " 'https://rottentomatoes.com/m/every_body',\n",
       " 'https://rottentomatoes.com/m/fast_x',\n",
       " 'https://rottentomatoes.com/m/final_cut_2022',\n",
       " 'https://rottentomatoes.com/m/fourth_grade',\n",
       " 'https://rottentomatoes.com/m/full_time',\n",
       " 'https://rottentomatoes.com/m/guardians_of_the_galaxy_vol_3',\n",
       " 'https://rottentomatoes.com/m/indiana_jones_and_the_dial_of_destiny',\n",
       " 'https://rottentomatoes.com/m/insidious_the_red_door',\n",
       " 'https://rottentomatoes.com/m/it_aint_over',\n",
       " 'https://rottentomatoes.com/m/joy_ride_2023',\n",
       " 'https://rottentomatoes.com/m/lakota_nation_vs_united_states',\n",
       " 'https://rottentomatoes.com/m/master_gardener',\n",
       " 'https://rottentomatoes.com/m/mission_impossible_dead_reckoning_part_one',\n",
       " 'https://rottentomatoes.com/m/no_hard_feelings_2023',\n",
       " 'https://rottentomatoes.com/m/other_peoples_children_2022',\n",
       " 'https://rottentomatoes.com/m/our_deadly_vows',\n",
       " 'https://rottentomatoes.com/m/psycho_pass_providence',\n",
       " 'https://rottentomatoes.com/m/past_lives',\n",
       " 'https://rottentomatoes.com/m/revoir_paris',\n",
       " 'https://rottentomatoes.com/m/ruby_gillman_teenage_kraken',\n",
       " 'https://rottentomatoes.com/m/scarlet_2022',\n",
       " 'https://rottentomatoes.com/m/somewhere_in_queens',\n",
       " 'https://rottentomatoes.com/m/sound_of_freedom',\n",
       " 'https://rottentomatoes.com/m/spider_man_across_the_spider_verse',\n",
       " 'https://rottentomatoes.com/m/the_angry_black_girl_and_her_monster',\n",
       " 'https://rottentomatoes.com/m/the_blackening',\n",
       " 'https://rottentomatoes.com/m/the_boogeyman',\n",
       " 'https://rottentomatoes.com/m/the_channel_2023',\n",
       " 'https://rottentomatoes.com/m/the_childe',\n",
       " 'https://rottentomatoes.com/m/the_cow_who_sang_a_song_into_the_future',\n",
       " 'https://rottentomatoes.com/m/the_deepest_breath',\n",
       " 'https://rottentomatoes.com/m/the_flash_2023',\n",
       " 'https://rottentomatoes.com/m/the_flood_2023',\n",
       " 'https://rottentomatoes.com/m/the_last_rider_2022',\n",
       " 'https://rottentomatoes.com/m/the_lesson_2023',\n",
       " 'https://rottentomatoes.com/m/the_little_mermaid_2023',\n",
       " 'https://rottentomatoes.com/m/the_modelizer',\n",
       " 'https://rottentomatoes.com/m/the_night_of_the_12th',\n",
       " 'https://rottentomatoes.com/m/the_roundup_no_way_out',\n",
       " 'https://rottentomatoes.com/m/the_super_mario_bros_movie',\n",
       " 'https://rottentomatoes.com/m/the_youtube_effect',\n",
       " 'https://rottentomatoes.com/m/theater_camp',\n",
       " 'https://rottentomatoes.com/m/transformers_rise_of_the_beasts',\n",
       " 'https://rottentomatoes.com/m/two_tickets_to_greece']"
      ]
     },
     "execution_count": 14,
     "metadata": {},
     "output_type": "execute_result"
    }
   ],
   "source": [
    "endpoints2 = ['https://rottentomatoes.com'+ m.find('a', href=True)['href'] for m in movielist]\n",
    "endpoints2"
   ]
  },
  {
   "cell_type": "markdown",
   "id": "f5407f38-5870-4ad8-964a-56f538e9ddad",
   "metadata": {},
   "source": [
    "### Build dataframe"
   ]
  },
  {
   "cell_type": "code",
   "execution_count": 15,
   "id": "87ff64d3-db2f-4fbf-b1ab-02e17176cfe9",
   "metadata": {
    "tags": []
   },
   "outputs": [],
   "source": [
    "titles = titles1 + titles2\n",
    "opendates = opendates1 +opendates2\n",
    "audiencescore = audiencescore1 + audiencescore2\n",
    "audiencesentiment = audiencesentiment1 + audiencesentiment2\n",
    "criticsscore = criticsscore1 + criticsscore2\n",
    "criticssentiment = criticssentiment1 + criticssentiment2\n",
    "endpoints = endpoints1 + endpoints2"
   ]
  },
  {
   "cell_type": "code",
   "execution_count": 16,
   "id": "c3502784-b008-435c-92f6-6e8a18d423da",
   "metadata": {
    "tags": []
   },
   "outputs": [
    {
     "data": {
      "text/html": [
       "<div>\n",
       "<style scoped>\n",
       "    .dataframe tbody tr th:only-of-type {\n",
       "        vertical-align: middle;\n",
       "    }\n",
       "\n",
       "    .dataframe tbody tr th {\n",
       "        vertical-align: top;\n",
       "    }\n",
       "\n",
       "    .dataframe thead th {\n",
       "        text-align: right;\n",
       "    }\n",
       "</style>\n",
       "<table border=\"1\" class=\"dataframe\">\n",
       "  <thead>\n",
       "    <tr style=\"text-align: right;\">\n",
       "      <th></th>\n",
       "      <th>titles</th>\n",
       "      <th>opendates</th>\n",
       "      <th>audiencescore</th>\n",
       "      <th>criticsscore</th>\n",
       "      <th>audiencesentiment</th>\n",
       "      <th>criticssentiment</th>\n",
       "      <th>endpoints</th>\n",
       "    </tr>\n",
       "  </thead>\n",
       "  <tbody>\n",
       "    <tr>\n",
       "      <th>0</th>\n",
       "      <td>20 Days in Mariupol</td>\n",
       "      <td>Opens Jul 14, 2023</td>\n",
       "      <td></td>\n",
       "      <td>100</td>\n",
       "      <td></td>\n",
       "      <td>positive</td>\n",
       "      <td>https://rottentomatoes.com/m/20_days_in_mariupol</td>\n",
       "    </tr>\n",
       "    <tr>\n",
       "      <th>1</th>\n",
       "      <td>7:11 PM</td>\n",
       "      <td>Opened Jul 07, 2023</td>\n",
       "      <td>96</td>\n",
       "      <td></td>\n",
       "      <td>positive</td>\n",
       "      <td></td>\n",
       "      <td>https://rottentomatoes.com/m/7_11_pm</td>\n",
       "    </tr>\n",
       "    <tr>\n",
       "      <th>2</th>\n",
       "      <td>Bad Girl Boogey</td>\n",
       "      <td>Opened Jul 07, 2023</td>\n",
       "      <td></td>\n",
       "      <td>70</td>\n",
       "      <td></td>\n",
       "      <td>positive</td>\n",
       "      <td>https://rottentomatoes.com/m/bad_girl_boogey</td>\n",
       "    </tr>\n",
       "    <tr>\n",
       "      <th>3</th>\n",
       "      <td>Belle</td>\n",
       "      <td>Opens Jul 14, 2023</td>\n",
       "      <td></td>\n",
       "      <td></td>\n",
       "      <td></td>\n",
       "      <td></td>\n",
       "      <td>https://rottentomatoes.com/m/belle_2023</td>\n",
       "    </tr>\n",
       "    <tr>\n",
       "      <th>4</th>\n",
       "      <td>Bhaag Saale</td>\n",
       "      <td>Opened Jul 07, 2023</td>\n",
       "      <td></td>\n",
       "      <td></td>\n",
       "      <td></td>\n",
       "      <td></td>\n",
       "      <td>https://rottentomatoes.com/m/bhaag_saale</td>\n",
       "    </tr>\n",
       "    <tr>\n",
       "      <th>...</th>\n",
       "      <td>...</td>\n",
       "      <td>...</td>\n",
       "      <td>...</td>\n",
       "      <td>...</td>\n",
       "      <td>...</td>\n",
       "      <td>...</td>\n",
       "      <td>...</td>\n",
       "    </tr>\n",
       "    <tr>\n",
       "      <th>82</th>\n",
       "      <td>The Super Mario Bros. Movie</td>\n",
       "      <td>Opened Apr 05, 2023</td>\n",
       "      <td>95</td>\n",
       "      <td>58</td>\n",
       "      <td>positive</td>\n",
       "      <td>negative</td>\n",
       "      <td>https://rottentomatoes.com/m/the_super_mario_b...</td>\n",
       "    </tr>\n",
       "    <tr>\n",
       "      <th>83</th>\n",
       "      <td>The YouTube Effect</td>\n",
       "      <td>Opened Jul 07, 2023</td>\n",
       "      <td></td>\n",
       "      <td>88</td>\n",
       "      <td></td>\n",
       "      <td>positive</td>\n",
       "      <td>https://rottentomatoes.com/m/the_youtube_effect</td>\n",
       "    </tr>\n",
       "    <tr>\n",
       "      <th>84</th>\n",
       "      <td>Theater Camp</td>\n",
       "      <td>Opens Jul 14, 2023</td>\n",
       "      <td>73</td>\n",
       "      <td>80</td>\n",
       "      <td>positive</td>\n",
       "      <td>positive</td>\n",
       "      <td>https://rottentomatoes.com/m/theater_camp</td>\n",
       "    </tr>\n",
       "    <tr>\n",
       "      <th>85</th>\n",
       "      <td>Transformers: Rise of the Beasts</td>\n",
       "      <td>Opened Jun 09, 2023</td>\n",
       "      <td>91</td>\n",
       "      <td>53</td>\n",
       "      <td>positive</td>\n",
       "      <td>negative</td>\n",
       "      <td>https://rottentomatoes.com/m/transformers_rise...</td>\n",
       "    </tr>\n",
       "    <tr>\n",
       "      <th>86</th>\n",
       "      <td>Two Tickets to Greece</td>\n",
       "      <td>Opens Jul 14, 2023</td>\n",
       "      <td></td>\n",
       "      <td></td>\n",
       "      <td></td>\n",
       "      <td></td>\n",
       "      <td>https://rottentomatoes.com/m/two_tickets_to_gr...</td>\n",
       "    </tr>\n",
       "  </tbody>\n",
       "</table>\n",
       "<p>87 rows × 7 columns</p>\n",
       "</div>"
      ],
      "text/plain": [
       "                              titles            opendates audiencescore  \\\n",
       "0                20 Days in Mariupol   Opens Jul 14, 2023                 \n",
       "1                            7:11 PM  Opened Jul 07, 2023            96   \n",
       "2                    Bad Girl Boogey  Opened Jul 07, 2023                 \n",
       "3                              Belle   Opens Jul 14, 2023                 \n",
       "4                        Bhaag Saale  Opened Jul 07, 2023                 \n",
       "..                               ...                  ...           ...   \n",
       "82       The Super Mario Bros. Movie  Opened Apr 05, 2023            95   \n",
       "83                The YouTube Effect  Opened Jul 07, 2023                 \n",
       "84                      Theater Camp   Opens Jul 14, 2023            73   \n",
       "85  Transformers: Rise of the Beasts  Opened Jun 09, 2023            91   \n",
       "86             Two Tickets to Greece   Opens Jul 14, 2023                 \n",
       "\n",
       "   criticsscore audiencesentiment criticssentiment  \\\n",
       "0           100                           positive   \n",
       "1                        positive                    \n",
       "2            70                           positive   \n",
       "3                                                    \n",
       "4                                                    \n",
       "..          ...               ...              ...   \n",
       "82           58          positive         negative   \n",
       "83           88                           positive   \n",
       "84           80          positive         positive   \n",
       "85           53          positive         negative   \n",
       "86                                                   \n",
       "\n",
       "                                            endpoints  \n",
       "0    https://rottentomatoes.com/m/20_days_in_mariupol  \n",
       "1                https://rottentomatoes.com/m/7_11_pm  \n",
       "2        https://rottentomatoes.com/m/bad_girl_boogey  \n",
       "3             https://rottentomatoes.com/m/belle_2023  \n",
       "4            https://rottentomatoes.com/m/bhaag_saale  \n",
       "..                                                ...  \n",
       "82  https://rottentomatoes.com/m/the_super_mario_b...  \n",
       "83    https://rottentomatoes.com/m/the_youtube_effect  \n",
       "84          https://rottentomatoes.com/m/theater_camp  \n",
       "85  https://rottentomatoes.com/m/transformers_rise...  \n",
       "86  https://rottentomatoes.com/m/two_tickets_to_gr...  \n",
       "\n",
       "[87 rows x 7 columns]"
      ]
     },
     "execution_count": 16,
     "metadata": {},
     "output_type": "execute_result"
    }
   ],
   "source": [
    "mydict = {'titles': titles,\n",
    "         'opendates': opendates,\n",
    "         'audiencescore': audiencescore,\n",
    "         'criticsscore': criticsscore,\n",
    "         'audiencesentiment': audiencesentiment,\n",
    "         'criticssentiment': criticssentiment,\n",
    "          'endpoints': endpoints\n",
    "         }\n",
    "rt_df = pd.DataFrame(mydict)\n",
    "rt_df"
   ]
  },
  {
   "cell_type": "markdown",
   "id": "66d19bc0-1ec8-4802-a13b-04f96b555d36",
   "metadata": {},
   "source": [
    "## Spider"
   ]
  },
  {
   "cell_type": "code",
   "execution_count": 17,
   "id": "88ac27f1-c33c-4b91-a22c-4a34ff99ea4c",
   "metadata": {
    "tags": []
   },
   "outputs": [],
   "source": [
    "url = rt_df['endpoints'][0]"
   ]
  },
  {
   "cell_type": "code",
   "execution_count": 18,
   "id": "b66026fb-f8e4-400a-aa0d-89a5b9155c6f",
   "metadata": {
    "tags": []
   },
   "outputs": [],
   "source": [
    "r= requests.get(url, headers=headers)\n",
    "mysoup= BeautifulSoup(r.text)\n",
    "#mysoup"
   ]
  },
  {
   "cell_type": "code",
   "execution_count": 19,
   "id": "a1de4b9c-bca2-4f38-b891-39844bb1486d",
   "metadata": {
    "tags": []
   },
   "outputs": [
    {
     "data": {
      "text/plain": [
       "'Mstyslav Chernov'"
      ]
     },
     "execution_count": 19,
     "metadata": {},
     "output_type": "execute_result"
    }
   ],
   "source": [
    "json.loads(mysoup.find('script', type='application/ld+json').text)['director'][0]['name']"
   ]
  },
  {
   "cell_type": "code",
   "execution_count": 20,
   "id": "81378fc2-dde3-40de-8e9f-4d02f062e5ac",
   "metadata": {
    "tags": []
   },
   "outputs": [],
   "source": [
    "def myspider(url):\n",
    "    r= requests.get(url, headers=headers)\n",
    "    mysoup= BeautifulSoup(r.text)\n",
    "    director = json.loads(mysoup.find('script', type='application/ld+json').text)['director']\n",
    "    if len(director) >0:\n",
    "        name = director[0]['name']\n",
    "    else:\n",
    "        name = ''\n",
    "    return name\n"
   ]
  },
  {
   "cell_type": "code",
   "execution_count": 21,
   "id": "3e12cb45-b8a0-400e-be59-50bf44555e47",
   "metadata": {
    "tags": []
   },
   "outputs": [],
   "source": [
    "directors = []\n",
    "for m in rt_df['endpoints']:\n",
    "    directors = directors+ [myspider(m)]"
   ]
  },
  {
   "cell_type": "code",
   "execution_count": 22,
   "id": "50c925fd-815e-4c0f-9fd7-258200f00594",
   "metadata": {
    "tags": []
   },
   "outputs": [
    {
     "data": {
      "text/plain": [
       "['Mstyslav Chernov',\n",
       " 'Chaitu Madala',\n",
       " 'Alice Maio Mackay',\n",
       " 'Max Gold',\n",
       " 'Pranith Bramandapally',\n",
       " 'Georgia Oakley',\n",
       " 'Jean-Luc Godard',\n",
       " 'Roddy Bogawa',\n",
       " 'Emanuele Crialese',\n",
       " 'Rui Cui',\n",
       " 'Alexandre O. Philippe',\n",
       " 'Michelle Savill',\n",
       " 'Anu Menon',\n",
       " 'Kusanagi',\n",
       " 'Gary Matoso',\n",
       " 'Cathryne Czubek',\n",
       " 'Anthony Pun',\n",
       " 'Senna Hegde',\n",
       " 'Pawan Basamsetti',\n",
       " 'Ajay Samrat',\n",
       " 'Anton Corbijn',\n",
       " '',\n",
       " 'Leo Milano',\n",
       " 'Samuel D. Pollard',\n",
       " \"Thaddeus O'Sullivan\",\n",
       " 'Jean Eustache',\n",
       " 'Robin Hardy',\n",
       " 'Anthony Giordano',\n",
       " 'Béla Tarr',\n",
       " 'Chris Smith',\n",
       " 'Laura Terruso',\n",
       " 'Christian Petzold',\n",
       " 'Carolina Cavalli',\n",
       " 'Wes Anderson',\n",
       " 'Mel Eslyn',\n",
       " 'Hubert Davis',\n",
       " 'Manuela Martelli',\n",
       " 'Suzanne Raes',\n",
       " 'Mary Harron',\n",
       " 'Brian Skiba',\n",
       " 'Nancy Buirski',\n",
       " 'Savanah Leaf',\n",
       " 'Peter Sohn',\n",
       " 'Julie Cohen',\n",
       " 'Louis Leterrier',\n",
       " 'Michel Hazanavicius',\n",
       " 'Marcelo Galvão',\n",
       " 'Eric Gravel',\n",
       " 'James Gunn',\n",
       " 'James Mangold',\n",
       " 'Patrick Wilson',\n",
       " 'Sean Mullin',\n",
       " 'Adele Lim',\n",
       " 'Jesse Short Bull',\n",
       " 'Paul Schrader',\n",
       " 'Christopher McQuarrie',\n",
       " 'Gene Stupnitsky',\n",
       " 'Rebecca Zlotowski',\n",
       " 'Chris Chalk',\n",
       " 'Naoyoshi Shiotani',\n",
       " 'Celine Song',\n",
       " 'Alice Winocour',\n",
       " 'Kirk DeMicco',\n",
       " 'Pietro Marcello',\n",
       " 'Ray Romano',\n",
       " 'Alejandro Monteverde',\n",
       " 'Joaquim Dos Santos',\n",
       " 'Bomani J. Story',\n",
       " 'Tim Story',\n",
       " 'Rob Savage',\n",
       " 'William Kaufman',\n",
       " 'Park Hoon-jung',\n",
       " 'Francisca Alegría',\n",
       " 'Laura McGann',\n",
       " 'Andy Muschietti',\n",
       " 'Brandon Slagle',\n",
       " 'Alex Holmes',\n",
       " 'Alice Troughton',\n",
       " 'Rob Marshall',\n",
       " 'Keoni Waxman',\n",
       " 'Dominik Moll',\n",
       " 'Lee Sang-yong',\n",
       " 'Aaron Horvath',\n",
       " 'Alex Winter',\n",
       " 'Molly Gordon',\n",
       " 'Steven Caple Jr.',\n",
       " 'Marc Fitoussi']"
      ]
     },
     "execution_count": 22,
     "metadata": {},
     "output_type": "execute_result"
    }
   ],
   "source": [
    "directors"
   ]
  },
  {
   "cell_type": "code",
   "execution_count": null,
   "id": "21e256c2-5dc7-4d03-a5a5-6c1e3bb3d08b",
   "metadata": {},
   "outputs": [],
   "source": []
  }
 ],
 "metadata": {
  "kernelspec": {
   "display_name": "Python 3 (ipykernel)",
   "language": "python",
   "name": "python3"
  },
  "language_info": {
   "codemirror_mode": {
    "name": "ipython",
    "version": 3
   },
   "file_extension": ".py",
   "mimetype": "text/x-python",
   "name": "python",
   "nbconvert_exporter": "python",
   "pygments_lexer": "ipython3",
   "version": "3.10.11"
  }
 },
 "nbformat": 4,
 "nbformat_minor": 5
}

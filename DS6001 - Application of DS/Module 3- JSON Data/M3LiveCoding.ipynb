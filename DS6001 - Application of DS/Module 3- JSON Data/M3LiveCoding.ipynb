{
 "cells": [
  {
   "cell_type": "markdown",
   "id": "b67dfd1f-8a12-4f10-8995-3c7939c97415",
   "metadata": {},
   "source": [
    "# Live Coding - Module 3\n",
    "## Rachel Holman\n",
    "\n",
    "In this live coding session we will access three different datasets which we can access on the internet without having to supply any API keys or other credentials (we'll cover APIs with credentials next week).\n",
    "\n",
    "The goal is to examine the structure of the data, decide what is metadata and what constitutes the content of the dataframe we are trying to build, and to use the various tools available to us to convert the data to a pandas dataframe in our Python environment.\n",
    "\n",
    "We'll work on the following three examples together:\n",
    "\n",
    "1. [Cocktail recipes](https://www.thecocktaildb.com/api/json/v1/1/filter.php?c=Cocktail) from [The Cocktail DB](https://www.thecocktaildb.com/api.php)\n",
    "\n",
    "2. Data on the pages on [Wikipedia](https://en.wikipedia.org/w/index.php?search=Virginia&title=Special%3ASearch&fulltext=1&ns0=1) that pop up when searching for the term [\"Virginia\"](https://en.wikipedia.org/w/api.php?action=query&list=search&srsearch=Virginia&format=json&srlimit=500). (This search gets the first 500 hits, but there are 210391 results. If time, we will use the sroffset parameter described in the [API documentation](https://en.wikipedia.org/w/api.php?action=help&modules=query%2Bsearch) to get the full list)\n",
    "\n",
    "3. Articles from [NewsAPI.org](https://newsapi.org/docs/endpoints/everything). We will need to register for a [free API key](https://newsapi.org/docs/authentication) to be able to use this API. We'll talk about the best practices for storing API keys and keeping them secret during Module 4.\n"
   ]
  },
  {
   "cell_type": "code",
   "execution_count": 1,
   "id": "6562a045-b9f6-434e-9670-a06911f6a241",
   "metadata": {
    "tags": []
   },
   "outputs": [],
   "source": [
    "import numpy as np\n",
    "import pandas as pd\n",
    "import json\n",
    "import requests"
   ]
  },
  {
   "cell_type": "code",
   "execution_count": 2,
   "id": "8aaa29e1-001c-4207-aef1-1db293d70b73",
   "metadata": {
    "tags": []
   },
   "outputs": [
    {
     "data": {
      "text/plain": [
       "<Response [200]>"
      ]
     },
     "execution_count": 2,
     "metadata": {},
     "output_type": "execute_result"
    }
   ],
   "source": [
    "url = \"https://www.thecocktaildb.com/api/json/v1/1/filter.php?c=Cocktail\"\n",
    "r = requests.get(url)\n",
    "r  #response 200 means it worked without error!"
   ]
  },
  {
   "cell_type": "code",
   "execution_count": 3,
   "id": "e0fce777-91f7-482a-b97f-a7ecc6fe28c4",
   "metadata": {
    "tags": []
   },
   "outputs": [],
   "source": [
    "# output what was returned by the requests.get(): r.text\n",
    "# output in json format: json.loads(r.text)\n",
    "myjson = json.loads(r.text)"
   ]
  },
  {
   "cell_type": "code",
   "execution_count": 4,
   "id": "baba732c-a2d2-45c8-8078-5334417a38eb",
   "metadata": {
    "tags": []
   },
   "outputs": [
    {
     "data": {
      "text/plain": [
       "'155 Belmont'"
      ]
     },
     "execution_count": 4,
     "metadata": {},
     "output_type": "execute_result"
    }
   ],
   "source": [
    "# get drink name in first index of drinks\n",
    "myjson['drinks'][0]['strDrink']"
   ]
  },
  {
   "cell_type": "code",
   "execution_count": 5,
   "id": "8086535b-f736-4869-a322-e2f900879021",
   "metadata": {
    "tags": []
   },
   "outputs": [
    {
     "data": {
      "text/plain": [
       "[1, 2, 3, 4, 5]"
      ]
     },
     "execution_count": 5,
     "metadata": {},
     "output_type": "execute_result"
    }
   ],
   "source": [
    "numbers= [1,2,3,4,5]\n",
    "numbers"
   ]
  },
  {
   "cell_type": "code",
   "execution_count": 6,
   "id": "8d20c2fe-d312-43f3-8778-11e9add612ca",
   "metadata": {
    "tags": []
   },
   "outputs": [
    {
     "data": {
      "text/plain": [
       "[0.0,\n",
       " 1.7320508075688772,\n",
       " 2.8284271247461903,\n",
       " 3.872983346207417,\n",
       " 4.898979485566356]"
      ]
     },
     "execution_count": 6,
     "metadata": {},
     "output_type": "execute_result"
    }
   ],
   "source": [
    "# list comprehension\n",
    "# to square every number, subtract 1, and take sqrt:\n",
    "[np.sqrt(x**2 - 1)  for x in numbers]"
   ]
  },
  {
   "cell_type": "code",
   "execution_count": 7,
   "id": "e5e32c46-b937-436b-ba82-dad46403f2bc",
   "metadata": {
    "tags": []
   },
   "outputs": [
    {
     "data": {
      "text/plain": [
       "['155 Belmont',\n",
       " '57 Chevy with a White License Plate',\n",
       " '747 Drink',\n",
       " '9 1/2 Weeks',\n",
       " \"A Gilligan's Island\",\n",
       " 'A True Amaretto Sour',\n",
       " 'A.D.M. (After Dinner Mint)',\n",
       " 'A1',\n",
       " 'Abbey Martini',\n",
       " 'Absolut Summertime',\n",
       " 'Absolutely Fabulous',\n",
       " 'Absolutly Screwed Up',\n",
       " 'Ace',\n",
       " 'Adam & Eve',\n",
       " 'Addington',\n",
       " 'Addison',\n",
       " 'Addison Special',\n",
       " 'Adios Amigos Cocktail',\n",
       " 'Afterglow',\n",
       " 'Alice Cocktail',\n",
       " 'Amaretto fizz',\n",
       " 'Aperol Spritz',\n",
       " 'Apple Highball',\n",
       " 'Apple Karate',\n",
       " 'Applejack',\n",
       " 'Aquamarine',\n",
       " 'Arizona Stingers',\n",
       " 'Arizona Twister',\n",
       " 'Army special',\n",
       " 'Autumn Garibaldi',\n",
       " 'Aviation',\n",
       " 'Bahama Mama',\n",
       " 'Banana Cream Pi',\n",
       " \"Bee's Knees\",\n",
       " 'Bijou',\n",
       " 'Blue Hurricane',\n",
       " 'Blueberry Mojito',\n",
       " 'Bombay Cassis',\n",
       " 'Bora Bora',\n",
       " 'Boulevardier',\n",
       " 'Bounty Hunter',\n",
       " 'Brigadier',\n",
       " 'Broadside',\n",
       " 'Brooklyn',\n",
       " 'Butterfly Effect',\n",
       " \"Captain Kidd's Punch\",\n",
       " 'Cherry Electric Lemonade',\n",
       " 'Cocktail Horse’s Neck',\n",
       " 'Corn n Oil',\n",
       " 'Corpse Reviver',\n",
       " 'Cosmopolitan',\n",
       " 'Cosmopolitan Martini',\n",
       " 'Cream Soda',\n",
       " 'Dark Caipirinha',\n",
       " 'Death in the Afternoon',\n",
       " 'Dirty Martini',\n",
       " 'Dry Martini',\n",
       " \"Duchamp's Punch\",\n",
       " 'Elderflower Caipirinha',\n",
       " \"Empellón Cocina's Fat-Washed Mezcal\",\n",
       " 'Espresso Martini',\n",
       " 'Espresso Rumtini',\n",
       " 'Figgy Thyme',\n",
       " 'Flaming Lamborghini',\n",
       " 'French Martini',\n",
       " 'French Negroni',\n",
       " 'Frosé',\n",
       " 'Funk and Soul',\n",
       " 'Gagliardo',\n",
       " 'Garibaldi Negroni',\n",
       " 'Gimlet',\n",
       " 'Gin and Soda',\n",
       " 'Gin Basil Smash',\n",
       " 'Gin Lemon',\n",
       " 'Gin Rickey',\n",
       " 'Gin Tonic',\n",
       " 'Greyhound',\n",
       " 'Honey Bee',\n",
       " 'Hot Toddy',\n",
       " \"Hunter's Moon\",\n",
       " 'Imperial Cocktail',\n",
       " 'Irish Curdling Cow',\n",
       " 'Jitterbug',\n",
       " 'Kiwi Martini',\n",
       " 'Lazy Coconut Paloma',\n",
       " 'Lemon Drop',\n",
       " 'Lemon Elderflower Spritzer',\n",
       " 'Malibu Twister',\n",
       " 'Mango Mojito',\n",
       " 'Manhattan',\n",
       " 'Martinez 2',\n",
       " 'Martinez Cocktail',\n",
       " 'Martini',\n",
       " 'Mary Pickford',\n",
       " 'Mauresque',\n",
       " 'Miami Vice',\n",
       " 'Michelada',\n",
       " 'Midnight Mint',\n",
       " 'Mojito',\n",
       " 'Mojito Extra']"
      ]
     },
     "execution_count": 7,
     "metadata": {},
     "output_type": "execute_result"
    }
   ],
   "source": [
    "# print out name of drink for every drink in the json\n",
    "[d['strDrink'] for d in myjson['drinks']]"
   ]
  },
  {
   "cell_type": "code",
   "execution_count": 8,
   "id": "848b6377-b3f0-49fa-bcc0-cfc531a29d01",
   "metadata": {
    "tags": []
   },
   "outputs": [
    {
     "data": {
      "text/html": [
       "<div>\n",
       "<style scoped>\n",
       "    .dataframe tbody tr th:only-of-type {\n",
       "        vertical-align: middle;\n",
       "    }\n",
       "\n",
       "    .dataframe tbody tr th {\n",
       "        vertical-align: top;\n",
       "    }\n",
       "\n",
       "    .dataframe thead th {\n",
       "        text-align: right;\n",
       "    }\n",
       "</style>\n",
       "<table border=\"1\" class=\"dataframe\">\n",
       "  <thead>\n",
       "    <tr style=\"text-align: right;\">\n",
       "      <th></th>\n",
       "      <th>strDrink</th>\n",
       "      <th>strDrinkThumb</th>\n",
       "      <th>idDrink</th>\n",
       "    </tr>\n",
       "  </thead>\n",
       "  <tbody>\n",
       "    <tr>\n",
       "      <th>0</th>\n",
       "      <td>155 Belmont</td>\n",
       "      <td>https://www.thecocktaildb.com/images/media/dri...</td>\n",
       "      <td>15346</td>\n",
       "    </tr>\n",
       "    <tr>\n",
       "      <th>1</th>\n",
       "      <td>57 Chevy with a White License Plate</td>\n",
       "      <td>https://www.thecocktaildb.com/images/media/dri...</td>\n",
       "      <td>14029</td>\n",
       "    </tr>\n",
       "    <tr>\n",
       "      <th>2</th>\n",
       "      <td>747 Drink</td>\n",
       "      <td>https://www.thecocktaildb.com/images/media/dri...</td>\n",
       "      <td>178318</td>\n",
       "    </tr>\n",
       "    <tr>\n",
       "      <th>3</th>\n",
       "      <td>9 1/2 Weeks</td>\n",
       "      <td>https://www.thecocktaildb.com/images/media/dri...</td>\n",
       "      <td>16108</td>\n",
       "    </tr>\n",
       "    <tr>\n",
       "      <th>4</th>\n",
       "      <td>A Gilligan's Island</td>\n",
       "      <td>https://www.thecocktaildb.com/images/media/dri...</td>\n",
       "      <td>16943</td>\n",
       "    </tr>\n",
       "    <tr>\n",
       "      <th>...</th>\n",
       "      <td>...</td>\n",
       "      <td>...</td>\n",
       "      <td>...</td>\n",
       "    </tr>\n",
       "    <tr>\n",
       "      <th>95</th>\n",
       "      <td>Miami Vice</td>\n",
       "      <td>https://www.thecocktaildb.com/images/media/dri...</td>\n",
       "      <td>13936</td>\n",
       "    </tr>\n",
       "    <tr>\n",
       "      <th>96</th>\n",
       "      <td>Michelada</td>\n",
       "      <td>https://www.thecocktaildb.com/images/media/dri...</td>\n",
       "      <td>178343</td>\n",
       "    </tr>\n",
       "    <tr>\n",
       "      <th>97</th>\n",
       "      <td>Midnight Mint</td>\n",
       "      <td>https://www.thecocktaildb.com/images/media/dri...</td>\n",
       "      <td>14842</td>\n",
       "    </tr>\n",
       "    <tr>\n",
       "      <th>98</th>\n",
       "      <td>Mojito</td>\n",
       "      <td>https://www.thecocktaildb.com/images/media/dri...</td>\n",
       "      <td>11000</td>\n",
       "    </tr>\n",
       "    <tr>\n",
       "      <th>99</th>\n",
       "      <td>Mojito Extra</td>\n",
       "      <td>https://www.thecocktaildb.com/images/media/dri...</td>\n",
       "      <td>15841</td>\n",
       "    </tr>\n",
       "  </tbody>\n",
       "</table>\n",
       "<p>100 rows × 3 columns</p>\n",
       "</div>"
      ],
      "text/plain": [
       "                               strDrink  \\\n",
       "0                           155 Belmont   \n",
       "1   57 Chevy with a White License Plate   \n",
       "2                             747 Drink   \n",
       "3                           9 1/2 Weeks   \n",
       "4                   A Gilligan's Island   \n",
       "..                                  ...   \n",
       "95                           Miami Vice   \n",
       "96                            Michelada   \n",
       "97                        Midnight Mint   \n",
       "98                               Mojito   \n",
       "99                         Mojito Extra   \n",
       "\n",
       "                                        strDrinkThumb idDrink  \n",
       "0   https://www.thecocktaildb.com/images/media/dri...   15346  \n",
       "1   https://www.thecocktaildb.com/images/media/dri...   14029  \n",
       "2   https://www.thecocktaildb.com/images/media/dri...  178318  \n",
       "3   https://www.thecocktaildb.com/images/media/dri...   16108  \n",
       "4   https://www.thecocktaildb.com/images/media/dri...   16943  \n",
       "..                                                ...     ...  \n",
       "95  https://www.thecocktaildb.com/images/media/dri...   13936  \n",
       "96  https://www.thecocktaildb.com/images/media/dri...  178343  \n",
       "97  https://www.thecocktaildb.com/images/media/dri...   14842  \n",
       "98  https://www.thecocktaildb.com/images/media/dri...   11000  \n",
       "99  https://www.thecocktaildb.com/images/media/dri...   15841  \n",
       "\n",
       "[100 rows x 3 columns]"
      ]
     },
     "execution_count": 8,
     "metadata": {},
     "output_type": "execute_result"
    }
   ],
   "source": [
    "# for making a json dataset \n",
    "pd.json_normalize(myjson, record_path=['drinks'])"
   ]
  },
  {
   "cell_type": "code",
   "execution_count": 9,
   "id": "f192e06b-48dc-4fdb-b179-5467a5acfb39",
   "metadata": {
    "tags": []
   },
   "outputs": [
    {
     "data": {
      "text/plain": [
       "<Response [200]>"
      ]
     },
     "execution_count": 9,
     "metadata": {},
     "output_type": "execute_result"
    }
   ],
   "source": [
    "url = 'https://en.wikipedia.org/w/api.php?action=query&list=search&srsearch=Virginia&format=json&srlimit=500'\n",
    "r = requests.get(url)\n",
    "r"
   ]
  },
  {
   "cell_type": "code",
   "execution_count": 10,
   "id": "99e09e7a-7afc-457b-b25e-10912c6c69fd",
   "metadata": {
    "tags": []
   },
   "outputs": [],
   "source": [
    "myjson = json.loads(r.text)\n",
    "#myjson"
   ]
  },
  {
   "cell_type": "code",
   "execution_count": 11,
   "id": "88c70e77-3200-4bc2-baaa-8fe8c599a89c",
   "metadata": {
    "tags": []
   },
   "outputs": [
    {
     "data": {
      "text/html": [
       "<div>\n",
       "<style scoped>\n",
       "    .dataframe tbody tr th:only-of-type {\n",
       "        vertical-align: middle;\n",
       "    }\n",
       "\n",
       "    .dataframe tbody tr th {\n",
       "        vertical-align: top;\n",
       "    }\n",
       "\n",
       "    .dataframe thead th {\n",
       "        text-align: right;\n",
       "    }\n",
       "</style>\n",
       "<table border=\"1\" class=\"dataframe\">\n",
       "  <thead>\n",
       "    <tr style=\"text-align: right;\">\n",
       "      <th></th>\n",
       "      <th>ns</th>\n",
       "      <th>title</th>\n",
       "      <th>pageid</th>\n",
       "      <th>size</th>\n",
       "      <th>wordcount</th>\n",
       "      <th>snippet</th>\n",
       "      <th>timestamp</th>\n",
       "    </tr>\n",
       "  </thead>\n",
       "  <tbody>\n",
       "    <tr>\n",
       "      <th>0</th>\n",
       "      <td>0</td>\n",
       "      <td>Virginia</td>\n",
       "      <td>32432</td>\n",
       "      <td>299870</td>\n",
       "      <td>26084</td>\n",
       "      <td>&lt;span class=\"searchmatch\"&gt;Virginia&lt;/span&gt;, off...</td>\n",
       "      <td>2023-06-27T14:42:03Z</td>\n",
       "    </tr>\n",
       "    <tr>\n",
       "      <th>1</th>\n",
       "      <td>0</td>\n",
       "      <td>West Virginia</td>\n",
       "      <td>32905</td>\n",
       "      <td>183464</td>\n",
       "      <td>17649</td>\n",
       "      <td>&lt;span class=\"searchmatch\"&gt;Virginia&lt;/span&gt; is a...</td>\n",
       "      <td>2023-06-25T23:50:52Z</td>\n",
       "    </tr>\n",
       "    <tr>\n",
       "      <th>2</th>\n",
       "      <td>0</td>\n",
       "      <td>Virginia Beach, Virginia</td>\n",
       "      <td>91239</td>\n",
       "      <td>141238</td>\n",
       "      <td>12558</td>\n",
       "      <td>&lt;span class=\"searchmatch\"&gt;Virginia&lt;/span&gt; Beac...</td>\n",
       "      <td>2023-06-27T02:07:26Z</td>\n",
       "    </tr>\n",
       "    <tr>\n",
       "      <th>3</th>\n",
       "      <td>0</td>\n",
       "      <td>Virginia Woolf</td>\n",
       "      <td>32742</td>\n",
       "      <td>331505</td>\n",
       "      <td>31948</td>\n",
       "      <td>Adeline &lt;span class=\"searchmatch\"&gt;Virginia&lt;/sp...</td>\n",
       "      <td>2023-06-26T16:46:32Z</td>\n",
       "    </tr>\n",
       "    <tr>\n",
       "      <th>4</th>\n",
       "      <td>0</td>\n",
       "      <td>Virgínia</td>\n",
       "      <td>1392216</td>\n",
       "      <td>2035</td>\n",
       "      <td>26</td>\n",
       "      <td>&lt;span class=\"searchmatch\"&gt;Virgínia&lt;/span&gt; is a...</td>\n",
       "      <td>2022-01-27T06:45:35Z</td>\n",
       "    </tr>\n",
       "    <tr>\n",
       "      <th>...</th>\n",
       "      <td>...</td>\n",
       "      <td>...</td>\n",
       "      <td>...</td>\n",
       "      <td>...</td>\n",
       "      <td>...</td>\n",
       "      <td>...</td>\n",
       "      <td>...</td>\n",
       "    </tr>\n",
       "    <tr>\n",
       "      <th>495</th>\n",
       "      <td>0</td>\n",
       "      <td>Ballston, Arlington, Virginia</td>\n",
       "      <td>603147</td>\n",
       "      <td>22831</td>\n",
       "      <td>1764</td>\n",
       "      <td>Ballston is a neighborhood in Arlington County...</td>\n",
       "      <td>2023-06-24T15:59:04Z</td>\n",
       "    </tr>\n",
       "    <tr>\n",
       "      <th>496</th>\n",
       "      <td>0</td>\n",
       "      <td>Christiansburg, Virginia</td>\n",
       "      <td>137687</td>\n",
       "      <td>28407</td>\n",
       "      <td>3282</td>\n",
       "      <td>Christiansburg (formerly Hans Meadows) is a to...</td>\n",
       "      <td>2023-06-12T19:22:16Z</td>\n",
       "    </tr>\n",
       "    <tr>\n",
       "      <th>497</th>\n",
       "      <td>0</td>\n",
       "      <td>Petersburg, Virginia</td>\n",
       "      <td>91268</td>\n",
       "      <td>78607</td>\n",
       "      <td>8248</td>\n",
       "      <td>Petersburg is an independent city in the Commo...</td>\n",
       "      <td>2023-06-16T16:07:00Z</td>\n",
       "    </tr>\n",
       "    <tr>\n",
       "      <th>498</th>\n",
       "      <td>0</td>\n",
       "      <td>1964 United States presidential election in Vi...</td>\n",
       "      <td>43161140</td>\n",
       "      <td>77986</td>\n",
       "      <td>1368</td>\n",
       "      <td>The 1964 United States presidential election i...</td>\n",
       "      <td>2023-06-27T05:19:41Z</td>\n",
       "    </tr>\n",
       "    <tr>\n",
       "      <th>499</th>\n",
       "      <td>0</td>\n",
       "      <td>Virginia Declaration of Rights</td>\n",
       "      <td>225550</td>\n",
       "      <td>21313</td>\n",
       "      <td>2681</td>\n",
       "      <td>The &lt;span class=\"searchmatch\"&gt;Virginia&lt;/span&gt; ...</td>\n",
       "      <td>2022-10-11T01:37:02Z</td>\n",
       "    </tr>\n",
       "  </tbody>\n",
       "</table>\n",
       "<p>500 rows × 7 columns</p>\n",
       "</div>"
      ],
      "text/plain": [
       "     ns                                              title    pageid    size  \\\n",
       "0     0                                           Virginia     32432  299870   \n",
       "1     0                                      West Virginia     32905  183464   \n",
       "2     0                           Virginia Beach, Virginia     91239  141238   \n",
       "3     0                                     Virginia Woolf     32742  331505   \n",
       "4     0                                           Virgínia   1392216    2035   \n",
       "..   ..                                                ...       ...     ...   \n",
       "495   0                      Ballston, Arlington, Virginia    603147   22831   \n",
       "496   0                           Christiansburg, Virginia    137687   28407   \n",
       "497   0                               Petersburg, Virginia     91268   78607   \n",
       "498   0  1964 United States presidential election in Vi...  43161140   77986   \n",
       "499   0                     Virginia Declaration of Rights    225550   21313   \n",
       "\n",
       "     wordcount                                            snippet  \\\n",
       "0        26084  <span class=\"searchmatch\">Virginia</span>, off...   \n",
       "1        17649  <span class=\"searchmatch\">Virginia</span> is a...   \n",
       "2        12558  <span class=\"searchmatch\">Virginia</span> Beac...   \n",
       "3        31948  Adeline <span class=\"searchmatch\">Virginia</sp...   \n",
       "4           26  <span class=\"searchmatch\">Virgínia</span> is a...   \n",
       "..         ...                                                ...   \n",
       "495       1764  Ballston is a neighborhood in Arlington County...   \n",
       "496       3282  Christiansburg (formerly Hans Meadows) is a to...   \n",
       "497       8248  Petersburg is an independent city in the Commo...   \n",
       "498       1368  The 1964 United States presidential election i...   \n",
       "499       2681  The <span class=\"searchmatch\">Virginia</span> ...   \n",
       "\n",
       "                timestamp  \n",
       "0    2023-06-27T14:42:03Z  \n",
       "1    2023-06-25T23:50:52Z  \n",
       "2    2023-06-27T02:07:26Z  \n",
       "3    2023-06-26T16:46:32Z  \n",
       "4    2022-01-27T06:45:35Z  \n",
       "..                    ...  \n",
       "495  2023-06-24T15:59:04Z  \n",
       "496  2023-06-12T19:22:16Z  \n",
       "497  2023-06-16T16:07:00Z  \n",
       "498  2023-06-27T05:19:41Z  \n",
       "499  2022-10-11T01:37:02Z  \n",
       "\n",
       "[500 rows x 7 columns]"
      ]
     },
     "execution_count": 11,
     "metadata": {},
     "output_type": "execute_result"
    }
   ],
   "source": [
    "wikidf = pd.json_normalize(myjson, record_path = ['query', 'search'])\n",
    "wikidf"
   ]
  },
  {
   "cell_type": "code",
   "execution_count": 12,
   "id": "45c2a572-9667-42e8-aafe-6c3052541ac5",
   "metadata": {
    "tags": []
   },
   "outputs": [
    {
     "data": {
      "text/plain": [
       "<Response [200]>"
      ]
     },
     "execution_count": 12,
     "metadata": {},
     "output_type": "execute_result"
    }
   ],
   "source": [
    "# harder example\n",
    "# don't do this! in the future, don't paste your API key in your code like this:\n",
    "apikey = \"38d9de88dc9d4dc09c5764977a193672\"\n",
    "url = 'https://newsapi.org/v2/everything'\n",
    "parameters = {'apiKey': apikey, \n",
    "             'q': 'hasbulla'} #search parameter\n",
    "r= requests.get(url, params=parameters)\n",
    "r"
   ]
  },
  {
   "cell_type": "code",
   "execution_count": 13,
   "id": "9ad7b3f0-b225-4a06-9f81-b6e2d76e0293",
   "metadata": {
    "tags": []
   },
   "outputs": [],
   "source": [
    "myjson = json.loads(r.text)"
   ]
  },
  {
   "cell_type": "code",
   "execution_count": 14,
   "id": "6dc2c42b-08f5-4597-be4a-7ff21b2d49b6",
   "metadata": {
    "tags": []
   },
   "outputs": [
    {
     "data": {
      "text/plain": [
       "[{'source': {'id': None, 'name': 'Huffingtonpost.es'},\n",
       "  'author': 'Sergio Coto',\n",
       "  'title': 'Le manda esta imagen a su madre, le pregunta si sabe quién es y la continuación es ORO',\n",
       "  'description': '<![CDATA[<p>Las conversaciones de WhatsApp han aparecido para cambiarlo la forma de comunicarse, pero, por si fuera poco, también se han convertido en un arma de doble filo por las bromas y los memes que se acaban compartiendo y que terminan en redes sociales…',\n",
       "  'url': 'https://www.huffingtonpost.es/virales/le-manda-imagen-madre-le-pregunta-continuacion-oro.html',\n",
       "  'urlToImage': 'https://img.huffingtonpost.es/files/og_thumbnail/uploads/2023/06/24/imagen-de-la-conversacion.jpeg',\n",
       "  'publishedAt': '2023-06-24T10:53:11Z',\n",
       "  'content': 'Las conversaciones de WhatsApp han aparecido para cambiarlo la forma de comunicarse, pero, por si fuera poco, también se han convertido en un arma de doble filo por las bromas y los memes que se acab… [+1240 chars]'},\n",
       " {'source': {'id': None, 'name': 'Clarion Ledger'},\n",
       "  'author': 'Mississippi Clarion Ledger, David Eckert, Mississippi Clarion Ledger',\n",
       "  'title': 'Ole Miss says goodbye to rivalry with Vanderbilt football with wild video',\n",
       "  'description': \"See Ole Miss football's tribute to its rivalry with Vanderbilt that won't be on the 2024 SEC schedule.\",\n",
       "  'url': 'https://www.clarionledger.com/story/sports/college/ole-miss/2023/06/15/ole-miss-football-sec-schedule-release-vanderbilt-video-memes-lane-kiffin/70326945007/',\n",
       "  'urlToImage': 'https://www.gannett-cdn.com/presto/2021/11/21/PJAM/928a4165-b271-4b42-97d1-db8f373b1111-AP21325156477323.jpg?auto=webp&crop=4629,2604,x0,y235&format=pjpg&width=1200',\n",
       "  'publishedAt': '2023-06-15T20:05:13Z',\n",
       "  'content': \"OXFORD The social media teams around the SEC got creative with their content in response to the conference's 2024 schedule release on Wednesday. Mississippi State gifted us an AI-generated gator dres… [+1056 chars]\"},\n",
       " {'source': {'id': 'marca', 'name': 'Marca'},\n",
       "  'author': 'marca.com',\n",
       "  'title': 'Prime Tyson Fury or prime Mike Tyson? Evander Holyfield makes his pick',\n",
       "  'description': 'Tyson Fury and Mike Tyson are two names that will forever by synonymous with the boxing world, and sport in general. \\nTheir names carry significant weight and command a certain lev',\n",
       "  'url': 'https://www.marca.com/en/boxing/2023/06/19/64904840ca474128368b45c3.html',\n",
       "  'urlToImage': 'https://phantom-marca.unidadeditorial.es/10648f392870659578f164b49c9e9019/resize/1200/f/jpg/assets/multimedia/imagenes/2023/06/19/16871774398550.jpg',\n",
       "  'publishedAt': '2023-06-19T12:25:04Z',\n",
       "  'content': 'Tyson Fury and Mike Tyson are two names that will forever by synonymous with the boxing world, and sport in general. \\r\\nTheir names carry significant weight and command a certain level of respect in a… [+1457 chars]'},\n",
       " {'source': {'id': None, 'name': 'Www.abc.es'},\n",
       "  'author': '(abc)',\n",
       "  'title': 'El Barça se redime de sus pecados',\n",
       "  'description': 'PESTAÑA unicaja-barcelona-semis-tercero-acb22/23 Crónica 4 El Barcelona al fin tuvo fe ante la dificultad. Tras un partido de intensidad máxima en Málaga, los azulgranas sacaron a relucir todo su coraje y calidad en el último cuarto para acabar cerrando el du…',\n",
       "  'url': 'https://www.abc.es/deportes/baloncesto/barca-redime-pecados-20230611204558-nt.html',\n",
       "  'urlToImage': 'https://s2.abcstatics.com/abc/www/multimedia/deportes/2023/06/11/niko_20230611203815-U62070467254sYd-1024x512@abc.jpg',\n",
       "  'publishedAt': '2023-06-11T18:45:58Z',\n",
       "  'content': 'El Barcelona al fin tuvo fe ante la dificultad. Tras un partido de intensidad máxima en Málaga, los azulgranas sacaron a relucir todo su coraje y calidad en el último cuarto para acabar cerrando el d… [+2723 chars]'}]"
      ]
     },
     "execution_count": 14,
     "metadata": {},
     "output_type": "execute_result"
    }
   ],
   "source": [
    "myjson['articles']"
   ]
  },
  {
   "cell_type": "code",
   "execution_count": 15,
   "id": "8d86b3b8-8429-42a8-a02b-088d39ea2896",
   "metadata": {
    "tags": []
   },
   "outputs": [
    {
     "data": {
      "text/html": [
       "<div>\n",
       "<style scoped>\n",
       "    .dataframe tbody tr th:only-of-type {\n",
       "        vertical-align: middle;\n",
       "    }\n",
       "\n",
       "    .dataframe tbody tr th {\n",
       "        vertical-align: top;\n",
       "    }\n",
       "\n",
       "    .dataframe thead th {\n",
       "        text-align: right;\n",
       "    }\n",
       "</style>\n",
       "<table border=\"1\" class=\"dataframe\">\n",
       "  <thead>\n",
       "    <tr style=\"text-align: right;\">\n",
       "      <th></th>\n",
       "      <th>author</th>\n",
       "      <th>title</th>\n",
       "      <th>description</th>\n",
       "      <th>url</th>\n",
       "      <th>urlToImage</th>\n",
       "      <th>publishedAt</th>\n",
       "      <th>content</th>\n",
       "      <th>source.id</th>\n",
       "      <th>source.name</th>\n",
       "    </tr>\n",
       "  </thead>\n",
       "  <tbody>\n",
       "    <tr>\n",
       "      <th>0</th>\n",
       "      <td>Sergio Coto</td>\n",
       "      <td>Le manda esta imagen a su madre, le pregunta s...</td>\n",
       "      <td>&lt;![CDATA[&lt;p&gt;Las conversaciones de WhatsApp han...</td>\n",
       "      <td>https://www.huffingtonpost.es/virales/le-manda...</td>\n",
       "      <td>https://img.huffingtonpost.es/files/og_thumbna...</td>\n",
       "      <td>2023-06-24T10:53:11Z</td>\n",
       "      <td>Las conversaciones de WhatsApp han aparecido p...</td>\n",
       "      <td>None</td>\n",
       "      <td>Huffingtonpost.es</td>\n",
       "    </tr>\n",
       "    <tr>\n",
       "      <th>1</th>\n",
       "      <td>Mississippi Clarion Ledger, David Eckert, Miss...</td>\n",
       "      <td>Ole Miss says goodbye to rivalry with Vanderbi...</td>\n",
       "      <td>See Ole Miss football's tribute to its rivalry...</td>\n",
       "      <td>https://www.clarionledger.com/story/sports/col...</td>\n",
       "      <td>https://www.gannett-cdn.com/presto/2021/11/21/...</td>\n",
       "      <td>2023-06-15T20:05:13Z</td>\n",
       "      <td>OXFORD The social media teams around the SEC g...</td>\n",
       "      <td>None</td>\n",
       "      <td>Clarion Ledger</td>\n",
       "    </tr>\n",
       "    <tr>\n",
       "      <th>2</th>\n",
       "      <td>marca.com</td>\n",
       "      <td>Prime Tyson Fury or prime Mike Tyson? Evander ...</td>\n",
       "      <td>Tyson Fury and Mike Tyson are two names that w...</td>\n",
       "      <td>https://www.marca.com/en/boxing/2023/06/19/649...</td>\n",
       "      <td>https://phantom-marca.unidadeditorial.es/10648...</td>\n",
       "      <td>2023-06-19T12:25:04Z</td>\n",
       "      <td>Tyson Fury and Mike Tyson are two names that w...</td>\n",
       "      <td>marca</td>\n",
       "      <td>Marca</td>\n",
       "    </tr>\n",
       "    <tr>\n",
       "      <th>3</th>\n",
       "      <td>(abc)</td>\n",
       "      <td>El Barça se redime de sus pecados</td>\n",
       "      <td>PESTAÑA unicaja-barcelona-semis-tercero-acb22/...</td>\n",
       "      <td>https://www.abc.es/deportes/baloncesto/barca-r...</td>\n",
       "      <td>https://s2.abcstatics.com/abc/www/multimedia/d...</td>\n",
       "      <td>2023-06-11T18:45:58Z</td>\n",
       "      <td>El Barcelona al fin tuvo fe ante la dificultad...</td>\n",
       "      <td>None</td>\n",
       "      <td>Www.abc.es</td>\n",
       "    </tr>\n",
       "  </tbody>\n",
       "</table>\n",
       "</div>"
      ],
      "text/plain": [
       "                                              author  \\\n",
       "0                                        Sergio Coto   \n",
       "1  Mississippi Clarion Ledger, David Eckert, Miss...   \n",
       "2                                          marca.com   \n",
       "3                                              (abc)   \n",
       "\n",
       "                                               title  \\\n",
       "0  Le manda esta imagen a su madre, le pregunta s...   \n",
       "1  Ole Miss says goodbye to rivalry with Vanderbi...   \n",
       "2  Prime Tyson Fury or prime Mike Tyson? Evander ...   \n",
       "3                  El Barça se redime de sus pecados   \n",
       "\n",
       "                                         description  \\\n",
       "0  <![CDATA[<p>Las conversaciones de WhatsApp han...   \n",
       "1  See Ole Miss football's tribute to its rivalry...   \n",
       "2  Tyson Fury and Mike Tyson are two names that w...   \n",
       "3  PESTAÑA unicaja-barcelona-semis-tercero-acb22/...   \n",
       "\n",
       "                                                 url  \\\n",
       "0  https://www.huffingtonpost.es/virales/le-manda...   \n",
       "1  https://www.clarionledger.com/story/sports/col...   \n",
       "2  https://www.marca.com/en/boxing/2023/06/19/649...   \n",
       "3  https://www.abc.es/deportes/baloncesto/barca-r...   \n",
       "\n",
       "                                          urlToImage           publishedAt  \\\n",
       "0  https://img.huffingtonpost.es/files/og_thumbna...  2023-06-24T10:53:11Z   \n",
       "1  https://www.gannett-cdn.com/presto/2021/11/21/...  2023-06-15T20:05:13Z   \n",
       "2  https://phantom-marca.unidadeditorial.es/10648...  2023-06-19T12:25:04Z   \n",
       "3  https://s2.abcstatics.com/abc/www/multimedia/d...  2023-06-11T18:45:58Z   \n",
       "\n",
       "                                             content source.id  \\\n",
       "0  Las conversaciones de WhatsApp han aparecido p...      None   \n",
       "1  OXFORD The social media teams around the SEC g...      None   \n",
       "2  Tyson Fury and Mike Tyson are two names that w...     marca   \n",
       "3  El Barcelona al fin tuvo fe ante la dificultad...      None   \n",
       "\n",
       "         source.name  \n",
       "0  Huffingtonpost.es  \n",
       "1     Clarion Ledger  \n",
       "2              Marca  \n",
       "3         Www.abc.es  "
      ]
     },
     "execution_count": 15,
     "metadata": {},
     "output_type": "execute_result"
    }
   ],
   "source": [
    "pd.json_normalize(myjson, record_path=['articles'])"
   ]
  },
  {
   "cell_type": "code",
   "execution_count": null,
   "id": "398a10d5-133d-4e55-938a-33a3f00f58e0",
   "metadata": {},
   "outputs": [],
   "source": []
  }
 ],
 "metadata": {
  "kernelspec": {
   "display_name": "Python 3 (ipykernel)",
   "language": "python",
   "name": "python3"
  },
  "language_info": {
   "codemirror_mode": {
    "name": "ipython",
    "version": 3
   },
   "file_extension": ".py",
   "mimetype": "text/x-python",
   "name": "python",
   "nbconvert_exporter": "python",
   "pygments_lexer": "ipython3",
   "version": "3.10.11"
  }
 },
 "nbformat": 4,
 "nbformat_minor": 5
}
